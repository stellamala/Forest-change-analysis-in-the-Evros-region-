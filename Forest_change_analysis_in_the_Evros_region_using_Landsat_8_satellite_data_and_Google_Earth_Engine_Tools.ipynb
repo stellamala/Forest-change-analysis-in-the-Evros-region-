{
  "nbformat": 4,
  "nbformat_minor": 0,
  "metadata": {
    "colab": {
      "provenance": [],
      "collapsed_sections": [
        "xUr8JPvwawbm",
        "6b_dnb2MiGb-",
        "eOeAcPf3X9W6",
        "c3DQ_lNkX_Jo",
        "LvUKQI68zh7y",
        "9169G6rl-dQK",
        "q4956VpQ-pgp"
      ]
    },
    "kernelspec": {
      "name": "python3",
      "display_name": "Python 3"
    },
    "language_info": {
      "name": "python"
    },
    "widgets": {
      "application/vnd.jupyter.widget-state+json": {
        "0f8fc0ed476d46dc9913dffbb3b74d44": {
          "model_module": "jupyter-leaflet",
          "model_name": "LeafletMapModel",
          "model_module_version": "^0.18",
          "state": {
            "_dom_classes": [],
            "_model_module": "jupyter-leaflet",
            "_model_module_version": "^0.18",
            "_model_name": "LeafletMapModel",
            "_view_count": null,
            "_view_module": "jupyter-leaflet",
            "_view_module_version": "^0.18",
            "_view_name": "LeafletMapView",
            "bottom": 49310,
            "bounce_at_zoom_limits": true,
            "box_zoom": true,
            "center": [
              41.27367811566259,
              26.32736206054688
            ],
            "close_popup_on_click": true,
            "controls": [
              "IPY_MODEL_78537e30ab66400995f2384ca456e30c",
              "IPY_MODEL_9893411ac7df4d3599073fb91f091365",
              "IPY_MODEL_2003add5d80746f697856ec2fc5985fd",
              "IPY_MODEL_8a57be24cf4d40778d52a4afc8c61d3f",
              "IPY_MODEL_978885f32ead48a3a819505d5f653187",
              "IPY_MODEL_c8288cced50341eaa1d71de03d85058f",
              "IPY_MODEL_cec136d48a3e414c9428f3b3cc6e0304",
              "IPY_MODEL_88827b5d39f742c2a823cb5c8860614e",
              "IPY_MODEL_1c35481c88654e8aa5628e1203c2b422"
            ],
            "crs": {
              "name": "EPSG3857",
              "custom": false
            },
            "default_style": "IPY_MODEL_7d2b7813c5b44bd284dc1d52bdea580e",
            "double_click_zoom": true,
            "dragging": true,
            "dragging_style": "IPY_MODEL_1eb56c01b89c4de9b868cba32a440d66",
            "east": 28.424377441406254,
            "fullscreen": false,
            "inertia": true,
            "inertia_deceleration": 3000,
            "inertia_max_speed": 1500,
            "interpolation": "bilinear",
            "keyboard": true,
            "keyboard_pan_offset": 80,
            "keyboard_zoom_offset": 1,
            "layers": [
              "IPY_MODEL_8dad75ef96ca459fb0c79568fe649534",
              "IPY_MODEL_226932e8ca8a417ab1ba8bd8ee229077",
              "IPY_MODEL_2ac89ef400744f50a0432a6c70a729ad",
              "IPY_MODEL_4ef39e4debc34a6cba7a3018b9c2edb3"
            ],
            "layout": "IPY_MODEL_70750f79e1d24eb2b8779979728330dc",
            "left": 74358,
            "max_zoom": 24,
            "min_zoom": null,
            "modisdate": "2024-06-25",
            "north": 41.89001042401827,
            "options": [
              "bounce_at_zoom_limits",
              "box_zoom",
              "center",
              "close_popup_on_click",
              "double_click_zoom",
              "dragging",
              "fullscreen",
              "inertia",
              "inertia_deceleration",
              "inertia_max_speed",
              "interpolation",
              "keyboard",
              "keyboard_pan_offset",
              "keyboard_zoom_offset",
              "max_zoom",
              "min_zoom",
              "prefer_canvas",
              "scroll_wheel_zoom",
              "tap",
              "tap_tolerance",
              "touch_zoom",
              "world_copy_jump",
              "zoom",
              "zoom_animation_threshold",
              "zoom_delta",
              "zoom_snap"
            ],
            "panes": {},
            "prefer_canvas": false,
            "right": 75885,
            "scroll_wheel_zoom": true,
            "south": 40.65147128144057,
            "style": "IPY_MODEL_7d2b7813c5b44bd284dc1d52bdea580e",
            "tap": true,
            "tap_tolerance": 15,
            "top": 48710,
            "touch_zoom": true,
            "west": 24.230346679687504,
            "window_url": "https://20fujqusz7f-496ff2e9c6d22116-0-colab.googleusercontent.com/outputframe.html?vrz=colab_20240625-060120_RC01_646520897",
            "world_copy_jump": false,
            "zoom": 9,
            "zoom_animation_threshold": 4,
            "zoom_delta": 1,
            "zoom_snap": 1
          }
        },
        "78537e30ab66400995f2384ca456e30c": {
          "model_module": "jupyter-leaflet",
          "model_name": "LeafletWidgetControlModel",
          "model_module_version": "^0.18",
          "state": {
            "_model_module": "jupyter-leaflet",
            "_model_module_version": "^0.18",
            "_model_name": "LeafletWidgetControlModel",
            "_view_count": null,
            "_view_module": "jupyter-leaflet",
            "_view_module_version": "^0.18",
            "_view_name": "LeafletWidgetControlView",
            "max_height": null,
            "max_width": null,
            "min_height": null,
            "min_width": null,
            "options": [
              "position",
              "transparent_bg"
            ],
            "position": "topleft",
            "transparent_bg": false,
            "widget": "IPY_MODEL_51a64ea48574432b8701098d17be3ac1"
          }
        },
        "9893411ac7df4d3599073fb91f091365": {
          "model_module": "jupyter-leaflet",
          "model_name": "LeafletZoomControlModel",
          "model_module_version": "^0.18",
          "state": {
            "_model_module": "jupyter-leaflet",
            "_model_module_version": "^0.18",
            "_model_name": "LeafletZoomControlModel",
            "_view_count": null,
            "_view_module": "jupyter-leaflet",
            "_view_module_version": "^0.18",
            "_view_name": "LeafletZoomControlView",
            "options": [
              "position",
              "zoom_in_text",
              "zoom_in_title",
              "zoom_out_text",
              "zoom_out_title"
            ],
            "position": "topleft",
            "zoom_in_text": "+",
            "zoom_in_title": "Zoom in",
            "zoom_out_text": "-",
            "zoom_out_title": "Zoom out"
          }
        },
        "2003add5d80746f697856ec2fc5985fd": {
          "model_module": "jupyter-leaflet",
          "model_name": "LeafletFullScreenControlModel",
          "model_module_version": "^0.18",
          "state": {
            "_model_module": "jupyter-leaflet",
            "_model_module_version": "^0.18",
            "_model_name": "LeafletFullScreenControlModel",
            "_view_count": null,
            "_view_module": "jupyter-leaflet",
            "_view_module_version": "^0.18",
            "_view_name": "LeafletFullScreenControlView",
            "options": [
              "position"
            ],
            "position": "topleft"
          }
        },
        "8a57be24cf4d40778d52a4afc8c61d3f": {
          "model_module": "jupyter-leaflet",
          "model_name": "LeafletDrawControlModel",
          "model_module_version": "^0.18",
          "state": {
            "_model_module": "jupyter-leaflet",
            "_model_module_version": "^0.18",
            "_model_name": "LeafletDrawControlModel",
            "_view_count": null,
            "_view_module": "jupyter-leaflet",
            "_view_module_version": "^0.18",
            "_view_name": "LeafletDrawControlView",
            "circle": {},
            "circlemarker": {},
            "data": [],
            "edit": true,
            "marker": {
              "shapeOptions": {
                "color": "#3388ff"
              }
            },
            "options": [
              "position"
            ],
            "polygon": {
              "shapeOptions": {}
            },
            "polyline": {
              "shapeOptions": {}
            },
            "position": "topleft",
            "rectangle": {
              "shapeOptions": {
                "color": "#3388ff"
              }
            },
            "remove": true
          }
        },
        "978885f32ead48a3a819505d5f653187": {
          "model_module": "jupyter-leaflet",
          "model_name": "LeafletScaleControlModel",
          "model_module_version": "^0.18",
          "state": {
            "_model_module": "jupyter-leaflet",
            "_model_module_version": "^0.18",
            "_model_name": "LeafletScaleControlModel",
            "_view_count": null,
            "_view_module": "jupyter-leaflet",
            "_view_module_version": "^0.18",
            "_view_name": "LeafletScaleControlView",
            "imperial": true,
            "max_width": 100,
            "metric": true,
            "options": [
              "imperial",
              "max_width",
              "metric",
              "position",
              "update_when_idle"
            ],
            "position": "bottomleft",
            "update_when_idle": false
          }
        },
        "c8288cced50341eaa1d71de03d85058f": {
          "model_module": "jupyter-leaflet",
          "model_name": "LeafletMeasureControlModel",
          "model_module_version": "^0.18",
          "state": {
            "_custom_units": {},
            "_model_module": "jupyter-leaflet",
            "_model_module_version": "^0.18",
            "_model_name": "LeafletMeasureControlModel",
            "_view_count": null,
            "_view_module": "jupyter-leaflet",
            "_view_module_version": "^0.18",
            "_view_name": "LeafletMeasureControlView",
            "active_color": "orange",
            "capture_z_index": 10000,
            "completed_color": "#C8F2BE",
            "options": [
              "active_color",
              "capture_z_index",
              "completed_color",
              "popup_options",
              "position",
              "primary_area_unit",
              "primary_length_unit",
              "secondary_area_unit",
              "secondary_length_unit"
            ],
            "popup_options": {
              "className": "leaflet-measure-resultpopup",
              "autoPanPadding": [
                10,
                10
              ]
            },
            "position": "bottomleft",
            "primary_area_unit": "acres",
            "primary_length_unit": "kilometers",
            "secondary_area_unit": null,
            "secondary_length_unit": null
          }
        },
        "cec136d48a3e414c9428f3b3cc6e0304": {
          "model_module": "jupyter-leaflet",
          "model_name": "LeafletWidgetControlModel",
          "model_module_version": "^0.18",
          "state": {
            "_model_module": "jupyter-leaflet",
            "_model_module_version": "^0.18",
            "_model_name": "LeafletWidgetControlModel",
            "_view_count": null,
            "_view_module": "jupyter-leaflet",
            "_view_module_version": "^0.18",
            "_view_name": "LeafletWidgetControlView",
            "max_height": null,
            "max_width": null,
            "min_height": null,
            "min_width": null,
            "options": [
              "position",
              "transparent_bg"
            ],
            "position": "topright",
            "transparent_bg": false,
            "widget": "IPY_MODEL_04efa0ba3d7d415d8d5de2b2ea999946"
          }
        },
        "88827b5d39f742c2a823cb5c8860614e": {
          "model_module": "jupyter-leaflet",
          "model_name": "LeafletAttributionControlModel",
          "model_module_version": "^0.18",
          "state": {
            "_model_module": "jupyter-leaflet",
            "_model_module_version": "^0.18",
            "_model_name": "LeafletAttributionControlModel",
            "_view_count": null,
            "_view_module": "jupyter-leaflet",
            "_view_module_version": "^0.18",
            "_view_name": "LeafletAttributionControlView",
            "options": [
              "position",
              "prefix"
            ],
            "position": "bottomright",
            "prefix": "ipyleaflet"
          }
        },
        "1c35481c88654e8aa5628e1203c2b422": {
          "model_module": "jupyter-leaflet",
          "model_name": "LeafletLayersControlModel",
          "model_module_version": "^0.18",
          "state": {
            "_model_module": "jupyter-leaflet",
            "_model_module_version": "^0.18",
            "_model_name": "LeafletLayersControlModel",
            "_view_count": null,
            "_view_module": "jupyter-leaflet",
            "_view_module_version": "^0.18",
            "_view_name": "LeafletLayersControlView",
            "collapsed": true,
            "options": [
              "collapsed",
              "position"
            ],
            "position": "topright"
          }
        },
        "7d2b7813c5b44bd284dc1d52bdea580e": {
          "model_module": "jupyter-leaflet",
          "model_name": "LeafletMapStyleModel",
          "model_module_version": "^0.18",
          "state": {
            "_model_module": "jupyter-leaflet",
            "_model_module_version": "^0.18",
            "_model_name": "LeafletMapStyleModel",
            "_view_count": null,
            "_view_module": "@jupyter-widgets/base",
            "_view_module_version": "1.2.0",
            "_view_name": "StyleView",
            "cursor": "grab"
          }
        },
        "1eb56c01b89c4de9b868cba32a440d66": {
          "model_module": "jupyter-leaflet",
          "model_name": "LeafletMapStyleModel",
          "model_module_version": "^0.18",
          "state": {
            "_model_module": "jupyter-leaflet",
            "_model_module_version": "^0.18",
            "_model_name": "LeafletMapStyleModel",
            "_view_count": null,
            "_view_module": "@jupyter-widgets/base",
            "_view_module_version": "1.2.0",
            "_view_name": "StyleView",
            "cursor": "move"
          }
        },
        "8dad75ef96ca459fb0c79568fe649534": {
          "model_module": "jupyter-leaflet",
          "model_name": "LeafletTileLayerModel",
          "model_module_version": "^0.18",
          "state": {
            "_model_module": "jupyter-leaflet",
            "_model_module_version": "^0.18",
            "_model_name": "LeafletTileLayerModel",
            "_view_count": null,
            "_view_module": "jupyter-leaflet",
            "_view_module_version": "^0.18",
            "_view_name": "LeafletTileLayerView",
            "attribution": "&copy; <a href=\"https://www.openstreetmap.org/copyright\">OpenStreetMap</a> contributors",
            "base": true,
            "bottom": true,
            "bounds": null,
            "detect_retina": false,
            "loading": false,
            "max_native_zoom": null,
            "max_zoom": 19,
            "min_native_zoom": null,
            "min_zoom": 1,
            "name": "OpenStreetMap.Mapnik",
            "no_wrap": false,
            "opacity": 1,
            "options": [
              "attribution",
              "bounds",
              "detect_retina",
              "max_native_zoom",
              "max_zoom",
              "min_native_zoom",
              "min_zoom",
              "no_wrap",
              "tile_size",
              "tms",
              "zoom_offset"
            ],
            "pane": "",
            "popup": null,
            "popup_max_height": null,
            "popup_max_width": 300,
            "popup_min_width": 50,
            "show_loading": false,
            "subitems": [],
            "tile_size": 256,
            "tms": false,
            "url": "https://tile.openstreetmap.org/{z}/{x}/{y}.png",
            "visible": true,
            "zoom_offset": 0
          }
        },
        "226932e8ca8a417ab1ba8bd8ee229077": {
          "model_module": "jupyter-leaflet",
          "model_name": "LeafletTileLayerModel",
          "model_module_version": "^0.18",
          "state": {
            "_model_module": "jupyter-leaflet",
            "_model_module_version": "^0.18",
            "_model_name": "LeafletTileLayerModel",
            "_view_count": null,
            "_view_module": "jupyter-leaflet",
            "_view_module_version": "^0.18",
            "_view_name": "LeafletTileLayerView",
            "attribution": "Google Earth Engine",
            "base": false,
            "bottom": true,
            "bounds": null,
            "detect_retina": false,
            "loading": false,
            "max_native_zoom": null,
            "max_zoom": 24,
            "min_native_zoom": null,
            "min_zoom": 0,
            "name": "Merged Region",
            "no_wrap": false,
            "opacity": 1,
            "options": [
              "attribution",
              "bounds",
              "detect_retina",
              "max_native_zoom",
              "max_zoom",
              "min_native_zoom",
              "min_zoom",
              "no_wrap",
              "tile_size",
              "tms",
              "zoom_offset"
            ],
            "pane": "",
            "popup": null,
            "popup_max_height": null,
            "popup_max_width": 300,
            "popup_min_width": 50,
            "show_loading": false,
            "subitems": [],
            "tile_size": 256,
            "tms": false,
            "url": "https://earthengine.googleapis.com/v1/projects/832299660047/maps/a7e17eb3c3a199a0779642edd481ffbc-688e94ca4e2cce2722325e316403daab/tiles/{z}/{x}/{y}",
            "visible": true,
            "zoom_offset": 0
          }
        },
        "2ac89ef400744f50a0432a6c70a729ad": {
          "model_module": "jupyter-leaflet",
          "model_name": "LeafletTileLayerModel",
          "model_module_version": "^0.18",
          "state": {
            "_model_module": "jupyter-leaflet",
            "_model_module_version": "^0.18",
            "_model_name": "LeafletTileLayerModel",
            "_view_count": null,
            "_view_module": "jupyter-leaflet",
            "_view_module_version": "^0.18",
            "_view_name": "LeafletTileLayerView",
            "attribution": "Google Earth Engine",
            "base": false,
            "bottom": true,
            "bounds": null,
            "detect_retina": false,
            "loading": false,
            "max_native_zoom": null,
            "max_zoom": 24,
            "min_native_zoom": null,
            "min_zoom": 0,
            "name": "ΔΔ region",
            "no_wrap": false,
            "opacity": 1,
            "options": [
              "attribution",
              "bounds",
              "detect_retina",
              "max_native_zoom",
              "max_zoom",
              "min_native_zoom",
              "min_zoom",
              "no_wrap",
              "tile_size",
              "tms",
              "zoom_offset"
            ],
            "pane": "",
            "popup": null,
            "popup_max_height": null,
            "popup_max_width": 300,
            "popup_min_width": 50,
            "show_loading": false,
            "subitems": [],
            "tile_size": 256,
            "tms": false,
            "url": "https://earthengine.googleapis.com/v1/projects/832299660047/maps/d45bc54a2984d0d1c4b8dcd45aaa31be-8b1bb336223d0a02c0a11c0e27bf512b/tiles/{z}/{x}/{y}",
            "visible": true,
            "zoom_offset": 0
          }
        },
        "4ef39e4debc34a6cba7a3018b9c2edb3": {
          "model_module": "jupyter-leaflet",
          "model_name": "LeafletTileLayerModel",
          "model_module_version": "^0.18",
          "state": {
            "_model_module": "jupyter-leaflet",
            "_model_module_version": "^0.18",
            "_model_name": "LeafletTileLayerModel",
            "_view_count": null,
            "_view_module": "jupyter-leaflet",
            "_view_module_version": "^0.18",
            "_view_name": "LeafletTileLayerView",
            "attribution": "Google Earth Engine",
            "base": false,
            "bottom": true,
            "bounds": null,
            "detect_retina": false,
            "loading": false,
            "max_native_zoom": null,
            "max_zoom": 24,
            "min_native_zoom": null,
            "min_zoom": 0,
            "name": "ΔΑ region",
            "no_wrap": false,
            "opacity": 1,
            "options": [
              "attribution",
              "bounds",
              "detect_retina",
              "max_native_zoom",
              "max_zoom",
              "min_native_zoom",
              "min_zoom",
              "no_wrap",
              "tile_size",
              "tms",
              "zoom_offset"
            ],
            "pane": "",
            "popup": null,
            "popup_max_height": null,
            "popup_max_width": 300,
            "popup_min_width": 50,
            "show_loading": false,
            "subitems": [],
            "tile_size": 256,
            "tms": false,
            "url": "https://earthengine.googleapis.com/v1/projects/832299660047/maps/cce47a5ad35d5cb41a8c152db2018bf1-d217fb77a71897e4a7710b065d54f353/tiles/{z}/{x}/{y}",
            "visible": true,
            "zoom_offset": 0
          }
        },
        "70750f79e1d24eb2b8779979728330dc": {
          "model_module": "@jupyter-widgets/base",
          "model_name": "LayoutModel",
          "model_module_version": "1.2.0",
          "state": {
            "_model_module": "@jupyter-widgets/base",
            "_model_module_version": "1.2.0",
            "_model_name": "LayoutModel",
            "_view_count": null,
            "_view_module": "@jupyter-widgets/base",
            "_view_module_version": "1.2.0",
            "_view_name": "LayoutView",
            "align_content": null,
            "align_items": null,
            "align_self": null,
            "border": null,
            "bottom": null,
            "display": null,
            "flex": null,
            "flex_flow": null,
            "grid_area": null,
            "grid_auto_columns": null,
            "grid_auto_flow": null,
            "grid_auto_rows": null,
            "grid_column": null,
            "grid_gap": null,
            "grid_row": null,
            "grid_template_areas": null,
            "grid_template_columns": null,
            "grid_template_rows": null,
            "height": "600px",
            "justify_content": null,
            "justify_items": null,
            "left": null,
            "margin": null,
            "max_height": null,
            "max_width": null,
            "min_height": null,
            "min_width": null,
            "object_fit": null,
            "object_position": null,
            "order": null,
            "overflow": null,
            "overflow_x": null,
            "overflow_y": null,
            "padding": null,
            "right": null,
            "top": null,
            "visibility": null,
            "width": null
          }
        },
        "4b3dfe0f3c4c4346a914cf49e26cdea0": {
          "model_module": "jupyter-leaflet",
          "model_name": "LeafletMapStyleModel",
          "model_module_version": "^0.18",
          "state": {
            "_model_module": "jupyter-leaflet",
            "_model_module_version": "^0.18",
            "_model_name": "LeafletMapStyleModel",
            "_view_count": null,
            "_view_module": "@jupyter-widgets/base",
            "_view_module_version": "1.2.0",
            "_view_name": "StyleView",
            "cursor": "grab"
          }
        },
        "51a64ea48574432b8701098d17be3ac1": {
          "model_module": "@jupyter-widgets/controls",
          "model_name": "HBoxModel",
          "model_module_version": "1.5.0",
          "state": {
            "_dom_classes": [
              "geemap-colab"
            ],
            "_model_module": "@jupyter-widgets/controls",
            "_model_module_version": "1.5.0",
            "_model_name": "HBoxModel",
            "_view_count": null,
            "_view_module": "@jupyter-widgets/controls",
            "_view_module_version": "1.5.0",
            "_view_name": "HBoxView",
            "box_style": "",
            "children": [
              "IPY_MODEL_d31960e00300488d9d21c2b1e6fe704e"
            ],
            "layout": "IPY_MODEL_3955f55970b443a298b3c8064bab425b"
          }
        },
        "04efa0ba3d7d415d8d5de2b2ea999946": {
          "model_module": "@jupyter-widgets/controls",
          "model_name": "VBoxModel",
          "model_module_version": "1.5.0",
          "state": {
            "_dom_classes": [
              "geemap-colab"
            ],
            "_model_module": "@jupyter-widgets/controls",
            "_model_module_version": "1.5.0",
            "_model_name": "VBoxModel",
            "_view_count": null,
            "_view_module": "@jupyter-widgets/controls",
            "_view_module_version": "1.5.0",
            "_view_name": "VBoxView",
            "box_style": "",
            "children": [
              "IPY_MODEL_cb1128d813d34bde961bf1e465c9c065"
            ],
            "layout": "IPY_MODEL_2405e17070ef4624b5540dfc00026935"
          }
        },
        "d31960e00300488d9d21c2b1e6fe704e": {
          "model_module": "@jupyter-widgets/controls",
          "model_name": "ToggleButtonModel",
          "model_module_version": "1.5.0",
          "state": {
            "_dom_classes": [],
            "_model_module": "@jupyter-widgets/controls",
            "_model_module_version": "1.5.0",
            "_model_name": "ToggleButtonModel",
            "_view_count": null,
            "_view_module": "@jupyter-widgets/controls",
            "_view_module_version": "1.5.0",
            "_view_name": "ToggleButtonView",
            "button_style": "",
            "description": "",
            "description_tooltip": null,
            "disabled": false,
            "icon": "globe",
            "layout": "IPY_MODEL_671877e2cbe04d7b8d8e4b7f74cc7c15",
            "style": "IPY_MODEL_bc2299ac804844daaa5690d4db3d3042",
            "tooltip": "Search location/data",
            "value": false
          }
        },
        "3955f55970b443a298b3c8064bab425b": {
          "model_module": "@jupyter-widgets/base",
          "model_name": "LayoutModel",
          "model_module_version": "1.2.0",
          "state": {
            "_model_module": "@jupyter-widgets/base",
            "_model_module_version": "1.2.0",
            "_model_name": "LayoutModel",
            "_view_count": null,
            "_view_module": "@jupyter-widgets/base",
            "_view_module_version": "1.2.0",
            "_view_name": "LayoutView",
            "align_content": null,
            "align_items": null,
            "align_self": null,
            "border": null,
            "bottom": null,
            "display": null,
            "flex": null,
            "flex_flow": null,
            "grid_area": null,
            "grid_auto_columns": null,
            "grid_auto_flow": null,
            "grid_auto_rows": null,
            "grid_column": null,
            "grid_gap": null,
            "grid_row": null,
            "grid_template_areas": null,
            "grid_template_columns": null,
            "grid_template_rows": null,
            "height": null,
            "justify_content": null,
            "justify_items": null,
            "left": null,
            "margin": null,
            "max_height": null,
            "max_width": null,
            "min_height": null,
            "min_width": null,
            "object_fit": null,
            "object_position": null,
            "order": null,
            "overflow": null,
            "overflow_x": null,
            "overflow_y": null,
            "padding": null,
            "right": null,
            "top": null,
            "visibility": null,
            "width": null
          }
        },
        "cb1128d813d34bde961bf1e465c9c065": {
          "model_module": "@jupyter-widgets/controls",
          "model_name": "ToggleButtonModel",
          "model_module_version": "1.5.0",
          "state": {
            "_dom_classes": [],
            "_model_module": "@jupyter-widgets/controls",
            "_model_module_version": "1.5.0",
            "_model_name": "ToggleButtonModel",
            "_view_count": null,
            "_view_module": "@jupyter-widgets/controls",
            "_view_module_version": "1.5.0",
            "_view_name": "ToggleButtonView",
            "button_style": "",
            "description": "",
            "description_tooltip": null,
            "disabled": false,
            "icon": "wrench",
            "layout": "IPY_MODEL_c62805828ba346998f404cb825a4f25c",
            "style": "IPY_MODEL_d5ccb241f13742338fca57fce890dc22",
            "tooltip": "Toolbar",
            "value": false
          }
        },
        "2405e17070ef4624b5540dfc00026935": {
          "model_module": "@jupyter-widgets/base",
          "model_name": "LayoutModel",
          "model_module_version": "1.2.0",
          "state": {
            "_model_module": "@jupyter-widgets/base",
            "_model_module_version": "1.2.0",
            "_model_name": "LayoutModel",
            "_view_count": null,
            "_view_module": "@jupyter-widgets/base",
            "_view_module_version": "1.2.0",
            "_view_name": "LayoutView",
            "align_content": null,
            "align_items": null,
            "align_self": null,
            "border": null,
            "bottom": null,
            "display": null,
            "flex": null,
            "flex_flow": null,
            "grid_area": null,
            "grid_auto_columns": null,
            "grid_auto_flow": null,
            "grid_auto_rows": null,
            "grid_column": null,
            "grid_gap": null,
            "grid_row": null,
            "grid_template_areas": null,
            "grid_template_columns": null,
            "grid_template_rows": null,
            "height": null,
            "justify_content": null,
            "justify_items": null,
            "left": null,
            "margin": null,
            "max_height": null,
            "max_width": null,
            "min_height": null,
            "min_width": null,
            "object_fit": null,
            "object_position": null,
            "order": null,
            "overflow": null,
            "overflow_x": null,
            "overflow_y": null,
            "padding": null,
            "right": null,
            "top": null,
            "visibility": null,
            "width": null
          }
        },
        "671877e2cbe04d7b8d8e4b7f74cc7c15": {
          "model_module": "@jupyter-widgets/base",
          "model_name": "LayoutModel",
          "model_module_version": "1.2.0",
          "state": {
            "_model_module": "@jupyter-widgets/base",
            "_model_module_version": "1.2.0",
            "_model_name": "LayoutModel",
            "_view_count": null,
            "_view_module": "@jupyter-widgets/base",
            "_view_module_version": "1.2.0",
            "_view_name": "LayoutView",
            "align_content": null,
            "align_items": null,
            "align_self": null,
            "border": null,
            "bottom": null,
            "display": null,
            "flex": null,
            "flex_flow": null,
            "grid_area": null,
            "grid_auto_columns": null,
            "grid_auto_flow": null,
            "grid_auto_rows": null,
            "grid_column": null,
            "grid_gap": null,
            "grid_row": null,
            "grid_template_areas": null,
            "grid_template_columns": null,
            "grid_template_rows": null,
            "height": "28px",
            "justify_content": null,
            "justify_items": null,
            "left": null,
            "margin": null,
            "max_height": null,
            "max_width": null,
            "min_height": null,
            "min_width": null,
            "object_fit": null,
            "object_position": null,
            "order": null,
            "overflow": null,
            "overflow_x": null,
            "overflow_y": null,
            "padding": "0px 0px 0px 4px",
            "right": null,
            "top": null,
            "visibility": null,
            "width": "28px"
          }
        },
        "bc2299ac804844daaa5690d4db3d3042": {
          "model_module": "@jupyter-widgets/controls",
          "model_name": "DescriptionStyleModel",
          "model_module_version": "1.5.0",
          "state": {
            "_model_module": "@jupyter-widgets/controls",
            "_model_module_version": "1.5.0",
            "_model_name": "DescriptionStyleModel",
            "_view_count": null,
            "_view_module": "@jupyter-widgets/base",
            "_view_module_version": "1.2.0",
            "_view_name": "StyleView",
            "description_width": ""
          }
        },
        "c62805828ba346998f404cb825a4f25c": {
          "model_module": "@jupyter-widgets/base",
          "model_name": "LayoutModel",
          "model_module_version": "1.2.0",
          "state": {
            "_model_module": "@jupyter-widgets/base",
            "_model_module_version": "1.2.0",
            "_model_name": "LayoutModel",
            "_view_count": null,
            "_view_module": "@jupyter-widgets/base",
            "_view_module_version": "1.2.0",
            "_view_name": "LayoutView",
            "align_content": null,
            "align_items": null,
            "align_self": null,
            "border": null,
            "bottom": null,
            "display": null,
            "flex": null,
            "flex_flow": null,
            "grid_area": null,
            "grid_auto_columns": null,
            "grid_auto_flow": null,
            "grid_auto_rows": null,
            "grid_column": null,
            "grid_gap": null,
            "grid_row": null,
            "grid_template_areas": null,
            "grid_template_columns": null,
            "grid_template_rows": null,
            "height": "28px",
            "justify_content": null,
            "justify_items": null,
            "left": null,
            "margin": null,
            "max_height": null,
            "max_width": null,
            "min_height": null,
            "min_width": null,
            "object_fit": null,
            "object_position": null,
            "order": null,
            "overflow": null,
            "overflow_x": null,
            "overflow_y": null,
            "padding": "0px 0px 0px 4px",
            "right": null,
            "top": null,
            "visibility": null,
            "width": "28px"
          }
        },
        "d5ccb241f13742338fca57fce890dc22": {
          "model_module": "@jupyter-widgets/controls",
          "model_name": "DescriptionStyleModel",
          "model_module_version": "1.5.0",
          "state": {
            "_model_module": "@jupyter-widgets/controls",
            "_model_module_version": "1.5.0",
            "_model_name": "DescriptionStyleModel",
            "_view_count": null,
            "_view_module": "@jupyter-widgets/base",
            "_view_module_version": "1.2.0",
            "_view_name": "StyleView",
            "description_width": ""
          }
        },
        "28d0b1cfc13541679466841de3e8088b": {
          "model_module": "jupyter-leaflet",
          "model_name": "LeafletMapModel",
          "model_module_version": "^0.18",
          "state": {
            "_dom_classes": [],
            "_model_module": "jupyter-leaflet",
            "_model_module_version": "^0.18",
            "_model_name": "LeafletMapModel",
            "_view_count": null,
            "_view_module": "jupyter-leaflet",
            "_view_module_version": "^0.18",
            "_view_name": "LeafletMapView",
            "bottom": 196784,
            "bounce_at_zoom_limits": true,
            "box_zoom": true,
            "center": [
              41.044145364313174,
              24.60971832275391
            ],
            "close_popup_on_click": true,
            "controls": [
              "IPY_MODEL_f937cad6c320446384bb7cce716e7cb8",
              "IPY_MODEL_84cb0f26625146148b9b89b03da099d3",
              "IPY_MODEL_4112de46ee45431fa5322f2f4c120ae9",
              "IPY_MODEL_6bb2554a7eb04c09b39b126c2056a598",
              "IPY_MODEL_7812374ac5e64a979b9c9470d09d4bee",
              "IPY_MODEL_28f836a4f7d94bc38c8d50ab554ba653",
              "IPY_MODEL_5677a5eac1e84c058fcaa825dda8b7bd",
              "IPY_MODEL_f36bf91e71f14b459f91747ec2abbac2",
              "IPY_MODEL_c98b7eb6010e478f9f31e6ff0c67cc15"
            ],
            "crs": {
              "name": "EPSG3857",
              "custom": false
            },
            "default_style": "IPY_MODEL_e061690bda4c459a81195b71782ce333",
            "double_click_zoom": true,
            "dragging": true,
            "dragging_style": "IPY_MODEL_035468f78463485585f1c0cea43e14a5",
            "east": 25.133972167968754,
            "fullscreen": false,
            "inertia": true,
            "inertia_deceleration": 3000,
            "inertia_max_speed": 1500,
            "interpolation": "bilinear",
            "keyboard": true,
            "keyboard_pan_offset": 80,
            "keyboard_zoom_offset": 1,
            "layers": [
              "IPY_MODEL_d0ec40eb8c9d4e07ad79574a58c62b19",
              "IPY_MODEL_453bcbab0187424eb0369c16d11c80ce",
              "IPY_MODEL_02dbaa20651947b6bec52efd5b2afda2"
            ],
            "layout": "IPY_MODEL_34b16aa3af8041ae8bb5a940a07c68c1",
            "left": 297221,
            "max_zoom": 24,
            "min_zoom": null,
            "modisdate": "2024-06-25",
            "north": 41.19932314127607,
            "options": [
              "bounce_at_zoom_limits",
              "box_zoom",
              "center",
              "close_popup_on_click",
              "double_click_zoom",
              "dragging",
              "fullscreen",
              "inertia",
              "inertia_deceleration",
              "inertia_max_speed",
              "interpolation",
              "keyboard",
              "keyboard_pan_offset",
              "keyboard_zoom_offset",
              "max_zoom",
              "min_zoom",
              "prefer_canvas",
              "scroll_wheel_zoom",
              "tap",
              "tap_tolerance",
              "touch_zoom",
              "world_copy_jump",
              "zoom",
              "zoom_animation_threshold",
              "zoom_delta",
              "zoom_snap"
            ],
            "panes": {},
            "prefer_canvas": false,
            "right": 298748,
            "scroll_wheel_zoom": true,
            "south": 40.88860081193033,
            "style": "IPY_MODEL_e061690bda4c459a81195b71782ce333",
            "tap": true,
            "tap_tolerance": 15,
            "top": 196184,
            "touch_zoom": true,
            "west": 24.085464477539062,
            "window_url": "https://20fujqusz7f-496ff2e9c6d22116-0-colab.googleusercontent.com/outputframe.html?vrz=colab_20240625-060120_RC01_646520897",
            "world_copy_jump": false,
            "zoom": 11,
            "zoom_animation_threshold": 4,
            "zoom_delta": 1,
            "zoom_snap": 1
          }
        },
        "f937cad6c320446384bb7cce716e7cb8": {
          "model_module": "jupyter-leaflet",
          "model_name": "LeafletWidgetControlModel",
          "model_module_version": "^0.18",
          "state": {
            "_model_module": "jupyter-leaflet",
            "_model_module_version": "^0.18",
            "_model_name": "LeafletWidgetControlModel",
            "_view_count": null,
            "_view_module": "jupyter-leaflet",
            "_view_module_version": "^0.18",
            "_view_name": "LeafletWidgetControlView",
            "max_height": null,
            "max_width": null,
            "min_height": null,
            "min_width": null,
            "options": [
              "position",
              "transparent_bg"
            ],
            "position": "topleft",
            "transparent_bg": false,
            "widget": "IPY_MODEL_1232d63a210c4e8499594a0195507449"
          }
        },
        "84cb0f26625146148b9b89b03da099d3": {
          "model_module": "jupyter-leaflet",
          "model_name": "LeafletZoomControlModel",
          "model_module_version": "^0.18",
          "state": {
            "_model_module": "jupyter-leaflet",
            "_model_module_version": "^0.18",
            "_model_name": "LeafletZoomControlModel",
            "_view_count": null,
            "_view_module": "jupyter-leaflet",
            "_view_module_version": "^0.18",
            "_view_name": "LeafletZoomControlView",
            "options": [
              "position",
              "zoom_in_text",
              "zoom_in_title",
              "zoom_out_text",
              "zoom_out_title"
            ],
            "position": "topleft",
            "zoom_in_text": "+",
            "zoom_in_title": "Zoom in",
            "zoom_out_text": "-",
            "zoom_out_title": "Zoom out"
          }
        },
        "4112de46ee45431fa5322f2f4c120ae9": {
          "model_module": "jupyter-leaflet",
          "model_name": "LeafletFullScreenControlModel",
          "model_module_version": "^0.18",
          "state": {
            "_model_module": "jupyter-leaflet",
            "_model_module_version": "^0.18",
            "_model_name": "LeafletFullScreenControlModel",
            "_view_count": null,
            "_view_module": "jupyter-leaflet",
            "_view_module_version": "^0.18",
            "_view_name": "LeafletFullScreenControlView",
            "options": [
              "position"
            ],
            "position": "topleft"
          }
        },
        "6bb2554a7eb04c09b39b126c2056a598": {
          "model_module": "jupyter-leaflet",
          "model_name": "LeafletDrawControlModel",
          "model_module_version": "^0.18",
          "state": {
            "_model_module": "jupyter-leaflet",
            "_model_module_version": "^0.18",
            "_model_name": "LeafletDrawControlModel",
            "_view_count": null,
            "_view_module": "jupyter-leaflet",
            "_view_module_version": "^0.18",
            "_view_name": "LeafletDrawControlView",
            "circle": {},
            "circlemarker": {},
            "data": [],
            "edit": true,
            "marker": {
              "shapeOptions": {
                "color": "#3388ff"
              }
            },
            "options": [
              "position"
            ],
            "polygon": {
              "shapeOptions": {}
            },
            "polyline": {
              "shapeOptions": {}
            },
            "position": "topleft",
            "rectangle": {
              "shapeOptions": {
                "color": "#3388ff"
              }
            },
            "remove": true
          }
        },
        "7812374ac5e64a979b9c9470d09d4bee": {
          "model_module": "jupyter-leaflet",
          "model_name": "LeafletScaleControlModel",
          "model_module_version": "^0.18",
          "state": {
            "_model_module": "jupyter-leaflet",
            "_model_module_version": "^0.18",
            "_model_name": "LeafletScaleControlModel",
            "_view_count": null,
            "_view_module": "jupyter-leaflet",
            "_view_module_version": "^0.18",
            "_view_name": "LeafletScaleControlView",
            "imperial": true,
            "max_width": 100,
            "metric": true,
            "options": [
              "imperial",
              "max_width",
              "metric",
              "position",
              "update_when_idle"
            ],
            "position": "bottomleft",
            "update_when_idle": false
          }
        },
        "28f836a4f7d94bc38c8d50ab554ba653": {
          "model_module": "jupyter-leaflet",
          "model_name": "LeafletMeasureControlModel",
          "model_module_version": "^0.18",
          "state": {
            "_custom_units": {},
            "_model_module": "jupyter-leaflet",
            "_model_module_version": "^0.18",
            "_model_name": "LeafletMeasureControlModel",
            "_view_count": null,
            "_view_module": "jupyter-leaflet",
            "_view_module_version": "^0.18",
            "_view_name": "LeafletMeasureControlView",
            "active_color": "orange",
            "capture_z_index": 10000,
            "completed_color": "#C8F2BE",
            "options": [
              "active_color",
              "capture_z_index",
              "completed_color",
              "popup_options",
              "position",
              "primary_area_unit",
              "primary_length_unit",
              "secondary_area_unit",
              "secondary_length_unit"
            ],
            "popup_options": {
              "className": "leaflet-measure-resultpopup",
              "autoPanPadding": [
                10,
                10
              ]
            },
            "position": "bottomleft",
            "primary_area_unit": "acres",
            "primary_length_unit": "kilometers",
            "secondary_area_unit": null,
            "secondary_length_unit": null
          }
        },
        "5677a5eac1e84c058fcaa825dda8b7bd": {
          "model_module": "jupyter-leaflet",
          "model_name": "LeafletWidgetControlModel",
          "model_module_version": "^0.18",
          "state": {
            "_model_module": "jupyter-leaflet",
            "_model_module_version": "^0.18",
            "_model_name": "LeafletWidgetControlModel",
            "_view_count": null,
            "_view_module": "jupyter-leaflet",
            "_view_module_version": "^0.18",
            "_view_name": "LeafletWidgetControlView",
            "max_height": null,
            "max_width": null,
            "min_height": null,
            "min_width": null,
            "options": [
              "position",
              "transparent_bg"
            ],
            "position": "topright",
            "transparent_bg": false,
            "widget": "IPY_MODEL_8f8829c709ea4ed9906ee9f7ba967dd5"
          }
        },
        "f36bf91e71f14b459f91747ec2abbac2": {
          "model_module": "jupyter-leaflet",
          "model_name": "LeafletAttributionControlModel",
          "model_module_version": "^0.18",
          "state": {
            "_model_module": "jupyter-leaflet",
            "_model_module_version": "^0.18",
            "_model_name": "LeafletAttributionControlModel",
            "_view_count": null,
            "_view_module": "jupyter-leaflet",
            "_view_module_version": "^0.18",
            "_view_name": "LeafletAttributionControlView",
            "options": [
              "position",
              "prefix"
            ],
            "position": "bottomright",
            "prefix": "ipyleaflet"
          }
        },
        "c98b7eb6010e478f9f31e6ff0c67cc15": {
          "model_module": "jupyter-leaflet",
          "model_name": "LeafletLayersControlModel",
          "model_module_version": "^0.18",
          "state": {
            "_model_module": "jupyter-leaflet",
            "_model_module_version": "^0.18",
            "_model_name": "LeafletLayersControlModel",
            "_view_count": null,
            "_view_module": "jupyter-leaflet",
            "_view_module_version": "^0.18",
            "_view_name": "LeafletLayersControlView",
            "collapsed": true,
            "options": [
              "collapsed",
              "position"
            ],
            "position": "topright"
          }
        },
        "e061690bda4c459a81195b71782ce333": {
          "model_module": "jupyter-leaflet",
          "model_name": "LeafletMapStyleModel",
          "model_module_version": "^0.18",
          "state": {
            "_model_module": "jupyter-leaflet",
            "_model_module_version": "^0.18",
            "_model_name": "LeafletMapStyleModel",
            "_view_count": null,
            "_view_module": "@jupyter-widgets/base",
            "_view_module_version": "1.2.0",
            "_view_name": "StyleView",
            "cursor": "grab"
          }
        },
        "035468f78463485585f1c0cea43e14a5": {
          "model_module": "jupyter-leaflet",
          "model_name": "LeafletMapStyleModel",
          "model_module_version": "^0.18",
          "state": {
            "_model_module": "jupyter-leaflet",
            "_model_module_version": "^0.18",
            "_model_name": "LeafletMapStyleModel",
            "_view_count": null,
            "_view_module": "@jupyter-widgets/base",
            "_view_module_version": "1.2.0",
            "_view_name": "StyleView",
            "cursor": "move"
          }
        },
        "d0ec40eb8c9d4e07ad79574a58c62b19": {
          "model_module": "jupyter-leaflet",
          "model_name": "LeafletTileLayerModel",
          "model_module_version": "^0.18",
          "state": {
            "_model_module": "jupyter-leaflet",
            "_model_module_version": "^0.18",
            "_model_name": "LeafletTileLayerModel",
            "_view_count": null,
            "_view_module": "jupyter-leaflet",
            "_view_module_version": "^0.18",
            "_view_name": "LeafletTileLayerView",
            "attribution": "&copy; <a href=\"https://www.openstreetmap.org/copyright\">OpenStreetMap</a> contributors",
            "base": true,
            "bottom": true,
            "bounds": null,
            "detect_retina": false,
            "loading": false,
            "max_native_zoom": null,
            "max_zoom": 19,
            "min_native_zoom": null,
            "min_zoom": 1,
            "name": "OpenStreetMap.Mapnik",
            "no_wrap": false,
            "opacity": 1,
            "options": [
              "attribution",
              "bounds",
              "detect_retina",
              "max_native_zoom",
              "max_zoom",
              "min_native_zoom",
              "min_zoom",
              "no_wrap",
              "tile_size",
              "tms",
              "zoom_offset"
            ],
            "pane": "",
            "popup": null,
            "popup_max_height": null,
            "popup_max_width": 300,
            "popup_min_width": 50,
            "show_loading": false,
            "subitems": [],
            "tile_size": 256,
            "tms": false,
            "url": "https://tile.openstreetmap.org/{z}/{x}/{y}.png",
            "visible": true,
            "zoom_offset": 0
          }
        },
        "453bcbab0187424eb0369c16d11c80ce": {
          "model_module": "jupyter-leaflet",
          "model_name": "LeafletTileLayerModel",
          "model_module_version": "^0.18",
          "state": {
            "_model_module": "jupyter-leaflet",
            "_model_module_version": "^0.18",
            "_model_name": "LeafletTileLayerModel",
            "_view_count": null,
            "_view_module": "jupyter-leaflet",
            "_view_module_version": "^0.18",
            "_view_name": "LeafletTileLayerView",
            "attribution": "Google Earth Engine",
            "base": false,
            "bottom": true,
            "bounds": null,
            "detect_retina": false,
            "loading": false,
            "max_native_zoom": null,
            "max_zoom": 24,
            "min_native_zoom": null,
            "min_zoom": 0,
            "name": "2023-09-01_composite",
            "no_wrap": false,
            "opacity": 1,
            "options": [
              "attribution",
              "bounds",
              "detect_retina",
              "max_native_zoom",
              "max_zoom",
              "min_native_zoom",
              "min_zoom",
              "no_wrap",
              "tile_size",
              "tms",
              "zoom_offset"
            ],
            "pane": "",
            "popup": null,
            "popup_max_height": null,
            "popup_max_width": 300,
            "popup_min_width": 50,
            "show_loading": false,
            "subitems": [],
            "tile_size": 256,
            "tms": false,
            "url": "https://earthengine.googleapis.com/v1/projects/832299660047/maps/0b4f04eb52c285a7073d60c2405111ec-e193bb0717b445eac3cd8ac6073301ec/tiles/{z}/{x}/{y}",
            "visible": true,
            "zoom_offset": 0
          }
        },
        "02dbaa20651947b6bec52efd5b2afda2": {
          "model_module": "jupyter-leaflet",
          "model_name": "LeafletTileLayerModel",
          "model_module_version": "^0.18",
          "state": {
            "_model_module": "jupyter-leaflet",
            "_model_module_version": "^0.18",
            "_model_name": "LeafletTileLayerModel",
            "_view_count": null,
            "_view_module": "jupyter-leaflet",
            "_view_module_version": "^0.18",
            "_view_name": "LeafletTileLayerView",
            "attribution": "Google Earth Engine",
            "base": false,
            "bottom": true,
            "bounds": null,
            "detect_retina": false,
            "loading": false,
            "max_native_zoom": null,
            "max_zoom": 24,
            "min_native_zoom": null,
            "min_zoom": 0,
            "name": "2023-09-01_cliped",
            "no_wrap": false,
            "opacity": 1,
            "options": [
              "attribution",
              "bounds",
              "detect_retina",
              "max_native_zoom",
              "max_zoom",
              "min_native_zoom",
              "min_zoom",
              "no_wrap",
              "tile_size",
              "tms",
              "zoom_offset"
            ],
            "pane": "",
            "popup": null,
            "popup_max_height": null,
            "popup_max_width": 300,
            "popup_min_width": 50,
            "show_loading": false,
            "subitems": [],
            "tile_size": 256,
            "tms": false,
            "url": "https://earthengine.googleapis.com/v1/projects/832299660047/maps/5ec28801948c7fb7e2c4cef6d940900b-6fecb0c8ab66169f7703c9181623aa21/tiles/{z}/{x}/{y}",
            "visible": true,
            "zoom_offset": 0
          }
        },
        "34b16aa3af8041ae8bb5a940a07c68c1": {
          "model_module": "@jupyter-widgets/base",
          "model_name": "LayoutModel",
          "model_module_version": "1.2.0",
          "state": {
            "_model_module": "@jupyter-widgets/base",
            "_model_module_version": "1.2.0",
            "_model_name": "LayoutModel",
            "_view_count": null,
            "_view_module": "@jupyter-widgets/base",
            "_view_module_version": "1.2.0",
            "_view_name": "LayoutView",
            "align_content": null,
            "align_items": null,
            "align_self": null,
            "border": null,
            "bottom": null,
            "display": null,
            "flex": null,
            "flex_flow": null,
            "grid_area": null,
            "grid_auto_columns": null,
            "grid_auto_flow": null,
            "grid_auto_rows": null,
            "grid_column": null,
            "grid_gap": null,
            "grid_row": null,
            "grid_template_areas": null,
            "grid_template_columns": null,
            "grid_template_rows": null,
            "height": "600px",
            "justify_content": null,
            "justify_items": null,
            "left": null,
            "margin": null,
            "max_height": null,
            "max_width": null,
            "min_height": null,
            "min_width": null,
            "object_fit": null,
            "object_position": null,
            "order": null,
            "overflow": null,
            "overflow_x": null,
            "overflow_y": null,
            "padding": null,
            "right": null,
            "top": null,
            "visibility": null,
            "width": null
          }
        },
        "c018828ad54c4d4eb2285f41ee0d71b4": {
          "model_module": "jupyter-leaflet",
          "model_name": "LeafletMapStyleModel",
          "model_module_version": "^0.18",
          "state": {
            "_model_module": "jupyter-leaflet",
            "_model_module_version": "^0.18",
            "_model_name": "LeafletMapStyleModel",
            "_view_count": null,
            "_view_module": "@jupyter-widgets/base",
            "_view_module_version": "1.2.0",
            "_view_name": "StyleView",
            "cursor": "grab"
          }
        },
        "1232d63a210c4e8499594a0195507449": {
          "model_module": "@jupyter-widgets/controls",
          "model_name": "HBoxModel",
          "model_module_version": "1.5.0",
          "state": {
            "_dom_classes": [
              "geemap-colab"
            ],
            "_model_module": "@jupyter-widgets/controls",
            "_model_module_version": "1.5.0",
            "_model_name": "HBoxModel",
            "_view_count": null,
            "_view_module": "@jupyter-widgets/controls",
            "_view_module_version": "1.5.0",
            "_view_name": "HBoxView",
            "box_style": "",
            "children": [
              "IPY_MODEL_e4f23062fb6a4ab1a138c6fd647f4084"
            ],
            "layout": "IPY_MODEL_c2419b6a2f56415ab8e64e77fc33144c"
          }
        },
        "8f8829c709ea4ed9906ee9f7ba967dd5": {
          "model_module": "@jupyter-widgets/controls",
          "model_name": "VBoxModel",
          "model_module_version": "1.5.0",
          "state": {
            "_dom_classes": [
              "geemap-colab"
            ],
            "_model_module": "@jupyter-widgets/controls",
            "_model_module_version": "1.5.0",
            "_model_name": "VBoxModel",
            "_view_count": null,
            "_view_module": "@jupyter-widgets/controls",
            "_view_module_version": "1.5.0",
            "_view_name": "VBoxView",
            "box_style": "",
            "children": [
              "IPY_MODEL_6bbb5a55e55c4560956f27de967e6413"
            ],
            "layout": "IPY_MODEL_444bca4755d7414e82cb86f99cacf98a"
          }
        },
        "e4f23062fb6a4ab1a138c6fd647f4084": {
          "model_module": "@jupyter-widgets/controls",
          "model_name": "ToggleButtonModel",
          "model_module_version": "1.5.0",
          "state": {
            "_dom_classes": [],
            "_model_module": "@jupyter-widgets/controls",
            "_model_module_version": "1.5.0",
            "_model_name": "ToggleButtonModel",
            "_view_count": null,
            "_view_module": "@jupyter-widgets/controls",
            "_view_module_version": "1.5.0",
            "_view_name": "ToggleButtonView",
            "button_style": "",
            "description": "",
            "description_tooltip": null,
            "disabled": false,
            "icon": "globe",
            "layout": "IPY_MODEL_d972770ad438411e8092568cdd88ce7c",
            "style": "IPY_MODEL_d791375c83e840129f928f4ef0fe6b78",
            "tooltip": "Search location/data",
            "value": false
          }
        },
        "c2419b6a2f56415ab8e64e77fc33144c": {
          "model_module": "@jupyter-widgets/base",
          "model_name": "LayoutModel",
          "model_module_version": "1.2.0",
          "state": {
            "_model_module": "@jupyter-widgets/base",
            "_model_module_version": "1.2.0",
            "_model_name": "LayoutModel",
            "_view_count": null,
            "_view_module": "@jupyter-widgets/base",
            "_view_module_version": "1.2.0",
            "_view_name": "LayoutView",
            "align_content": null,
            "align_items": null,
            "align_self": null,
            "border": null,
            "bottom": null,
            "display": null,
            "flex": null,
            "flex_flow": null,
            "grid_area": null,
            "grid_auto_columns": null,
            "grid_auto_flow": null,
            "grid_auto_rows": null,
            "grid_column": null,
            "grid_gap": null,
            "grid_row": null,
            "grid_template_areas": null,
            "grid_template_columns": null,
            "grid_template_rows": null,
            "height": null,
            "justify_content": null,
            "justify_items": null,
            "left": null,
            "margin": null,
            "max_height": null,
            "max_width": null,
            "min_height": null,
            "min_width": null,
            "object_fit": null,
            "object_position": null,
            "order": null,
            "overflow": null,
            "overflow_x": null,
            "overflow_y": null,
            "padding": null,
            "right": null,
            "top": null,
            "visibility": null,
            "width": null
          }
        },
        "6bbb5a55e55c4560956f27de967e6413": {
          "model_module": "@jupyter-widgets/controls",
          "model_name": "ToggleButtonModel",
          "model_module_version": "1.5.0",
          "state": {
            "_dom_classes": [],
            "_model_module": "@jupyter-widgets/controls",
            "_model_module_version": "1.5.0",
            "_model_name": "ToggleButtonModel",
            "_view_count": null,
            "_view_module": "@jupyter-widgets/controls",
            "_view_module_version": "1.5.0",
            "_view_name": "ToggleButtonView",
            "button_style": "",
            "description": "",
            "description_tooltip": null,
            "disabled": false,
            "icon": "wrench",
            "layout": "IPY_MODEL_bb5597ba4ab045a2b3cd5700809d527a",
            "style": "IPY_MODEL_70960d9efb6b4ebda694c05f8f869500",
            "tooltip": "Toolbar",
            "value": false
          }
        },
        "444bca4755d7414e82cb86f99cacf98a": {
          "model_module": "@jupyter-widgets/base",
          "model_name": "LayoutModel",
          "model_module_version": "1.2.0",
          "state": {
            "_model_module": "@jupyter-widgets/base",
            "_model_module_version": "1.2.0",
            "_model_name": "LayoutModel",
            "_view_count": null,
            "_view_module": "@jupyter-widgets/base",
            "_view_module_version": "1.2.0",
            "_view_name": "LayoutView",
            "align_content": null,
            "align_items": null,
            "align_self": null,
            "border": null,
            "bottom": null,
            "display": null,
            "flex": null,
            "flex_flow": null,
            "grid_area": null,
            "grid_auto_columns": null,
            "grid_auto_flow": null,
            "grid_auto_rows": null,
            "grid_column": null,
            "grid_gap": null,
            "grid_row": null,
            "grid_template_areas": null,
            "grid_template_columns": null,
            "grid_template_rows": null,
            "height": null,
            "justify_content": null,
            "justify_items": null,
            "left": null,
            "margin": null,
            "max_height": null,
            "max_width": null,
            "min_height": null,
            "min_width": null,
            "object_fit": null,
            "object_position": null,
            "order": null,
            "overflow": null,
            "overflow_x": null,
            "overflow_y": null,
            "padding": null,
            "right": null,
            "top": null,
            "visibility": null,
            "width": null
          }
        },
        "d972770ad438411e8092568cdd88ce7c": {
          "model_module": "@jupyter-widgets/base",
          "model_name": "LayoutModel",
          "model_module_version": "1.2.0",
          "state": {
            "_model_module": "@jupyter-widgets/base",
            "_model_module_version": "1.2.0",
            "_model_name": "LayoutModel",
            "_view_count": null,
            "_view_module": "@jupyter-widgets/base",
            "_view_module_version": "1.2.0",
            "_view_name": "LayoutView",
            "align_content": null,
            "align_items": null,
            "align_self": null,
            "border": null,
            "bottom": null,
            "display": null,
            "flex": null,
            "flex_flow": null,
            "grid_area": null,
            "grid_auto_columns": null,
            "grid_auto_flow": null,
            "grid_auto_rows": null,
            "grid_column": null,
            "grid_gap": null,
            "grid_row": null,
            "grid_template_areas": null,
            "grid_template_columns": null,
            "grid_template_rows": null,
            "height": "28px",
            "justify_content": null,
            "justify_items": null,
            "left": null,
            "margin": null,
            "max_height": null,
            "max_width": null,
            "min_height": null,
            "min_width": null,
            "object_fit": null,
            "object_position": null,
            "order": null,
            "overflow": null,
            "overflow_x": null,
            "overflow_y": null,
            "padding": "0px 0px 0px 4px",
            "right": null,
            "top": null,
            "visibility": null,
            "width": "28px"
          }
        },
        "d791375c83e840129f928f4ef0fe6b78": {
          "model_module": "@jupyter-widgets/controls",
          "model_name": "DescriptionStyleModel",
          "model_module_version": "1.5.0",
          "state": {
            "_model_module": "@jupyter-widgets/controls",
            "_model_module_version": "1.5.0",
            "_model_name": "DescriptionStyleModel",
            "_view_count": null,
            "_view_module": "@jupyter-widgets/base",
            "_view_module_version": "1.2.0",
            "_view_name": "StyleView",
            "description_width": ""
          }
        },
        "bb5597ba4ab045a2b3cd5700809d527a": {
          "model_module": "@jupyter-widgets/base",
          "model_name": "LayoutModel",
          "model_module_version": "1.2.0",
          "state": {
            "_model_module": "@jupyter-widgets/base",
            "_model_module_version": "1.2.0",
            "_model_name": "LayoutModel",
            "_view_count": null,
            "_view_module": "@jupyter-widgets/base",
            "_view_module_version": "1.2.0",
            "_view_name": "LayoutView",
            "align_content": null,
            "align_items": null,
            "align_self": null,
            "border": null,
            "bottom": null,
            "display": null,
            "flex": null,
            "flex_flow": null,
            "grid_area": null,
            "grid_auto_columns": null,
            "grid_auto_flow": null,
            "grid_auto_rows": null,
            "grid_column": null,
            "grid_gap": null,
            "grid_row": null,
            "grid_template_areas": null,
            "grid_template_columns": null,
            "grid_template_rows": null,
            "height": "28px",
            "justify_content": null,
            "justify_items": null,
            "left": null,
            "margin": null,
            "max_height": null,
            "max_width": null,
            "min_height": null,
            "min_width": null,
            "object_fit": null,
            "object_position": null,
            "order": null,
            "overflow": null,
            "overflow_x": null,
            "overflow_y": null,
            "padding": "0px 0px 0px 4px",
            "right": null,
            "top": null,
            "visibility": null,
            "width": "28px"
          }
        },
        "70960d9efb6b4ebda694c05f8f869500": {
          "model_module": "@jupyter-widgets/controls",
          "model_name": "DescriptionStyleModel",
          "model_module_version": "1.5.0",
          "state": {
            "_model_module": "@jupyter-widgets/controls",
            "_model_module_version": "1.5.0",
            "_model_name": "DescriptionStyleModel",
            "_view_count": null,
            "_view_module": "@jupyter-widgets/base",
            "_view_module_version": "1.2.0",
            "_view_name": "StyleView",
            "description_width": ""
          }
        },
        "8fbeefc503624bf8a01c1686ab4fd304": {
          "model_module": "jupyter-leaflet",
          "model_name": "LeafletMapModel",
          "model_module_version": "^0.18",
          "state": {
            "_dom_classes": [],
            "_model_module": "jupyter-leaflet",
            "_model_module_version": "^0.18",
            "_model_name": "LeafletMapModel",
            "_view_count": null,
            "_view_module": "jupyter-leaflet",
            "_view_module_version": "^0.18",
            "_view_name": "LeafletMapView",
            "bottom": 49339,
            "bounce_at_zoom_limits": true,
            "box_zoom": true,
            "center": [
              41.214298237495086,
              26.166221754653815
            ],
            "close_popup_on_click": true,
            "controls": [
              "IPY_MODEL_6897951f6f2f4e3a841c6fe24a8c88a4",
              "IPY_MODEL_ec1d3ce69cc44796b41483e6ce9ab655",
              "IPY_MODEL_19cbaef26958442ba02be5d6735cc893",
              "IPY_MODEL_ba779af8d3e048e68fe317a94c14aca8",
              "IPY_MODEL_8148ac04364544d2a0995dcd439f2f10",
              "IPY_MODEL_f7611be8ff7e49398b982a234a91882e",
              "IPY_MODEL_5035a4c2774f40e599a2efcbbf6675b2",
              "IPY_MODEL_275b7cc3d67f41b4ab4ab93256a76400",
              "IPY_MODEL_983c577c695e4c47b09363cb8095e292"
            ],
            "crs": {
              "name": "EPSG3857",
              "custom": false
            },
            "default_style": "IPY_MODEL_a09958f623ea4f389ae5cf191d5fa2a2",
            "double_click_zoom": true,
            "dragging": true,
            "dragging_style": "IPY_MODEL_c7d0d8e239e0486eb0357b9a4e558757",
            "east": 28.262329101562504,
            "fullscreen": false,
            "inertia": true,
            "inertia_deceleration": 3000,
            "inertia_max_speed": 1500,
            "interpolation": "bilinear",
            "keyboard": true,
            "keyboard_pan_offset": 80,
            "keyboard_zoom_offset": 1,
            "layers": [
              "IPY_MODEL_1dfef3a812a243248e5a5fc84e7c9bb1",
              "IPY_MODEL_efe302fce2984196a9cb73a4eb96b026",
              "IPY_MODEL_cada10dfa65f480390ce1cabc886426a",
              "IPY_MODEL_92c455c96b05497bbd537aee3475b0b5",
              "IPY_MODEL_b163aed77b9e4f18a5cc82b42c77e2ba",
              "IPY_MODEL_f87267b322184530833258b34afb9b52",
              "IPY_MODEL_d136febd921f4c03ae93a664b28630df",
              "IPY_MODEL_a73b0705fa154ff2b5fc5480349d79ab",
              "IPY_MODEL_3425cb4f7f284417a56180509fae1049",
              "IPY_MODEL_8aab23528f824afeabe89b96a9d2e3aa",
              "IPY_MODEL_b687a4a993f443ada62046c68d0d1ced",
              "IPY_MODEL_42a0ac7b18f5416f858b19f2c9d34139"
            ],
            "layout": "IPY_MODEL_d89d36699c0d4310b7a2a801bd644353",
            "left": 74299,
            "max_zoom": 24,
            "min_zoom": null,
            "modisdate": "2024-06-25",
            "north": 41.83068856472101,
            "options": [
              "bounce_at_zoom_limits",
              "box_zoom",
              "center",
              "close_popup_on_click",
              "double_click_zoom",
              "dragging",
              "fullscreen",
              "inertia",
              "inertia_deceleration",
              "inertia_max_speed",
              "interpolation",
              "keyboard",
              "keyboard_pan_offset",
              "keyboard_zoom_offset",
              "max_zoom",
              "min_zoom",
              "prefer_canvas",
              "scroll_wheel_zoom",
              "tap",
              "tap_tolerance",
              "touch_zoom",
              "world_copy_jump",
              "zoom",
              "zoom_animation_threshold",
              "zoom_delta",
              "zoom_snap"
            ],
            "panes": {},
            "prefer_canvas": false,
            "right": 75826,
            "scroll_wheel_zoom": true,
            "south": 40.591013883455936,
            "style": "IPY_MODEL_619e608bafde450cb713c092d8837e87",
            "tap": true,
            "tap_tolerance": 15,
            "top": 48739,
            "touch_zoom": true,
            "west": 24.068298339843754,
            "window_url": "https://20fujqusz7f-496ff2e9c6d22116-0-colab.googleusercontent.com/outputframe.html?vrz=colab_20240625-060120_RC01_646520897",
            "world_copy_jump": false,
            "zoom": 9,
            "zoom_animation_threshold": 4,
            "zoom_delta": 1,
            "zoom_snap": 1
          }
        },
        "6897951f6f2f4e3a841c6fe24a8c88a4": {
          "model_module": "jupyter-leaflet",
          "model_name": "LeafletWidgetControlModel",
          "model_module_version": "^0.18",
          "state": {
            "_model_module": "jupyter-leaflet",
            "_model_module_version": "^0.18",
            "_model_name": "LeafletWidgetControlModel",
            "_view_count": null,
            "_view_module": "jupyter-leaflet",
            "_view_module_version": "^0.18",
            "_view_name": "LeafletWidgetControlView",
            "max_height": null,
            "max_width": null,
            "min_height": null,
            "min_width": null,
            "options": [
              "position",
              "transparent_bg"
            ],
            "position": "topleft",
            "transparent_bg": false,
            "widget": "IPY_MODEL_fcd09a915cdd4c79bedee72c83362a18"
          }
        },
        "ec1d3ce69cc44796b41483e6ce9ab655": {
          "model_module": "jupyter-leaflet",
          "model_name": "LeafletZoomControlModel",
          "model_module_version": "^0.18",
          "state": {
            "_model_module": "jupyter-leaflet",
            "_model_module_version": "^0.18",
            "_model_name": "LeafletZoomControlModel",
            "_view_count": null,
            "_view_module": "jupyter-leaflet",
            "_view_module_version": "^0.18",
            "_view_name": "LeafletZoomControlView",
            "options": [
              "position",
              "zoom_in_text",
              "zoom_in_title",
              "zoom_out_text",
              "zoom_out_title"
            ],
            "position": "topleft",
            "zoom_in_text": "+",
            "zoom_in_title": "Zoom in",
            "zoom_out_text": "-",
            "zoom_out_title": "Zoom out"
          }
        },
        "19cbaef26958442ba02be5d6735cc893": {
          "model_module": "jupyter-leaflet",
          "model_name": "LeafletFullScreenControlModel",
          "model_module_version": "^0.18",
          "state": {
            "_model_module": "jupyter-leaflet",
            "_model_module_version": "^0.18",
            "_model_name": "LeafletFullScreenControlModel",
            "_view_count": null,
            "_view_module": "jupyter-leaflet",
            "_view_module_version": "^0.18",
            "_view_name": "LeafletFullScreenControlView",
            "options": [
              "position"
            ],
            "position": "topleft"
          }
        },
        "ba779af8d3e048e68fe317a94c14aca8": {
          "model_module": "jupyter-leaflet",
          "model_name": "LeafletDrawControlModel",
          "model_module_version": "^0.18",
          "state": {
            "_model_module": "jupyter-leaflet",
            "_model_module_version": "^0.18",
            "_model_name": "LeafletDrawControlModel",
            "_view_count": null,
            "_view_module": "jupyter-leaflet",
            "_view_module_version": "^0.18",
            "_view_name": "LeafletDrawControlView",
            "circle": {},
            "circlemarker": {},
            "data": [],
            "edit": true,
            "marker": {
              "shapeOptions": {
                "color": "#3388ff"
              }
            },
            "options": [
              "position"
            ],
            "polygon": {
              "shapeOptions": {}
            },
            "polyline": {
              "shapeOptions": {}
            },
            "position": "topleft",
            "rectangle": {
              "shapeOptions": {
                "color": "#3388ff"
              }
            },
            "remove": true
          }
        },
        "8148ac04364544d2a0995dcd439f2f10": {
          "model_module": "jupyter-leaflet",
          "model_name": "LeafletScaleControlModel",
          "model_module_version": "^0.18",
          "state": {
            "_model_module": "jupyter-leaflet",
            "_model_module_version": "^0.18",
            "_model_name": "LeafletScaleControlModel",
            "_view_count": null,
            "_view_module": "jupyter-leaflet",
            "_view_module_version": "^0.18",
            "_view_name": "LeafletScaleControlView",
            "imperial": true,
            "max_width": 100,
            "metric": true,
            "options": [
              "imperial",
              "max_width",
              "metric",
              "position",
              "update_when_idle"
            ],
            "position": "bottomleft",
            "update_when_idle": false
          }
        },
        "f7611be8ff7e49398b982a234a91882e": {
          "model_module": "jupyter-leaflet",
          "model_name": "LeafletMeasureControlModel",
          "model_module_version": "^0.18",
          "state": {
            "_custom_units": {},
            "_model_module": "jupyter-leaflet",
            "_model_module_version": "^0.18",
            "_model_name": "LeafletMeasureControlModel",
            "_view_count": null,
            "_view_module": "jupyter-leaflet",
            "_view_module_version": "^0.18",
            "_view_name": "LeafletMeasureControlView",
            "active_color": "orange",
            "capture_z_index": 10000,
            "completed_color": "#C8F2BE",
            "options": [
              "active_color",
              "capture_z_index",
              "completed_color",
              "popup_options",
              "position",
              "primary_area_unit",
              "primary_length_unit",
              "secondary_area_unit",
              "secondary_length_unit"
            ],
            "popup_options": {
              "className": "leaflet-measure-resultpopup",
              "autoPanPadding": [
                10,
                10
              ]
            },
            "position": "bottomleft",
            "primary_area_unit": "acres",
            "primary_length_unit": "kilometers",
            "secondary_area_unit": null,
            "secondary_length_unit": null
          }
        },
        "5035a4c2774f40e599a2efcbbf6675b2": {
          "model_module": "jupyter-leaflet",
          "model_name": "LeafletWidgetControlModel",
          "model_module_version": "^0.18",
          "state": {
            "_model_module": "jupyter-leaflet",
            "_model_module_version": "^0.18",
            "_model_name": "LeafletWidgetControlModel",
            "_view_count": null,
            "_view_module": "jupyter-leaflet",
            "_view_module_version": "^0.18",
            "_view_name": "LeafletWidgetControlView",
            "max_height": null,
            "max_width": null,
            "min_height": null,
            "min_width": null,
            "options": [
              "position",
              "transparent_bg"
            ],
            "position": "topright",
            "transparent_bg": false,
            "widget": "IPY_MODEL_27da6059ba0a414a86aa35d5480fa5f5"
          }
        },
        "275b7cc3d67f41b4ab4ab93256a76400": {
          "model_module": "jupyter-leaflet",
          "model_name": "LeafletAttributionControlModel",
          "model_module_version": "^0.18",
          "state": {
            "_model_module": "jupyter-leaflet",
            "_model_module_version": "^0.18",
            "_model_name": "LeafletAttributionControlModel",
            "_view_count": null,
            "_view_module": "jupyter-leaflet",
            "_view_module_version": "^0.18",
            "_view_name": "LeafletAttributionControlView",
            "options": [
              "position",
              "prefix"
            ],
            "position": "bottomright",
            "prefix": "ipyleaflet"
          }
        },
        "983c577c695e4c47b09363cb8095e292": {
          "model_module": "jupyter-leaflet",
          "model_name": "LeafletLayersControlModel",
          "model_module_version": "^0.18",
          "state": {
            "_model_module": "jupyter-leaflet",
            "_model_module_version": "^0.18",
            "_model_name": "LeafletLayersControlModel",
            "_view_count": null,
            "_view_module": "jupyter-leaflet",
            "_view_module_version": "^0.18",
            "_view_name": "LeafletLayersControlView",
            "collapsed": true,
            "options": [
              "collapsed",
              "position"
            ],
            "position": "topright"
          }
        },
        "a09958f623ea4f389ae5cf191d5fa2a2": {
          "model_module": "jupyter-leaflet",
          "model_name": "LeafletMapStyleModel",
          "model_module_version": "^0.18",
          "state": {
            "_model_module": "jupyter-leaflet",
            "_model_module_version": "^0.18",
            "_model_name": "LeafletMapStyleModel",
            "_view_count": null,
            "_view_module": "@jupyter-widgets/base",
            "_view_module_version": "1.2.0",
            "_view_name": "StyleView",
            "cursor": "grab"
          }
        },
        "c7d0d8e239e0486eb0357b9a4e558757": {
          "model_module": "jupyter-leaflet",
          "model_name": "LeafletMapStyleModel",
          "model_module_version": "^0.18",
          "state": {
            "_model_module": "jupyter-leaflet",
            "_model_module_version": "^0.18",
            "_model_name": "LeafletMapStyleModel",
            "_view_count": null,
            "_view_module": "@jupyter-widgets/base",
            "_view_module_version": "1.2.0",
            "_view_name": "StyleView",
            "cursor": "move"
          }
        },
        "1dfef3a812a243248e5a5fc84e7c9bb1": {
          "model_module": "jupyter-leaflet",
          "model_name": "LeafletTileLayerModel",
          "model_module_version": "^0.18",
          "state": {
            "_model_module": "jupyter-leaflet",
            "_model_module_version": "^0.18",
            "_model_name": "LeafletTileLayerModel",
            "_view_count": null,
            "_view_module": "jupyter-leaflet",
            "_view_module_version": "^0.18",
            "_view_name": "LeafletTileLayerView",
            "attribution": "&copy; <a href=\"https://www.openstreetmap.org/copyright\">OpenStreetMap</a> contributors",
            "base": true,
            "bottom": true,
            "bounds": null,
            "detect_retina": false,
            "loading": false,
            "max_native_zoom": null,
            "max_zoom": 19,
            "min_native_zoom": null,
            "min_zoom": 1,
            "name": "OpenStreetMap.Mapnik",
            "no_wrap": false,
            "opacity": 1,
            "options": [
              "attribution",
              "bounds",
              "detect_retina",
              "max_native_zoom",
              "max_zoom",
              "min_native_zoom",
              "min_zoom",
              "no_wrap",
              "tile_size",
              "tms",
              "zoom_offset"
            ],
            "pane": "",
            "popup": null,
            "popup_max_height": null,
            "popup_max_width": 300,
            "popup_min_width": 50,
            "show_loading": false,
            "subitems": [],
            "tile_size": 256,
            "tms": false,
            "url": "https://tile.openstreetmap.org/{z}/{x}/{y}.png",
            "visible": true,
            "zoom_offset": 0
          }
        },
        "efe302fce2984196a9cb73a4eb96b026": {
          "model_module": "jupyter-leaflet",
          "model_name": "LeafletTileLayerModel",
          "model_module_version": "^0.18",
          "state": {
            "_model_module": "jupyter-leaflet",
            "_model_module_version": "^0.18",
            "_model_name": "LeafletTileLayerModel",
            "_view_count": null,
            "_view_module": "jupyter-leaflet",
            "_view_module_version": "^0.18",
            "_view_name": "LeafletTileLayerView",
            "attribution": "Google Earth Engine",
            "base": false,
            "bottom": true,
            "bounds": null,
            "detect_retina": false,
            "loading": false,
            "max_native_zoom": null,
            "max_zoom": 24,
            "min_native_zoom": null,
            "min_zoom": 0,
            "name": "OG CLIPED COMPOSITE 2013 ",
            "no_wrap": false,
            "opacity": 1,
            "options": [
              "attribution",
              "bounds",
              "detect_retina",
              "max_native_zoom",
              "max_zoom",
              "min_native_zoom",
              "min_zoom",
              "no_wrap",
              "tile_size",
              "tms",
              "zoom_offset"
            ],
            "pane": "",
            "popup": null,
            "popup_max_height": null,
            "popup_max_width": 300,
            "popup_min_width": 50,
            "show_loading": false,
            "subitems": [],
            "tile_size": 256,
            "tms": false,
            "url": "https://earthengine.googleapis.com/v1/projects/832299660047/maps/371fda475ce05a203e2134ce0a7cd245-7512f0234fb55511f4653ec1e8a31716/tiles/{z}/{x}/{y}",
            "visible": true,
            "zoom_offset": 0
          }
        },
        "cada10dfa65f480390ce1cabc886426a": {
          "model_module": "jupyter-leaflet",
          "model_name": "LeafletTileLayerModel",
          "model_module_version": "^0.18",
          "state": {
            "_model_module": "jupyter-leaflet",
            "_model_module_version": "^0.18",
            "_model_name": "LeafletTileLayerModel",
            "_view_count": null,
            "_view_module": "jupyter-leaflet",
            "_view_module_version": "^0.18",
            "_view_name": "LeafletTileLayerView",
            "attribution": "Google Earth Engine",
            "base": false,
            "bottom": true,
            "bounds": null,
            "detect_retina": false,
            "loading": false,
            "max_native_zoom": null,
            "max_zoom": 24,
            "min_native_zoom": null,
            "min_zoom": 0,
            "name": "OG CLIPED COMPOSITE 2014 ",
            "no_wrap": false,
            "opacity": 1,
            "options": [
              "attribution",
              "bounds",
              "detect_retina",
              "max_native_zoom",
              "max_zoom",
              "min_native_zoom",
              "min_zoom",
              "no_wrap",
              "tile_size",
              "tms",
              "zoom_offset"
            ],
            "pane": "",
            "popup": null,
            "popup_max_height": null,
            "popup_max_width": 300,
            "popup_min_width": 50,
            "show_loading": false,
            "subitems": [],
            "tile_size": 256,
            "tms": false,
            "url": "https://earthengine.googleapis.com/v1/projects/832299660047/maps/c0e310ed6bb2a1a91115662154a10834-d5a2eea626fc88ae302cdce75f2e2f51/tiles/{z}/{x}/{y}",
            "visible": true,
            "zoom_offset": 0
          }
        },
        "92c455c96b05497bbd537aee3475b0b5": {
          "model_module": "jupyter-leaflet",
          "model_name": "LeafletTileLayerModel",
          "model_module_version": "^0.18",
          "state": {
            "_model_module": "jupyter-leaflet",
            "_model_module_version": "^0.18",
            "_model_name": "LeafletTileLayerModel",
            "_view_count": null,
            "_view_module": "jupyter-leaflet",
            "_view_module_version": "^0.18",
            "_view_name": "LeafletTileLayerView",
            "attribution": "Google Earth Engine",
            "base": false,
            "bottom": true,
            "bounds": null,
            "detect_retina": false,
            "loading": false,
            "max_native_zoom": null,
            "max_zoom": 24,
            "min_native_zoom": null,
            "min_zoom": 0,
            "name": "OG CLIPED COMPOSITE 2015 ",
            "no_wrap": false,
            "opacity": 1,
            "options": [
              "attribution",
              "bounds",
              "detect_retina",
              "max_native_zoom",
              "max_zoom",
              "min_native_zoom",
              "min_zoom",
              "no_wrap",
              "tile_size",
              "tms",
              "zoom_offset"
            ],
            "pane": "",
            "popup": null,
            "popup_max_height": null,
            "popup_max_width": 300,
            "popup_min_width": 50,
            "show_loading": false,
            "subitems": [],
            "tile_size": 256,
            "tms": false,
            "url": "https://earthengine.googleapis.com/v1/projects/832299660047/maps/52675f34bd435a1aed9aeb8525e7bdd3-b340ca136a5a3f912f4691295f978377/tiles/{z}/{x}/{y}",
            "visible": true,
            "zoom_offset": 0
          }
        },
        "b163aed77b9e4f18a5cc82b42c77e2ba": {
          "model_module": "jupyter-leaflet",
          "model_name": "LeafletTileLayerModel",
          "model_module_version": "^0.18",
          "state": {
            "_model_module": "jupyter-leaflet",
            "_model_module_version": "^0.18",
            "_model_name": "LeafletTileLayerModel",
            "_view_count": null,
            "_view_module": "jupyter-leaflet",
            "_view_module_version": "^0.18",
            "_view_name": "LeafletTileLayerView",
            "attribution": "Google Earth Engine",
            "base": false,
            "bottom": true,
            "bounds": null,
            "detect_retina": false,
            "loading": false,
            "max_native_zoom": null,
            "max_zoom": 24,
            "min_native_zoom": null,
            "min_zoom": 0,
            "name": "OG CLIPED COMPOSITE 2016 ",
            "no_wrap": false,
            "opacity": 1,
            "options": [
              "attribution",
              "bounds",
              "detect_retina",
              "max_native_zoom",
              "max_zoom",
              "min_native_zoom",
              "min_zoom",
              "no_wrap",
              "tile_size",
              "tms",
              "zoom_offset"
            ],
            "pane": "",
            "popup": null,
            "popup_max_height": null,
            "popup_max_width": 300,
            "popup_min_width": 50,
            "show_loading": false,
            "subitems": [],
            "tile_size": 256,
            "tms": false,
            "url": "https://earthengine.googleapis.com/v1/projects/832299660047/maps/1393d9b5c772fdea520dae7a974d6859-01f0b61b61a0485e9b73b3a9c9f3a15b/tiles/{z}/{x}/{y}",
            "visible": true,
            "zoom_offset": 0
          }
        },
        "f87267b322184530833258b34afb9b52": {
          "model_module": "jupyter-leaflet",
          "model_name": "LeafletTileLayerModel",
          "model_module_version": "^0.18",
          "state": {
            "_model_module": "jupyter-leaflet",
            "_model_module_version": "^0.18",
            "_model_name": "LeafletTileLayerModel",
            "_view_count": null,
            "_view_module": "jupyter-leaflet",
            "_view_module_version": "^0.18",
            "_view_name": "LeafletTileLayerView",
            "attribution": "Google Earth Engine",
            "base": false,
            "bottom": true,
            "bounds": null,
            "detect_retina": false,
            "loading": false,
            "max_native_zoom": null,
            "max_zoom": 24,
            "min_native_zoom": null,
            "min_zoom": 0,
            "name": "OG CLIPED COMPOSITE 2017 ",
            "no_wrap": false,
            "opacity": 1,
            "options": [
              "attribution",
              "bounds",
              "detect_retina",
              "max_native_zoom",
              "max_zoom",
              "min_native_zoom",
              "min_zoom",
              "no_wrap",
              "tile_size",
              "tms",
              "zoom_offset"
            ],
            "pane": "",
            "popup": null,
            "popup_max_height": null,
            "popup_max_width": 300,
            "popup_min_width": 50,
            "show_loading": false,
            "subitems": [],
            "tile_size": 256,
            "tms": false,
            "url": "https://earthengine.googleapis.com/v1/projects/832299660047/maps/4677f39492636b8ee26272fc2c7bad93-89784d96100a3dda0484efc7abb0ba86/tiles/{z}/{x}/{y}",
            "visible": true,
            "zoom_offset": 0
          }
        },
        "d136febd921f4c03ae93a664b28630df": {
          "model_module": "jupyter-leaflet",
          "model_name": "LeafletTileLayerModel",
          "model_module_version": "^0.18",
          "state": {
            "_model_module": "jupyter-leaflet",
            "_model_module_version": "^0.18",
            "_model_name": "LeafletTileLayerModel",
            "_view_count": null,
            "_view_module": "jupyter-leaflet",
            "_view_module_version": "^0.18",
            "_view_name": "LeafletTileLayerView",
            "attribution": "Google Earth Engine",
            "base": false,
            "bottom": true,
            "bounds": null,
            "detect_retina": false,
            "loading": false,
            "max_native_zoom": null,
            "max_zoom": 24,
            "min_native_zoom": null,
            "min_zoom": 0,
            "name": "OG CLIPED COMPOSITE 2018 ",
            "no_wrap": false,
            "opacity": 1,
            "options": [
              "attribution",
              "bounds",
              "detect_retina",
              "max_native_zoom",
              "max_zoom",
              "min_native_zoom",
              "min_zoom",
              "no_wrap",
              "tile_size",
              "tms",
              "zoom_offset"
            ],
            "pane": "",
            "popup": null,
            "popup_max_height": null,
            "popup_max_width": 300,
            "popup_min_width": 50,
            "show_loading": false,
            "subitems": [],
            "tile_size": 256,
            "tms": false,
            "url": "https://earthengine.googleapis.com/v1/projects/832299660047/maps/a38ec2c5e4dd96e204168fe47e083792-9d008757a8bea3582f5fef8f4a704a17/tiles/{z}/{x}/{y}",
            "visible": true,
            "zoom_offset": 0
          }
        },
        "a73b0705fa154ff2b5fc5480349d79ab": {
          "model_module": "jupyter-leaflet",
          "model_name": "LeafletTileLayerModel",
          "model_module_version": "^0.18",
          "state": {
            "_model_module": "jupyter-leaflet",
            "_model_module_version": "^0.18",
            "_model_name": "LeafletTileLayerModel",
            "_view_count": null,
            "_view_module": "jupyter-leaflet",
            "_view_module_version": "^0.18",
            "_view_name": "LeafletTileLayerView",
            "attribution": "Google Earth Engine",
            "base": false,
            "bottom": true,
            "bounds": null,
            "detect_retina": false,
            "loading": false,
            "max_native_zoom": null,
            "max_zoom": 24,
            "min_native_zoom": null,
            "min_zoom": 0,
            "name": "OG CLIPED COMPOSITE 2019 ",
            "no_wrap": false,
            "opacity": 1,
            "options": [
              "attribution",
              "bounds",
              "detect_retina",
              "max_native_zoom",
              "max_zoom",
              "min_native_zoom",
              "min_zoom",
              "no_wrap",
              "tile_size",
              "tms",
              "zoom_offset"
            ],
            "pane": "",
            "popup": null,
            "popup_max_height": null,
            "popup_max_width": 300,
            "popup_min_width": 50,
            "show_loading": false,
            "subitems": [],
            "tile_size": 256,
            "tms": false,
            "url": "https://earthengine.googleapis.com/v1/projects/832299660047/maps/32a40c295f39238a440cb034f1f48766-006657db5b3c3c1e2b68634cc112d5b2/tiles/{z}/{x}/{y}",
            "visible": true,
            "zoom_offset": 0
          }
        },
        "3425cb4f7f284417a56180509fae1049": {
          "model_module": "jupyter-leaflet",
          "model_name": "LeafletTileLayerModel",
          "model_module_version": "^0.18",
          "state": {
            "_model_module": "jupyter-leaflet",
            "_model_module_version": "^0.18",
            "_model_name": "LeafletTileLayerModel",
            "_view_count": null,
            "_view_module": "jupyter-leaflet",
            "_view_module_version": "^0.18",
            "_view_name": "LeafletTileLayerView",
            "attribution": "Google Earth Engine",
            "base": false,
            "bottom": true,
            "bounds": null,
            "detect_retina": false,
            "loading": false,
            "max_native_zoom": null,
            "max_zoom": 24,
            "min_native_zoom": null,
            "min_zoom": 0,
            "name": "OG CLIPED COMPOSITE 2020 ",
            "no_wrap": false,
            "opacity": 1,
            "options": [
              "attribution",
              "bounds",
              "detect_retina",
              "max_native_zoom",
              "max_zoom",
              "min_native_zoom",
              "min_zoom",
              "no_wrap",
              "tile_size",
              "tms",
              "zoom_offset"
            ],
            "pane": "",
            "popup": null,
            "popup_max_height": null,
            "popup_max_width": 300,
            "popup_min_width": 50,
            "show_loading": false,
            "subitems": [],
            "tile_size": 256,
            "tms": false,
            "url": "https://earthengine.googleapis.com/v1/projects/832299660047/maps/db02e627b4fcfa74ab50ac4d6c124f88-44f0c73ac334325212db89dab703aaae/tiles/{z}/{x}/{y}",
            "visible": true,
            "zoom_offset": 0
          }
        },
        "8aab23528f824afeabe89b96a9d2e3aa": {
          "model_module": "jupyter-leaflet",
          "model_name": "LeafletTileLayerModel",
          "model_module_version": "^0.18",
          "state": {
            "_model_module": "jupyter-leaflet",
            "_model_module_version": "^0.18",
            "_model_name": "LeafletTileLayerModel",
            "_view_count": null,
            "_view_module": "jupyter-leaflet",
            "_view_module_version": "^0.18",
            "_view_name": "LeafletTileLayerView",
            "attribution": "Google Earth Engine",
            "base": false,
            "bottom": true,
            "bounds": null,
            "detect_retina": false,
            "loading": false,
            "max_native_zoom": null,
            "max_zoom": 24,
            "min_native_zoom": null,
            "min_zoom": 0,
            "name": "OG CLIPED COMPOSITE 2021 ",
            "no_wrap": false,
            "opacity": 1,
            "options": [
              "attribution",
              "bounds",
              "detect_retina",
              "max_native_zoom",
              "max_zoom",
              "min_native_zoom",
              "min_zoom",
              "no_wrap",
              "tile_size",
              "tms",
              "zoom_offset"
            ],
            "pane": "",
            "popup": null,
            "popup_max_height": null,
            "popup_max_width": 300,
            "popup_min_width": 50,
            "show_loading": false,
            "subitems": [],
            "tile_size": 256,
            "tms": false,
            "url": "https://earthengine.googleapis.com/v1/projects/832299660047/maps/cf1796158c2fe45fb28fb0b12d1f5a63-bc327efb63c798932a9b26b5fabcc97f/tiles/{z}/{x}/{y}",
            "visible": true,
            "zoom_offset": 0
          }
        },
        "b687a4a993f443ada62046c68d0d1ced": {
          "model_module": "jupyter-leaflet",
          "model_name": "LeafletTileLayerModel",
          "model_module_version": "^0.18",
          "state": {
            "_model_module": "jupyter-leaflet",
            "_model_module_version": "^0.18",
            "_model_name": "LeafletTileLayerModel",
            "_view_count": null,
            "_view_module": "jupyter-leaflet",
            "_view_module_version": "^0.18",
            "_view_name": "LeafletTileLayerView",
            "attribution": "Google Earth Engine",
            "base": false,
            "bottom": true,
            "bounds": null,
            "detect_retina": false,
            "loading": false,
            "max_native_zoom": null,
            "max_zoom": 24,
            "min_native_zoom": null,
            "min_zoom": 0,
            "name": "OG CLIPED COMPOSITE 2022 ",
            "no_wrap": false,
            "opacity": 1,
            "options": [
              "attribution",
              "bounds",
              "detect_retina",
              "max_native_zoom",
              "max_zoom",
              "min_native_zoom",
              "min_zoom",
              "no_wrap",
              "tile_size",
              "tms",
              "zoom_offset"
            ],
            "pane": "",
            "popup": null,
            "popup_max_height": null,
            "popup_max_width": 300,
            "popup_min_width": 50,
            "show_loading": false,
            "subitems": [],
            "tile_size": 256,
            "tms": false,
            "url": "https://earthengine.googleapis.com/v1/projects/832299660047/maps/ca4a6ac3145c6897de6bdddc062db75d-08b0c60c731d455b18fbf245c2664e50/tiles/{z}/{x}/{y}",
            "visible": true,
            "zoom_offset": 0
          }
        },
        "42a0ac7b18f5416f858b19f2c9d34139": {
          "model_module": "jupyter-leaflet",
          "model_name": "LeafletTileLayerModel",
          "model_module_version": "^0.18",
          "state": {
            "_model_module": "jupyter-leaflet",
            "_model_module_version": "^0.18",
            "_model_name": "LeafletTileLayerModel",
            "_view_count": null,
            "_view_module": "jupyter-leaflet",
            "_view_module_version": "^0.18",
            "_view_name": "LeafletTileLayerView",
            "attribution": "Google Earth Engine",
            "base": false,
            "bottom": true,
            "bounds": null,
            "detect_retina": false,
            "loading": false,
            "max_native_zoom": null,
            "max_zoom": 24,
            "min_native_zoom": null,
            "min_zoom": 0,
            "name": "OG CLIPED COMPOSITE 2023 ",
            "no_wrap": false,
            "opacity": 1,
            "options": [
              "attribution",
              "bounds",
              "detect_retina",
              "max_native_zoom",
              "max_zoom",
              "min_native_zoom",
              "min_zoom",
              "no_wrap",
              "tile_size",
              "tms",
              "zoom_offset"
            ],
            "pane": "",
            "popup": null,
            "popup_max_height": null,
            "popup_max_width": 300,
            "popup_min_width": 50,
            "show_loading": false,
            "subitems": [],
            "tile_size": 256,
            "tms": false,
            "url": "https://earthengine.googleapis.com/v1/projects/832299660047/maps/9d96eb3826b60d6c091c60f3ee4e712b-468762f4aeacae6853e06ada9da3ad02/tiles/{z}/{x}/{y}",
            "visible": true,
            "zoom_offset": 0
          }
        },
        "d89d36699c0d4310b7a2a801bd644353": {
          "model_module": "@jupyter-widgets/base",
          "model_name": "LayoutModel",
          "model_module_version": "1.2.0",
          "state": {
            "_model_module": "@jupyter-widgets/base",
            "_model_module_version": "1.2.0",
            "_model_name": "LayoutModel",
            "_view_count": null,
            "_view_module": "@jupyter-widgets/base",
            "_view_module_version": "1.2.0",
            "_view_name": "LayoutView",
            "align_content": null,
            "align_items": null,
            "align_self": null,
            "border": null,
            "bottom": null,
            "display": null,
            "flex": null,
            "flex_flow": null,
            "grid_area": null,
            "grid_auto_columns": null,
            "grid_auto_flow": null,
            "grid_auto_rows": null,
            "grid_column": null,
            "grid_gap": null,
            "grid_row": null,
            "grid_template_areas": null,
            "grid_template_columns": null,
            "grid_template_rows": null,
            "height": "600px",
            "justify_content": null,
            "justify_items": null,
            "left": null,
            "margin": null,
            "max_height": null,
            "max_width": null,
            "min_height": null,
            "min_width": null,
            "object_fit": null,
            "object_position": null,
            "order": null,
            "overflow": null,
            "overflow_x": null,
            "overflow_y": null,
            "padding": null,
            "right": null,
            "top": null,
            "visibility": null,
            "width": null
          }
        },
        "619e608bafde450cb713c092d8837e87": {
          "model_module": "jupyter-leaflet",
          "model_name": "LeafletMapStyleModel",
          "model_module_version": "^0.18",
          "state": {
            "_model_module": "jupyter-leaflet",
            "_model_module_version": "^0.18",
            "_model_name": "LeafletMapStyleModel",
            "_view_count": null,
            "_view_module": "@jupyter-widgets/base",
            "_view_module_version": "1.2.0",
            "_view_name": "StyleView",
            "cursor": "grab"
          }
        },
        "fcd09a915cdd4c79bedee72c83362a18": {
          "model_module": "@jupyter-widgets/controls",
          "model_name": "HBoxModel",
          "model_module_version": "1.5.0",
          "state": {
            "_dom_classes": [
              "geemap-colab"
            ],
            "_model_module": "@jupyter-widgets/controls",
            "_model_module_version": "1.5.0",
            "_model_name": "HBoxModel",
            "_view_count": null,
            "_view_module": "@jupyter-widgets/controls",
            "_view_module_version": "1.5.0",
            "_view_name": "HBoxView",
            "box_style": "",
            "children": [
              "IPY_MODEL_890e7adc986c4a00b57a56584b8c1993"
            ],
            "layout": "IPY_MODEL_d396f85ab34545c28b5b346ba4819f8f"
          }
        },
        "27da6059ba0a414a86aa35d5480fa5f5": {
          "model_module": "@jupyter-widgets/controls",
          "model_name": "VBoxModel",
          "model_module_version": "1.5.0",
          "state": {
            "_dom_classes": [
              "geemap-colab"
            ],
            "_model_module": "@jupyter-widgets/controls",
            "_model_module_version": "1.5.0",
            "_model_name": "VBoxModel",
            "_view_count": null,
            "_view_module": "@jupyter-widgets/controls",
            "_view_module_version": "1.5.0",
            "_view_name": "VBoxView",
            "box_style": "",
            "children": [
              "IPY_MODEL_dd8861714e4b463a9e507f499a6c61bf"
            ],
            "layout": "IPY_MODEL_5115246abb684a1cb18afc767aaea473"
          }
        },
        "890e7adc986c4a00b57a56584b8c1993": {
          "model_module": "@jupyter-widgets/controls",
          "model_name": "ToggleButtonModel",
          "model_module_version": "1.5.0",
          "state": {
            "_dom_classes": [],
            "_model_module": "@jupyter-widgets/controls",
            "_model_module_version": "1.5.0",
            "_model_name": "ToggleButtonModel",
            "_view_count": null,
            "_view_module": "@jupyter-widgets/controls",
            "_view_module_version": "1.5.0",
            "_view_name": "ToggleButtonView",
            "button_style": "",
            "description": "",
            "description_tooltip": null,
            "disabled": false,
            "icon": "globe",
            "layout": "IPY_MODEL_3bd5ee46d42a4f6fb7948f6f2bc43775",
            "style": "IPY_MODEL_859b537183874e31b16bbf078fa6e505",
            "tooltip": "Search location/data",
            "value": false
          }
        },
        "d396f85ab34545c28b5b346ba4819f8f": {
          "model_module": "@jupyter-widgets/base",
          "model_name": "LayoutModel",
          "model_module_version": "1.2.0",
          "state": {
            "_model_module": "@jupyter-widgets/base",
            "_model_module_version": "1.2.0",
            "_model_name": "LayoutModel",
            "_view_count": null,
            "_view_module": "@jupyter-widgets/base",
            "_view_module_version": "1.2.0",
            "_view_name": "LayoutView",
            "align_content": null,
            "align_items": null,
            "align_self": null,
            "border": null,
            "bottom": null,
            "display": null,
            "flex": null,
            "flex_flow": null,
            "grid_area": null,
            "grid_auto_columns": null,
            "grid_auto_flow": null,
            "grid_auto_rows": null,
            "grid_column": null,
            "grid_gap": null,
            "grid_row": null,
            "grid_template_areas": null,
            "grid_template_columns": null,
            "grid_template_rows": null,
            "height": null,
            "justify_content": null,
            "justify_items": null,
            "left": null,
            "margin": null,
            "max_height": null,
            "max_width": null,
            "min_height": null,
            "min_width": null,
            "object_fit": null,
            "object_position": null,
            "order": null,
            "overflow": null,
            "overflow_x": null,
            "overflow_y": null,
            "padding": null,
            "right": null,
            "top": null,
            "visibility": null,
            "width": null
          }
        },
        "dd8861714e4b463a9e507f499a6c61bf": {
          "model_module": "@jupyter-widgets/controls",
          "model_name": "ToggleButtonModel",
          "model_module_version": "1.5.0",
          "state": {
            "_dom_classes": [],
            "_model_module": "@jupyter-widgets/controls",
            "_model_module_version": "1.5.0",
            "_model_name": "ToggleButtonModel",
            "_view_count": null,
            "_view_module": "@jupyter-widgets/controls",
            "_view_module_version": "1.5.0",
            "_view_name": "ToggleButtonView",
            "button_style": "",
            "description": "",
            "description_tooltip": null,
            "disabled": false,
            "icon": "wrench",
            "layout": "IPY_MODEL_df1086e542e648069b3133aa12e41a53",
            "style": "IPY_MODEL_d85b78fea5b640b88ea3afca42731324",
            "tooltip": "Toolbar",
            "value": false
          }
        },
        "5115246abb684a1cb18afc767aaea473": {
          "model_module": "@jupyter-widgets/base",
          "model_name": "LayoutModel",
          "model_module_version": "1.2.0",
          "state": {
            "_model_module": "@jupyter-widgets/base",
            "_model_module_version": "1.2.0",
            "_model_name": "LayoutModel",
            "_view_count": null,
            "_view_module": "@jupyter-widgets/base",
            "_view_module_version": "1.2.0",
            "_view_name": "LayoutView",
            "align_content": null,
            "align_items": null,
            "align_self": null,
            "border": null,
            "bottom": null,
            "display": null,
            "flex": null,
            "flex_flow": null,
            "grid_area": null,
            "grid_auto_columns": null,
            "grid_auto_flow": null,
            "grid_auto_rows": null,
            "grid_column": null,
            "grid_gap": null,
            "grid_row": null,
            "grid_template_areas": null,
            "grid_template_columns": null,
            "grid_template_rows": null,
            "height": null,
            "justify_content": null,
            "justify_items": null,
            "left": null,
            "margin": null,
            "max_height": null,
            "max_width": null,
            "min_height": null,
            "min_width": null,
            "object_fit": null,
            "object_position": null,
            "order": null,
            "overflow": null,
            "overflow_x": null,
            "overflow_y": null,
            "padding": null,
            "right": null,
            "top": null,
            "visibility": null,
            "width": null
          }
        },
        "3bd5ee46d42a4f6fb7948f6f2bc43775": {
          "model_module": "@jupyter-widgets/base",
          "model_name": "LayoutModel",
          "model_module_version": "1.2.0",
          "state": {
            "_model_module": "@jupyter-widgets/base",
            "_model_module_version": "1.2.0",
            "_model_name": "LayoutModel",
            "_view_count": null,
            "_view_module": "@jupyter-widgets/base",
            "_view_module_version": "1.2.0",
            "_view_name": "LayoutView",
            "align_content": null,
            "align_items": null,
            "align_self": null,
            "border": null,
            "bottom": null,
            "display": null,
            "flex": null,
            "flex_flow": null,
            "grid_area": null,
            "grid_auto_columns": null,
            "grid_auto_flow": null,
            "grid_auto_rows": null,
            "grid_column": null,
            "grid_gap": null,
            "grid_row": null,
            "grid_template_areas": null,
            "grid_template_columns": null,
            "grid_template_rows": null,
            "height": "28px",
            "justify_content": null,
            "justify_items": null,
            "left": null,
            "margin": null,
            "max_height": null,
            "max_width": null,
            "min_height": null,
            "min_width": null,
            "object_fit": null,
            "object_position": null,
            "order": null,
            "overflow": null,
            "overflow_x": null,
            "overflow_y": null,
            "padding": "0px 0px 0px 4px",
            "right": null,
            "top": null,
            "visibility": null,
            "width": "28px"
          }
        },
        "859b537183874e31b16bbf078fa6e505": {
          "model_module": "@jupyter-widgets/controls",
          "model_name": "DescriptionStyleModel",
          "model_module_version": "1.5.0",
          "state": {
            "_model_module": "@jupyter-widgets/controls",
            "_model_module_version": "1.5.0",
            "_model_name": "DescriptionStyleModel",
            "_view_count": null,
            "_view_module": "@jupyter-widgets/base",
            "_view_module_version": "1.2.0",
            "_view_name": "StyleView",
            "description_width": ""
          }
        },
        "df1086e542e648069b3133aa12e41a53": {
          "model_module": "@jupyter-widgets/base",
          "model_name": "LayoutModel",
          "model_module_version": "1.2.0",
          "state": {
            "_model_module": "@jupyter-widgets/base",
            "_model_module_version": "1.2.0",
            "_model_name": "LayoutModel",
            "_view_count": null,
            "_view_module": "@jupyter-widgets/base",
            "_view_module_version": "1.2.0",
            "_view_name": "LayoutView",
            "align_content": null,
            "align_items": null,
            "align_self": null,
            "border": null,
            "bottom": null,
            "display": null,
            "flex": null,
            "flex_flow": null,
            "grid_area": null,
            "grid_auto_columns": null,
            "grid_auto_flow": null,
            "grid_auto_rows": null,
            "grid_column": null,
            "grid_gap": null,
            "grid_row": null,
            "grid_template_areas": null,
            "grid_template_columns": null,
            "grid_template_rows": null,
            "height": "28px",
            "justify_content": null,
            "justify_items": null,
            "left": null,
            "margin": null,
            "max_height": null,
            "max_width": null,
            "min_height": null,
            "min_width": null,
            "object_fit": null,
            "object_position": null,
            "order": null,
            "overflow": null,
            "overflow_x": null,
            "overflow_y": null,
            "padding": "0px 0px 0px 4px",
            "right": null,
            "top": null,
            "visibility": null,
            "width": "28px"
          }
        },
        "d85b78fea5b640b88ea3afca42731324": {
          "model_module": "@jupyter-widgets/controls",
          "model_name": "DescriptionStyleModel",
          "model_module_version": "1.5.0",
          "state": {
            "_model_module": "@jupyter-widgets/controls",
            "_model_module_version": "1.5.0",
            "_model_name": "DescriptionStyleModel",
            "_view_count": null,
            "_view_module": "@jupyter-widgets/base",
            "_view_module_version": "1.2.0",
            "_view_name": "StyleView",
            "description_width": ""
          }
        },
        "d5609a52d9ea4b44957e609ac2674843": {
          "model_module": "jupyter-leaflet",
          "model_name": "LeafletMapModel",
          "model_module_version": "^0.18",
          "state": {
            "_dom_classes": [],
            "_model_module": "jupyter-leaflet",
            "_model_module_version": "^0.18",
            "_model_name": "LeafletMapModel",
            "_view_count": null,
            "_view_module": "jupyter-leaflet",
            "_view_module_version": "^0.18",
            "_view_name": "LeafletMapView",
            "bottom": 49339,
            "bounce_at_zoom_limits": true,
            "box_zoom": true,
            "center": [
              41.214298237495086,
              26.166221754653815
            ],
            "close_popup_on_click": true,
            "controls": [
              "IPY_MODEL_c1f19251f7464c49951b735ba5a50bc7",
              "IPY_MODEL_dff682bff63443c3b62028f44d8e147e",
              "IPY_MODEL_9170982d8f304e2f9d18881b8cff1667",
              "IPY_MODEL_9ad8448602354cb38c1cc0b3b689112a",
              "IPY_MODEL_8a98a2444c4c4d958a2d2cbcf91fbf78",
              "IPY_MODEL_38ed4404dac2459d9018e8bb33abd5d3",
              "IPY_MODEL_10b83eadfb22427a8aeb6682ec7ad30b",
              "IPY_MODEL_ca10d0bebe1a40bfae8f8938af9fbfb7",
              "IPY_MODEL_78e70585fa354b24b6f5e8b325e9bb3f"
            ],
            "crs": {
              "name": "EPSG3857",
              "custom": false
            },
            "default_style": "IPY_MODEL_bcc14de1308143ddacce7e00365e15fc",
            "double_click_zoom": true,
            "dragging": true,
            "dragging_style": "IPY_MODEL_238943d2e83a4b089ff487b7719e1ed6",
            "east": 28.262329101562504,
            "fullscreen": false,
            "inertia": true,
            "inertia_deceleration": 3000,
            "inertia_max_speed": 1500,
            "interpolation": "bilinear",
            "keyboard": true,
            "keyboard_pan_offset": 80,
            "keyboard_zoom_offset": 1,
            "layers": [
              "IPY_MODEL_87a5c4c58e8a48cf852588e58c9f4936",
              "IPY_MODEL_3ee9c8a3d2ef461abae4eaf9a430cb01",
              "IPY_MODEL_6809995c36e547c7a18ad99dce937f83",
              "IPY_MODEL_4275efaa95e54ba690c0c85653b7e68c",
              "IPY_MODEL_371865dadfed4eabbc37f7d5685f6d6c",
              "IPY_MODEL_f6a0afe6bcfb4e83b6265c243f20565c"
            ],
            "layout": "IPY_MODEL_8eb5c737261b422fa835fcf9ca9ca9ba",
            "left": 74299,
            "max_zoom": 24,
            "min_zoom": null,
            "modisdate": "2024-06-25",
            "north": 41.83068856472101,
            "options": [
              "bounce_at_zoom_limits",
              "box_zoom",
              "center",
              "close_popup_on_click",
              "double_click_zoom",
              "dragging",
              "fullscreen",
              "inertia",
              "inertia_deceleration",
              "inertia_max_speed",
              "interpolation",
              "keyboard",
              "keyboard_pan_offset",
              "keyboard_zoom_offset",
              "max_zoom",
              "min_zoom",
              "prefer_canvas",
              "scroll_wheel_zoom",
              "tap",
              "tap_tolerance",
              "touch_zoom",
              "world_copy_jump",
              "zoom",
              "zoom_animation_threshold",
              "zoom_delta",
              "zoom_snap"
            ],
            "panes": {},
            "prefer_canvas": false,
            "right": 75826,
            "scroll_wheel_zoom": true,
            "south": 40.591013883455936,
            "style": "IPY_MODEL_9137c3d50ae94552badb94c85769b3d2",
            "tap": true,
            "tap_tolerance": 15,
            "top": 48739,
            "touch_zoom": true,
            "west": 24.068298339843754,
            "window_url": "https://20fujqusz7f-496ff2e9c6d22116-0-colab.googleusercontent.com/outputframe.html?vrz=colab_20240625-060120_RC01_646520897",
            "world_copy_jump": false,
            "zoom": 9,
            "zoom_animation_threshold": 4,
            "zoom_delta": 1,
            "zoom_snap": 1
          }
        },
        "c1f19251f7464c49951b735ba5a50bc7": {
          "model_module": "jupyter-leaflet",
          "model_name": "LeafletWidgetControlModel",
          "model_module_version": "^0.18",
          "state": {
            "_model_module": "jupyter-leaflet",
            "_model_module_version": "^0.18",
            "_model_name": "LeafletWidgetControlModel",
            "_view_count": null,
            "_view_module": "jupyter-leaflet",
            "_view_module_version": "^0.18",
            "_view_name": "LeafletWidgetControlView",
            "max_height": null,
            "max_width": null,
            "min_height": null,
            "min_width": null,
            "options": [
              "position",
              "transparent_bg"
            ],
            "position": "topleft",
            "transparent_bg": false,
            "widget": "IPY_MODEL_07a6df63a319407c99cf917014f1c682"
          }
        },
        "dff682bff63443c3b62028f44d8e147e": {
          "model_module": "jupyter-leaflet",
          "model_name": "LeafletZoomControlModel",
          "model_module_version": "^0.18",
          "state": {
            "_model_module": "jupyter-leaflet",
            "_model_module_version": "^0.18",
            "_model_name": "LeafletZoomControlModel",
            "_view_count": null,
            "_view_module": "jupyter-leaflet",
            "_view_module_version": "^0.18",
            "_view_name": "LeafletZoomControlView",
            "options": [
              "position",
              "zoom_in_text",
              "zoom_in_title",
              "zoom_out_text",
              "zoom_out_title"
            ],
            "position": "topleft",
            "zoom_in_text": "+",
            "zoom_in_title": "Zoom in",
            "zoom_out_text": "-",
            "zoom_out_title": "Zoom out"
          }
        },
        "9170982d8f304e2f9d18881b8cff1667": {
          "model_module": "jupyter-leaflet",
          "model_name": "LeafletFullScreenControlModel",
          "model_module_version": "^0.18",
          "state": {
            "_model_module": "jupyter-leaflet",
            "_model_module_version": "^0.18",
            "_model_name": "LeafletFullScreenControlModel",
            "_view_count": null,
            "_view_module": "jupyter-leaflet",
            "_view_module_version": "^0.18",
            "_view_name": "LeafletFullScreenControlView",
            "options": [
              "position"
            ],
            "position": "topleft"
          }
        },
        "9ad8448602354cb38c1cc0b3b689112a": {
          "model_module": "jupyter-leaflet",
          "model_name": "LeafletDrawControlModel",
          "model_module_version": "^0.18",
          "state": {
            "_model_module": "jupyter-leaflet",
            "_model_module_version": "^0.18",
            "_model_name": "LeafletDrawControlModel",
            "_view_count": null,
            "_view_module": "jupyter-leaflet",
            "_view_module_version": "^0.18",
            "_view_name": "LeafletDrawControlView",
            "circle": {},
            "circlemarker": {},
            "data": [],
            "edit": true,
            "marker": {
              "shapeOptions": {
                "color": "#3388ff"
              }
            },
            "options": [
              "position"
            ],
            "polygon": {
              "shapeOptions": {}
            },
            "polyline": {
              "shapeOptions": {}
            },
            "position": "topleft",
            "rectangle": {
              "shapeOptions": {
                "color": "#3388ff"
              }
            },
            "remove": true
          }
        },
        "8a98a2444c4c4d958a2d2cbcf91fbf78": {
          "model_module": "jupyter-leaflet",
          "model_name": "LeafletScaleControlModel",
          "model_module_version": "^0.18",
          "state": {
            "_model_module": "jupyter-leaflet",
            "_model_module_version": "^0.18",
            "_model_name": "LeafletScaleControlModel",
            "_view_count": null,
            "_view_module": "jupyter-leaflet",
            "_view_module_version": "^0.18",
            "_view_name": "LeafletScaleControlView",
            "imperial": true,
            "max_width": 100,
            "metric": true,
            "options": [
              "imperial",
              "max_width",
              "metric",
              "position",
              "update_when_idle"
            ],
            "position": "bottomleft",
            "update_when_idle": false
          }
        },
        "38ed4404dac2459d9018e8bb33abd5d3": {
          "model_module": "jupyter-leaflet",
          "model_name": "LeafletMeasureControlModel",
          "model_module_version": "^0.18",
          "state": {
            "_custom_units": {},
            "_model_module": "jupyter-leaflet",
            "_model_module_version": "^0.18",
            "_model_name": "LeafletMeasureControlModel",
            "_view_count": null,
            "_view_module": "jupyter-leaflet",
            "_view_module_version": "^0.18",
            "_view_name": "LeafletMeasureControlView",
            "active_color": "orange",
            "capture_z_index": 10000,
            "completed_color": "#C8F2BE",
            "options": [
              "active_color",
              "capture_z_index",
              "completed_color",
              "popup_options",
              "position",
              "primary_area_unit",
              "primary_length_unit",
              "secondary_area_unit",
              "secondary_length_unit"
            ],
            "popup_options": {
              "className": "leaflet-measure-resultpopup",
              "autoPanPadding": [
                10,
                10
              ]
            },
            "position": "bottomleft",
            "primary_area_unit": "acres",
            "primary_length_unit": "kilometers",
            "secondary_area_unit": null,
            "secondary_length_unit": null
          }
        },
        "10b83eadfb22427a8aeb6682ec7ad30b": {
          "model_module": "jupyter-leaflet",
          "model_name": "LeafletWidgetControlModel",
          "model_module_version": "^0.18",
          "state": {
            "_model_module": "jupyter-leaflet",
            "_model_module_version": "^0.18",
            "_model_name": "LeafletWidgetControlModel",
            "_view_count": null,
            "_view_module": "jupyter-leaflet",
            "_view_module_version": "^0.18",
            "_view_name": "LeafletWidgetControlView",
            "max_height": null,
            "max_width": null,
            "min_height": null,
            "min_width": null,
            "options": [
              "position",
              "transparent_bg"
            ],
            "position": "topright",
            "transparent_bg": false,
            "widget": "IPY_MODEL_3919eede7b4a4577a0c4fc86333dec1d"
          }
        },
        "ca10d0bebe1a40bfae8f8938af9fbfb7": {
          "model_module": "jupyter-leaflet",
          "model_name": "LeafletAttributionControlModel",
          "model_module_version": "^0.18",
          "state": {
            "_model_module": "jupyter-leaflet",
            "_model_module_version": "^0.18",
            "_model_name": "LeafletAttributionControlModel",
            "_view_count": null,
            "_view_module": "jupyter-leaflet",
            "_view_module_version": "^0.18",
            "_view_name": "LeafletAttributionControlView",
            "options": [
              "position",
              "prefix"
            ],
            "position": "bottomright",
            "prefix": "ipyleaflet"
          }
        },
        "78e70585fa354b24b6f5e8b325e9bb3f": {
          "model_module": "jupyter-leaflet",
          "model_name": "LeafletLayersControlModel",
          "model_module_version": "^0.18",
          "state": {
            "_model_module": "jupyter-leaflet",
            "_model_module_version": "^0.18",
            "_model_name": "LeafletLayersControlModel",
            "_view_count": null,
            "_view_module": "jupyter-leaflet",
            "_view_module_version": "^0.18",
            "_view_name": "LeafletLayersControlView",
            "collapsed": true,
            "options": [
              "collapsed",
              "position"
            ],
            "position": "topright"
          }
        },
        "bcc14de1308143ddacce7e00365e15fc": {
          "model_module": "jupyter-leaflet",
          "model_name": "LeafletMapStyleModel",
          "model_module_version": "^0.18",
          "state": {
            "_model_module": "jupyter-leaflet",
            "_model_module_version": "^0.18",
            "_model_name": "LeafletMapStyleModel",
            "_view_count": null,
            "_view_module": "@jupyter-widgets/base",
            "_view_module_version": "1.2.0",
            "_view_name": "StyleView",
            "cursor": "grab"
          }
        },
        "238943d2e83a4b089ff487b7719e1ed6": {
          "model_module": "jupyter-leaflet",
          "model_name": "LeafletMapStyleModel",
          "model_module_version": "^0.18",
          "state": {
            "_model_module": "jupyter-leaflet",
            "_model_module_version": "^0.18",
            "_model_name": "LeafletMapStyleModel",
            "_view_count": null,
            "_view_module": "@jupyter-widgets/base",
            "_view_module_version": "1.2.0",
            "_view_name": "StyleView",
            "cursor": "move"
          }
        },
        "87a5c4c58e8a48cf852588e58c9f4936": {
          "model_module": "jupyter-leaflet",
          "model_name": "LeafletTileLayerModel",
          "model_module_version": "^0.18",
          "state": {
            "_model_module": "jupyter-leaflet",
            "_model_module_version": "^0.18",
            "_model_name": "LeafletTileLayerModel",
            "_view_count": null,
            "_view_module": "jupyter-leaflet",
            "_view_module_version": "^0.18",
            "_view_name": "LeafletTileLayerView",
            "attribution": "&copy; <a href=\"https://www.openstreetmap.org/copyright\">OpenStreetMap</a> contributors",
            "base": true,
            "bottom": true,
            "bounds": null,
            "detect_retina": false,
            "loading": false,
            "max_native_zoom": null,
            "max_zoom": 19,
            "min_native_zoom": null,
            "min_zoom": 1,
            "name": "OpenStreetMap.Mapnik",
            "no_wrap": false,
            "opacity": 1,
            "options": [
              "attribution",
              "bounds",
              "detect_retina",
              "max_native_zoom",
              "max_zoom",
              "min_native_zoom",
              "min_zoom",
              "no_wrap",
              "tile_size",
              "tms",
              "zoom_offset"
            ],
            "pane": "",
            "popup": null,
            "popup_max_height": null,
            "popup_max_width": 300,
            "popup_min_width": 50,
            "show_loading": false,
            "subitems": [],
            "tile_size": 256,
            "tms": false,
            "url": "https://tile.openstreetmap.org/{z}/{x}/{y}.png",
            "visible": true,
            "zoom_offset": 0
          }
        },
        "3ee9c8a3d2ef461abae4eaf9a430cb01": {
          "model_module": "jupyter-leaflet",
          "model_name": "LeafletTileLayerModel",
          "model_module_version": "^0.18",
          "state": {
            "_model_module": "jupyter-leaflet",
            "_model_module_version": "^0.18",
            "_model_name": "LeafletTileLayerModel",
            "_view_count": null,
            "_view_module": "jupyter-leaflet",
            "_view_module_version": "^0.18",
            "_view_name": "LeafletTileLayerView",
            "attribution": "Google Earth Engine",
            "base": false,
            "bottom": true,
            "bounds": null,
            "detect_retina": false,
            "loading": false,
            "max_native_zoom": null,
            "max_zoom": 24,
            "min_native_zoom": null,
            "min_zoom": 0,
            "name": "Difference 2022-23",
            "no_wrap": false,
            "opacity": 1,
            "options": [
              "attribution",
              "bounds",
              "detect_retina",
              "max_native_zoom",
              "max_zoom",
              "min_native_zoom",
              "min_zoom",
              "no_wrap",
              "tile_size",
              "tms",
              "zoom_offset"
            ],
            "pane": "",
            "popup": null,
            "popup_max_height": null,
            "popup_max_width": 300,
            "popup_min_width": 50,
            "show_loading": false,
            "subitems": [],
            "tile_size": 256,
            "tms": false,
            "url": "https://earthengine.googleapis.com/v1/projects/832299660047/maps/687f720319139266842d483f7d94dfcc-b500a121fe57b38a482c8a1d4a4057a5/tiles/{z}/{x}/{y}",
            "visible": true,
            "zoom_offset": 0
          }
        },
        "6809995c36e547c7a18ad99dce937f83": {
          "model_module": "jupyter-leaflet",
          "model_name": "LeafletTileLayerModel",
          "model_module_version": "^0.18",
          "state": {
            "_model_module": "jupyter-leaflet",
            "_model_module_version": "^0.18",
            "_model_name": "LeafletTileLayerModel",
            "_view_count": null,
            "_view_module": "jupyter-leaflet",
            "_view_module_version": "^0.18",
            "_view_name": "LeafletTileLayerView",
            "attribution": "Google Earth Engine",
            "base": false,
            "bottom": true,
            "bounds": null,
            "detect_retina": false,
            "loading": false,
            "max_native_zoom": null,
            "max_zoom": 24,
            "min_native_zoom": null,
            "min_zoom": 0,
            "name": "Difference 2013-14",
            "no_wrap": false,
            "opacity": 1,
            "options": [
              "attribution",
              "bounds",
              "detect_retina",
              "max_native_zoom",
              "max_zoom",
              "min_native_zoom",
              "min_zoom",
              "no_wrap",
              "tile_size",
              "tms",
              "zoom_offset"
            ],
            "pane": "",
            "popup": null,
            "popup_max_height": null,
            "popup_max_width": 300,
            "popup_min_width": 50,
            "show_loading": false,
            "subitems": [],
            "tile_size": 256,
            "tms": false,
            "url": "https://earthengine.googleapis.com/v1/projects/832299660047/maps/50e4d405789975af68c6aad25049aeb9-90838d4548681231f5802e4fa5d2b704/tiles/{z}/{x}/{y}",
            "visible": true,
            "zoom_offset": 0
          }
        },
        "4275efaa95e54ba690c0c85653b7e68c": {
          "model_module": "jupyter-leaflet",
          "model_name": "LeafletTileLayerModel",
          "model_module_version": "^0.18",
          "state": {
            "_model_module": "jupyter-leaflet",
            "_model_module_version": "^0.18",
            "_model_name": "LeafletTileLayerModel",
            "_view_count": null,
            "_view_module": "jupyter-leaflet",
            "_view_module_version": "^0.18",
            "_view_name": "LeafletTileLayerView",
            "attribution": "Google Earth Engine",
            "base": false,
            "bottom": true,
            "bounds": null,
            "detect_retina": false,
            "loading": false,
            "max_native_zoom": null,
            "max_zoom": 24,
            "min_native_zoom": null,
            "min_zoom": 0,
            "name": "Difference 2014-16",
            "no_wrap": false,
            "opacity": 1,
            "options": [
              "attribution",
              "bounds",
              "detect_retina",
              "max_native_zoom",
              "max_zoom",
              "min_native_zoom",
              "min_zoom",
              "no_wrap",
              "tile_size",
              "tms",
              "zoom_offset"
            ],
            "pane": "",
            "popup": null,
            "popup_max_height": null,
            "popup_max_width": 300,
            "popup_min_width": 50,
            "show_loading": false,
            "subitems": [],
            "tile_size": 256,
            "tms": false,
            "url": "https://earthengine.googleapis.com/v1/projects/832299660047/maps/9eb13ed2742a94dcd0a848e144587c7e-a83a19639c23278cfdeb8b1791937b90/tiles/{z}/{x}/{y}",
            "visible": true,
            "zoom_offset": 0
          }
        },
        "371865dadfed4eabbc37f7d5685f6d6c": {
          "model_module": "jupyter-leaflet",
          "model_name": "LeafletTileLayerModel",
          "model_module_version": "^0.18",
          "state": {
            "_model_module": "jupyter-leaflet",
            "_model_module_version": "^0.18",
            "_model_name": "LeafletTileLayerModel",
            "_view_count": null,
            "_view_module": "jupyter-leaflet",
            "_view_module_version": "^0.18",
            "_view_name": "LeafletTileLayerView",
            "attribution": "Google Earth Engine",
            "base": false,
            "bottom": true,
            "bounds": null,
            "detect_retina": false,
            "loading": false,
            "max_native_zoom": null,
            "max_zoom": 24,
            "min_native_zoom": null,
            "min_zoom": 0,
            "name": "Difference 2016-20",
            "no_wrap": false,
            "opacity": 1,
            "options": [
              "attribution",
              "bounds",
              "detect_retina",
              "max_native_zoom",
              "max_zoom",
              "min_native_zoom",
              "min_zoom",
              "no_wrap",
              "tile_size",
              "tms",
              "zoom_offset"
            ],
            "pane": "",
            "popup": null,
            "popup_max_height": null,
            "popup_max_width": 300,
            "popup_min_width": 50,
            "show_loading": false,
            "subitems": [],
            "tile_size": 256,
            "tms": false,
            "url": "https://earthengine.googleapis.com/v1/projects/832299660047/maps/8be2c956cdc7662cc84d4a53fdaff7fe-099801d4e6ec2f21fed83fe0d2527e2d/tiles/{z}/{x}/{y}",
            "visible": true,
            "zoom_offset": 0
          }
        },
        "f6a0afe6bcfb4e83b6265c243f20565c": {
          "model_module": "jupyter-leaflet",
          "model_name": "LeafletTileLayerModel",
          "model_module_version": "^0.18",
          "state": {
            "_model_module": "jupyter-leaflet",
            "_model_module_version": "^0.18",
            "_model_name": "LeafletTileLayerModel",
            "_view_count": null,
            "_view_module": "jupyter-leaflet",
            "_view_module_version": "^0.18",
            "_view_name": "LeafletTileLayerView",
            "attribution": "Google Earth Engine",
            "base": false,
            "bottom": true,
            "bounds": null,
            "detect_retina": false,
            "loading": false,
            "max_native_zoom": null,
            "max_zoom": 24,
            "min_native_zoom": null,
            "min_zoom": 0,
            "name": "Difference 2020 21",
            "no_wrap": false,
            "opacity": 1,
            "options": [
              "attribution",
              "bounds",
              "detect_retina",
              "max_native_zoom",
              "max_zoom",
              "min_native_zoom",
              "min_zoom",
              "no_wrap",
              "tile_size",
              "tms",
              "zoom_offset"
            ],
            "pane": "",
            "popup": null,
            "popup_max_height": null,
            "popup_max_width": 300,
            "popup_min_width": 50,
            "show_loading": false,
            "subitems": [],
            "tile_size": 256,
            "tms": false,
            "url": "https://earthengine.googleapis.com/v1/projects/832299660047/maps/d95b7e914e2055f78f74e5fe82358475-76f06c9af75b323ad0f4735f0c38e8ee/tiles/{z}/{x}/{y}",
            "visible": true,
            "zoom_offset": 0
          }
        },
        "8eb5c737261b422fa835fcf9ca9ca9ba": {
          "model_module": "@jupyter-widgets/base",
          "model_name": "LayoutModel",
          "model_module_version": "1.2.0",
          "state": {
            "_model_module": "@jupyter-widgets/base",
            "_model_module_version": "1.2.0",
            "_model_name": "LayoutModel",
            "_view_count": null,
            "_view_module": "@jupyter-widgets/base",
            "_view_module_version": "1.2.0",
            "_view_name": "LayoutView",
            "align_content": null,
            "align_items": null,
            "align_self": null,
            "border": null,
            "bottom": null,
            "display": null,
            "flex": null,
            "flex_flow": null,
            "grid_area": null,
            "grid_auto_columns": null,
            "grid_auto_flow": null,
            "grid_auto_rows": null,
            "grid_column": null,
            "grid_gap": null,
            "grid_row": null,
            "grid_template_areas": null,
            "grid_template_columns": null,
            "grid_template_rows": null,
            "height": "600px",
            "justify_content": null,
            "justify_items": null,
            "left": null,
            "margin": null,
            "max_height": null,
            "max_width": null,
            "min_height": null,
            "min_width": null,
            "object_fit": null,
            "object_position": null,
            "order": null,
            "overflow": null,
            "overflow_x": null,
            "overflow_y": null,
            "padding": null,
            "right": null,
            "top": null,
            "visibility": null,
            "width": null
          }
        },
        "9137c3d50ae94552badb94c85769b3d2": {
          "model_module": "jupyter-leaflet",
          "model_name": "LeafletMapStyleModel",
          "model_module_version": "^0.18",
          "state": {
            "_model_module": "jupyter-leaflet",
            "_model_module_version": "^0.18",
            "_model_name": "LeafletMapStyleModel",
            "_view_count": null,
            "_view_module": "@jupyter-widgets/base",
            "_view_module_version": "1.2.0",
            "_view_name": "StyleView",
            "cursor": "grab"
          }
        },
        "07a6df63a319407c99cf917014f1c682": {
          "model_module": "@jupyter-widgets/controls",
          "model_name": "HBoxModel",
          "model_module_version": "1.5.0",
          "state": {
            "_dom_classes": [
              "geemap-colab"
            ],
            "_model_module": "@jupyter-widgets/controls",
            "_model_module_version": "1.5.0",
            "_model_name": "HBoxModel",
            "_view_count": null,
            "_view_module": "@jupyter-widgets/controls",
            "_view_module_version": "1.5.0",
            "_view_name": "HBoxView",
            "box_style": "",
            "children": [
              "IPY_MODEL_9e32022ff6d94240b94b8ed17a6e0cd7"
            ],
            "layout": "IPY_MODEL_0b0039d514a14a7dab6f5e4555aa7834"
          }
        },
        "3919eede7b4a4577a0c4fc86333dec1d": {
          "model_module": "@jupyter-widgets/controls",
          "model_name": "VBoxModel",
          "model_module_version": "1.5.0",
          "state": {
            "_dom_classes": [
              "geemap-colab"
            ],
            "_model_module": "@jupyter-widgets/controls",
            "_model_module_version": "1.5.0",
            "_model_name": "VBoxModel",
            "_view_count": null,
            "_view_module": "@jupyter-widgets/controls",
            "_view_module_version": "1.5.0",
            "_view_name": "VBoxView",
            "box_style": "",
            "children": [
              "IPY_MODEL_c1b20b87fa6f4310a33a530b834f413c"
            ],
            "layout": "IPY_MODEL_857fe2724177461ab77309820d946294"
          }
        },
        "9e32022ff6d94240b94b8ed17a6e0cd7": {
          "model_module": "@jupyter-widgets/controls",
          "model_name": "ToggleButtonModel",
          "model_module_version": "1.5.0",
          "state": {
            "_dom_classes": [],
            "_model_module": "@jupyter-widgets/controls",
            "_model_module_version": "1.5.0",
            "_model_name": "ToggleButtonModel",
            "_view_count": null,
            "_view_module": "@jupyter-widgets/controls",
            "_view_module_version": "1.5.0",
            "_view_name": "ToggleButtonView",
            "button_style": "",
            "description": "",
            "description_tooltip": null,
            "disabled": false,
            "icon": "globe",
            "layout": "IPY_MODEL_b3de7c1b1c8b4e2080380f3a8d312c4c",
            "style": "IPY_MODEL_60039df945d845c6be1207dfe1630cac",
            "tooltip": "Search location/data",
            "value": false
          }
        },
        "0b0039d514a14a7dab6f5e4555aa7834": {
          "model_module": "@jupyter-widgets/base",
          "model_name": "LayoutModel",
          "model_module_version": "1.2.0",
          "state": {
            "_model_module": "@jupyter-widgets/base",
            "_model_module_version": "1.2.0",
            "_model_name": "LayoutModel",
            "_view_count": null,
            "_view_module": "@jupyter-widgets/base",
            "_view_module_version": "1.2.0",
            "_view_name": "LayoutView",
            "align_content": null,
            "align_items": null,
            "align_self": null,
            "border": null,
            "bottom": null,
            "display": null,
            "flex": null,
            "flex_flow": null,
            "grid_area": null,
            "grid_auto_columns": null,
            "grid_auto_flow": null,
            "grid_auto_rows": null,
            "grid_column": null,
            "grid_gap": null,
            "grid_row": null,
            "grid_template_areas": null,
            "grid_template_columns": null,
            "grid_template_rows": null,
            "height": null,
            "justify_content": null,
            "justify_items": null,
            "left": null,
            "margin": null,
            "max_height": null,
            "max_width": null,
            "min_height": null,
            "min_width": null,
            "object_fit": null,
            "object_position": null,
            "order": null,
            "overflow": null,
            "overflow_x": null,
            "overflow_y": null,
            "padding": null,
            "right": null,
            "top": null,
            "visibility": null,
            "width": null
          }
        },
        "c1b20b87fa6f4310a33a530b834f413c": {
          "model_module": "@jupyter-widgets/controls",
          "model_name": "ToggleButtonModel",
          "model_module_version": "1.5.0",
          "state": {
            "_dom_classes": [],
            "_model_module": "@jupyter-widgets/controls",
            "_model_module_version": "1.5.0",
            "_model_name": "ToggleButtonModel",
            "_view_count": null,
            "_view_module": "@jupyter-widgets/controls",
            "_view_module_version": "1.5.0",
            "_view_name": "ToggleButtonView",
            "button_style": "",
            "description": "",
            "description_tooltip": null,
            "disabled": false,
            "icon": "wrench",
            "layout": "IPY_MODEL_ebe8b4094b8d4a0b9a70aa6569f0e0ad",
            "style": "IPY_MODEL_34caa2d2c4cd446b8156255385d9d3e7",
            "tooltip": "Toolbar",
            "value": false
          }
        },
        "857fe2724177461ab77309820d946294": {
          "model_module": "@jupyter-widgets/base",
          "model_name": "LayoutModel",
          "model_module_version": "1.2.0",
          "state": {
            "_model_module": "@jupyter-widgets/base",
            "_model_module_version": "1.2.0",
            "_model_name": "LayoutModel",
            "_view_count": null,
            "_view_module": "@jupyter-widgets/base",
            "_view_module_version": "1.2.0",
            "_view_name": "LayoutView",
            "align_content": null,
            "align_items": null,
            "align_self": null,
            "border": null,
            "bottom": null,
            "display": null,
            "flex": null,
            "flex_flow": null,
            "grid_area": null,
            "grid_auto_columns": null,
            "grid_auto_flow": null,
            "grid_auto_rows": null,
            "grid_column": null,
            "grid_gap": null,
            "grid_row": null,
            "grid_template_areas": null,
            "grid_template_columns": null,
            "grid_template_rows": null,
            "height": null,
            "justify_content": null,
            "justify_items": null,
            "left": null,
            "margin": null,
            "max_height": null,
            "max_width": null,
            "min_height": null,
            "min_width": null,
            "object_fit": null,
            "object_position": null,
            "order": null,
            "overflow": null,
            "overflow_x": null,
            "overflow_y": null,
            "padding": null,
            "right": null,
            "top": null,
            "visibility": null,
            "width": null
          }
        },
        "b3de7c1b1c8b4e2080380f3a8d312c4c": {
          "model_module": "@jupyter-widgets/base",
          "model_name": "LayoutModel",
          "model_module_version": "1.2.0",
          "state": {
            "_model_module": "@jupyter-widgets/base",
            "_model_module_version": "1.2.0",
            "_model_name": "LayoutModel",
            "_view_count": null,
            "_view_module": "@jupyter-widgets/base",
            "_view_module_version": "1.2.0",
            "_view_name": "LayoutView",
            "align_content": null,
            "align_items": null,
            "align_self": null,
            "border": null,
            "bottom": null,
            "display": null,
            "flex": null,
            "flex_flow": null,
            "grid_area": null,
            "grid_auto_columns": null,
            "grid_auto_flow": null,
            "grid_auto_rows": null,
            "grid_column": null,
            "grid_gap": null,
            "grid_row": null,
            "grid_template_areas": null,
            "grid_template_columns": null,
            "grid_template_rows": null,
            "height": "28px",
            "justify_content": null,
            "justify_items": null,
            "left": null,
            "margin": null,
            "max_height": null,
            "max_width": null,
            "min_height": null,
            "min_width": null,
            "object_fit": null,
            "object_position": null,
            "order": null,
            "overflow": null,
            "overflow_x": null,
            "overflow_y": null,
            "padding": "0px 0px 0px 4px",
            "right": null,
            "top": null,
            "visibility": null,
            "width": "28px"
          }
        },
        "60039df945d845c6be1207dfe1630cac": {
          "model_module": "@jupyter-widgets/controls",
          "model_name": "DescriptionStyleModel",
          "model_module_version": "1.5.0",
          "state": {
            "_model_module": "@jupyter-widgets/controls",
            "_model_module_version": "1.5.0",
            "_model_name": "DescriptionStyleModel",
            "_view_count": null,
            "_view_module": "@jupyter-widgets/base",
            "_view_module_version": "1.2.0",
            "_view_name": "StyleView",
            "description_width": ""
          }
        },
        "ebe8b4094b8d4a0b9a70aa6569f0e0ad": {
          "model_module": "@jupyter-widgets/base",
          "model_name": "LayoutModel",
          "model_module_version": "1.2.0",
          "state": {
            "_model_module": "@jupyter-widgets/base",
            "_model_module_version": "1.2.0",
            "_model_name": "LayoutModel",
            "_view_count": null,
            "_view_module": "@jupyter-widgets/base",
            "_view_module_version": "1.2.0",
            "_view_name": "LayoutView",
            "align_content": null,
            "align_items": null,
            "align_self": null,
            "border": null,
            "bottom": null,
            "display": null,
            "flex": null,
            "flex_flow": null,
            "grid_area": null,
            "grid_auto_columns": null,
            "grid_auto_flow": null,
            "grid_auto_rows": null,
            "grid_column": null,
            "grid_gap": null,
            "grid_row": null,
            "grid_template_areas": null,
            "grid_template_columns": null,
            "grid_template_rows": null,
            "height": "28px",
            "justify_content": null,
            "justify_items": null,
            "left": null,
            "margin": null,
            "max_height": null,
            "max_width": null,
            "min_height": null,
            "min_width": null,
            "object_fit": null,
            "object_position": null,
            "order": null,
            "overflow": null,
            "overflow_x": null,
            "overflow_y": null,
            "padding": "0px 0px 0px 4px",
            "right": null,
            "top": null,
            "visibility": null,
            "width": "28px"
          }
        },
        "34caa2d2c4cd446b8156255385d9d3e7": {
          "model_module": "@jupyter-widgets/controls",
          "model_name": "DescriptionStyleModel",
          "model_module_version": "1.5.0",
          "state": {
            "_model_module": "@jupyter-widgets/controls",
            "_model_module_version": "1.5.0",
            "_model_name": "DescriptionStyleModel",
            "_view_count": null,
            "_view_module": "@jupyter-widgets/base",
            "_view_module_version": "1.2.0",
            "_view_name": "StyleView",
            "description_width": ""
          }
        }
      }
    }
  },
  "cells": [
    {
      "cell_type": "markdown",
      "source": [
        "\n",
        "# **Forest change analysis in the Evros region using Landsat 8 satellite data   and Google Earth Engine Tools**\n",
        "\n",
        "\n",
        "This Colab was made as an addition to my thesis with the same title.\n",
        "\n",
        "\n",
        "Name: Styliani Rafaela Maladaki\n",
        "\n",
        "-----------------------------------------------------------------------\n",
        "-----------------------------------------------------------------------\n",
        "\n",
        "![image.png](data:image/png;base64,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)\n",
        "\n",
        "-----------------------------------------------------------------------\n",
        "-----------------------------------------------------------------------\n",
        "\n",
        "\n",
        "NATIONAL AND KAPODISTRIAN UNIVERSITY  OF ATHENS\n",
        "\n",
        "SCHOOL OF SCIENCE\n",
        "\n",
        "DEPARTMENT OF AEROSPACE SCIENCE AND TECHNOLOGY\n",
        "\n"
      ],
      "metadata": {
        "id": "EgwAMrCnUMAn"
      }
    },
    {
      "cell_type": "markdown",
      "source": [
        "# IMPORTS"
      ],
      "metadata": {
        "id": "CNDgyh4JCGOD"
      }
    },
    {
      "cell_type": "code",
      "execution_count": 222,
      "metadata": {
        "id": "GV_auNpeUEr2",
        "colab": {
          "base_uri": "https://localhost:8080/",
          "height": 17
        },
        "outputId": "0c81b9ca-8400-4776-dd83-846e7409184d"
      },
      "outputs": [
        {
          "output_type": "display_data",
          "data": {
            "text/plain": [
              "<IPython.core.display.HTML object>"
            ],
            "text/html": [
              "\n",
              "            <style>\n",
              "                .geemap-dark {\n",
              "                    --jp-widgets-color: white;\n",
              "                    --jp-widgets-label-color: white;\n",
              "                    --jp-ui-font-color1: white;\n",
              "                    --jp-layout-color2: #454545;\n",
              "                    background-color: #383838;\n",
              "                }\n",
              "\n",
              "                .geemap-dark .jupyter-button {\n",
              "                    --jp-layout-color3: #383838;\n",
              "                }\n",
              "\n",
              "                .geemap-colab {\n",
              "                    background-color: var(--colab-primary-surface-color, white);\n",
              "                }\n",
              "\n",
              "                .geemap-colab .jupyter-button {\n",
              "                    --jp-layout-color3: var(--colab-primary-surface-color, white);\n",
              "                }\n",
              "            </style>\n",
              "            "
            ]
          },
          "metadata": {}
        }
      ],
      "source": [
        "#IMPORTS\n",
        "import ee\n",
        "import geemap\n",
        "import folium\n",
        "from IPython.display import Image\n",
        "from math import sqrt\n",
        "import matplotlib.pyplot as plt\n",
        "import numpy as np\n",
        "from skimage.metrics import structural_similarity as ssim"
      ]
    },
    {
      "cell_type": "code",
      "source": [
        "# Authenticating and Initializing the Earth Engine module.\n",
        "ee.Authenticate()\n",
        "ee.Initialize()"
      ],
      "metadata": {
        "colab": {
          "base_uri": "https://localhost:8080/",
          "height": 17
        },
        "id": "nxyF7fwRUL0T",
        "outputId": "9fbd6ef9-2cf7-40ac-9af6-7fe33dd401e2"
      },
      "execution_count": 223,
      "outputs": [
        {
          "output_type": "display_data",
          "data": {
            "text/plain": [
              "<IPython.core.display.HTML object>"
            ],
            "text/html": [
              "\n",
              "            <style>\n",
              "                .geemap-dark {\n",
              "                    --jp-widgets-color: white;\n",
              "                    --jp-widgets-label-color: white;\n",
              "                    --jp-ui-font-color1: white;\n",
              "                    --jp-layout-color2: #454545;\n",
              "                    background-color: #383838;\n",
              "                }\n",
              "\n",
              "                .geemap-dark .jupyter-button {\n",
              "                    --jp-layout-color3: #383838;\n",
              "                }\n",
              "\n",
              "                .geemap-colab {\n",
              "                    background-color: var(--colab-primary-surface-color, white);\n",
              "                }\n",
              "\n",
              "                .geemap-colab .jupyter-button {\n",
              "                    --jp-layout-color3: var(--colab-primary-surface-color, white);\n",
              "                }\n",
              "            </style>\n",
              "            "
            ]
          },
          "metadata": {}
        }
      ]
    },
    {
      "cell_type": "markdown",
      "source": [
        "#ACQUIRING THE DATA"
      ],
      "metadata": {
        "id": "tLftZTiFCs7W"
      }
    },
    {
      "cell_type": "markdown",
      "source": [
        "## Region of interest"
      ],
      "metadata": {
        "id": "xUr8JPvwawbm"
      }
    },
    {
      "cell_type": "markdown",
      "source": [],
      "metadata": {
        "id": "zy_KT_YQV7km"
      }
    },
    {
      "cell_type": "code",
      "source": [
        "#Geting the shapefile for The Global Administrative Unit Layers (GAUL) lvl 2 (regional units )\n",
        "gaul_feature_collection=ee.FeatureCollection(\"FAO/GAUL_SIMPLIFIED_500m/2015/level2\")\n",
        "evrou_feature_collection = gaul_feature_collection.filter(ee.Filter.eq('ADM2_NAME', 'Evrou'))\n",
        "#Protected aerias from : https://www.ecothraki.gr/%CE%B8%CF%81%CE%B1%CE%BA%CE%B7/%CF%86%CF%85%CF%83%CE%B9%CE%BA%CE%BF%CF%82-%CF%80%CE%BB%CE%BF%CF%85%CF%84%CE%BF%CF%82/%CE%B4%CE%AF%CE%BA%CF%84%CF%85%CE%BF-natura-2000/\n",
        "table_DA = ee.FeatureCollection(\"projects/ee-maladakistella/assets/DA_EVROS\")\n",
        "table_DD = ee.FeatureCollection(\"projects/ee-maladakistella/assets/DD_Evros\")\n",
        "region_merger=table_DA.merge(table_DD) #merging ΔΑ AND ΔΔ tables\n",
        "\n",
        "# Displaying the shapefiles\n",
        "Map = geemap.Map()\n",
        "\n",
        "Map.addLayer(region_merger, {'color':'black'}, 'Merged Region')\n",
        "\n",
        "Map.addLayer(table_DD, {'color':'yellow'}, 'ΔΔ region')\n",
        "Map.addLayer(table_DA, {'color':'red'}, 'ΔΑ region')\n",
        "\n",
        "Map.centerObject(region_merger, 10)\n",
        "\n",
        "\n",
        "Map.addLayerControl()\n",
        "Map"
      ],
      "metadata": {
        "colab": {
          "base_uri": "https://localhost:8080/",
          "height": 621,
          "referenced_widgets": [
            "0f8fc0ed476d46dc9913dffbb3b74d44",
            "78537e30ab66400995f2384ca456e30c",
            "9893411ac7df4d3599073fb91f091365",
            "2003add5d80746f697856ec2fc5985fd",
            "8a57be24cf4d40778d52a4afc8c61d3f",
            "978885f32ead48a3a819505d5f653187",
            "c8288cced50341eaa1d71de03d85058f",
            "cec136d48a3e414c9428f3b3cc6e0304",
            "88827b5d39f742c2a823cb5c8860614e",
            "1c35481c88654e8aa5628e1203c2b422",
            "7d2b7813c5b44bd284dc1d52bdea580e",
            "1eb56c01b89c4de9b868cba32a440d66",
            "8dad75ef96ca459fb0c79568fe649534",
            "226932e8ca8a417ab1ba8bd8ee229077",
            "2ac89ef400744f50a0432a6c70a729ad",
            "4ef39e4debc34a6cba7a3018b9c2edb3",
            "70750f79e1d24eb2b8779979728330dc",
            "4b3dfe0f3c4c4346a914cf49e26cdea0",
            "51a64ea48574432b8701098d17be3ac1",
            "04efa0ba3d7d415d8d5de2b2ea999946",
            "d31960e00300488d9d21c2b1e6fe704e",
            "3955f55970b443a298b3c8064bab425b",
            "cb1128d813d34bde961bf1e465c9c065",
            "2405e17070ef4624b5540dfc00026935",
            "671877e2cbe04d7b8d8e4b7f74cc7c15",
            "bc2299ac804844daaa5690d4db3d3042",
            "c62805828ba346998f404cb825a4f25c",
            "d5ccb241f13742338fca57fce890dc22"
          ]
        },
        "id": "XCKRrAJpVIU9",
        "outputId": "0690ce6b-0707-4efc-9faf-d9d526093e70"
      },
      "execution_count": 224,
      "outputs": [
        {
          "output_type": "display_data",
          "data": {
            "text/plain": [
              "<IPython.core.display.HTML object>"
            ],
            "text/html": [
              "\n",
              "            <style>\n",
              "                .geemap-dark {\n",
              "                    --jp-widgets-color: white;\n",
              "                    --jp-widgets-label-color: white;\n",
              "                    --jp-ui-font-color1: white;\n",
              "                    --jp-layout-color2: #454545;\n",
              "                    background-color: #383838;\n",
              "                }\n",
              "\n",
              "                .geemap-dark .jupyter-button {\n",
              "                    --jp-layout-color3: #383838;\n",
              "                }\n",
              "\n",
              "                .geemap-colab {\n",
              "                    background-color: var(--colab-primary-surface-color, white);\n",
              "                }\n",
              "\n",
              "                .geemap-colab .jupyter-button {\n",
              "                    --jp-layout-color3: var(--colab-primary-surface-color, white);\n",
              "                }\n",
              "            </style>\n",
              "            "
            ]
          },
          "metadata": {}
        },
        {
          "output_type": "display_data",
          "data": {
            "text/plain": [
              "Map(center=[41.100912807399546, 26.036034974720206], controls=(WidgetControl(options=['position', 'transparent…"
            ],
            "application/vnd.jupyter.widget-view+json": {
              "version_major": 2,
              "version_minor": 0,
              "model_id": "0f8fc0ed476d46dc9913dffbb3b74d44"
            }
          },
          "metadata": {
            "application/vnd.jupyter.widget-view+json": {
              "colab": {
                "custom_widget_manager": {
                  "url": "https://ssl.gstatic.com/colaboratory-static/widgets/colab-cdn-widget-manager/2b70e893a8ba7c0f/manager.min.js"
                }
              }
            }
          }
        }
      ]
    },
    {
      "cell_type": "markdown",
      "source": [],
      "metadata": {
        "id": "YaC1CmjSa7kJ"
      }
    },
    {
      "cell_type": "code",
      "source": [
        "region=evrou_feature_collection\n",
        "#image 1\n",
        "image_1=ee.ImageCollection(\"LANDSAT/LC08/C02/T1_RT\")\\\n",
        ".filterDate('2013-06-01','2013-06-30')\\\n",
        ".filterBounds(region)\\\n",
        ".sort('CLOUD_COVER')\\\n",
        "\n",
        "composite = ee.Algorithms.Landsat.simpleComposite(collection=image_1, asFloat=True)\n",
        "composite=composite.clip(region_merger)\n",
        "#image 2\n",
        "image_2=ee.ImageCollection(\"LANDSAT/LC08/C02/T1_RT\")\\\n",
        ".filterDate('2017-07-01','2017-07-30')\\\n",
        ".filterBounds(region)\\\n",
        ".sort('CLOUD_COVER')\n",
        "composite_2 = ee.Algorithms.Landsat.simpleComposite(collection=image_2, asFloat=True)\n",
        "composite_2=composite_2.clip(region_merger)\n",
        "#image 3\n",
        "image_3=ee.ImageCollection(\"LANDSAT/LC08/C02/T1_RT\")\\\n",
        ".filterDate('2023-09-01','2023-09-30')\\\n",
        ".filterBounds(region)\\\n",
        ".sort('CLOUD_COVER')\n",
        "\n",
        "composite_3 = ee.Algorithms.Landsat.simpleComposite(collection=image_3, asFloat=True)\n",
        "composite_3=composite_3.clip(region_merger)\n",
        "\n",
        "#displaying the bands of image composite_3\n",
        "composite_3\n",
        "\n"
      ],
      "metadata": {
        "colab": {
          "base_uri": "https://localhost:8080/",
          "height": 68
        },
        "id": "TgquUzcpXCFV",
        "outputId": "f73ef2f2-d1cb-474b-82ab-ebe774f496fe"
      },
      "execution_count": 225,
      "outputs": [
        {
          "output_type": "display_data",
          "data": {
            "text/plain": [
              "<IPython.core.display.HTML object>"
            ],
            "text/html": [
              "\n",
              "            <style>\n",
              "                .geemap-dark {\n",
              "                    --jp-widgets-color: white;\n",
              "                    --jp-widgets-label-color: white;\n",
              "                    --jp-ui-font-color1: white;\n",
              "                    --jp-layout-color2: #454545;\n",
              "                    background-color: #383838;\n",
              "                }\n",
              "\n",
              "                .geemap-dark .jupyter-button {\n",
              "                    --jp-layout-color3: #383838;\n",
              "                }\n",
              "\n",
              "                .geemap-colab {\n",
              "                    background-color: var(--colab-primary-surface-color, white);\n",
              "                }\n",
              "\n",
              "                .geemap-colab .jupyter-button {\n",
              "                    --jp-layout-color3: var(--colab-primary-surface-color, white);\n",
              "                }\n",
              "            </style>\n",
              "            "
            ]
          },
          "metadata": {}
        },
        {
          "output_type": "execute_result",
          "data": {
            "text/plain": [
              "<ee.image.Image at 0x7f52ae1e38e0>"
            ],
            "text/html": [
              "<div><style>:root {\n",
              "  --font-color-primary: var(--jp-content-font-color0, rgba(0, 0, 0, 1));\n",
              "  --font-color-secondary: var(--jp-content-font-color2, rgba(0, 0, 0, 0.6));\n",
              "  --font-color-accent: rgba(123, 31, 162, 1);\n",
              "  --border-color: var(--jp-border-color2, #e0e0e0);\n",
              "  --background-color: var(--jp-layout-color0, white);\n",
              "  --background-color-row-even: var(--jp-layout-color1, white);\n",
              "  --background-color-row-odd: var(--jp-layout-color2, #eeeeee);\n",
              "}\n",
              "\n",
              "html[theme=\"dark\"],\n",
              "body[data-theme=\"dark\"],\n",
              "body.vscode-dark {\n",
              "  --font-color-primary: rgba(255, 255, 255, 1);\n",
              "  --font-color-secondary: rgba(255, 255, 255, 0.6);\n",
              "  --font-color-accent: rgb(173, 132, 190);\n",
              "  --border-color: #2e2e2e;\n",
              "  --background-color: #111111;\n",
              "  --background-color-row-even: #111111;\n",
              "  --background-color-row-odd: #313131;\n",
              "}\n",
              "\n",
              ".ee {\n",
              "  padding: 1em;\n",
              "  line-height: 1.5em;\n",
              "  min-width: 300px;\n",
              "  max-width: 1200px;\n",
              "  overflow-y: scroll;\n",
              "  max-height: 600px;\n",
              "  border: 1px solid var(--border-color);\n",
              "  font-family: monospace;\n",
              "}\n",
              "\n",
              ".ee li {\n",
              "  list-style-type: none;\n",
              "}\n",
              "\n",
              ".ee ul {\n",
              "  padding-left: 1.5em !important;\n",
              "  margin: 0;\n",
              "}\n",
              "\n",
              ".ee > ul {\n",
              "  padding-left: 0 !important;\n",
              "}\n",
              "\n",
              ".ee-open,\n",
              ".ee-shut {\n",
              "  color: var(--font-color-secondary);\n",
              "  cursor: pointer;\n",
              "  margin: 0;\n",
              "}\n",
              "\n",
              ".ee-open:hover,\n",
              ".ee-shut:hover {\n",
              "  color: var(--font-color-primary);\n",
              "}\n",
              "\n",
              ".ee-k {\n",
              "  color: var(--font-color-accent);\n",
              "  margin-right: 6px;\n",
              "}\n",
              "\n",
              ".ee-v {\n",
              "  color: var(--font-color-primary);\n",
              "}\n",
              "\n",
              ".ee-toggle {\n",
              "  display: none;\n",
              "}\n",
              "\n",
              ".ee-shut + ul {\n",
              "  display: none;\n",
              "}\n",
              "\n",
              ".ee-open + ul {\n",
              "  display: block;\n",
              "}\n",
              "\n",
              ".ee-shut::before {\n",
              "  display: inline-block;\n",
              "  content: \"▼\";\n",
              "  margin-right: 6px;\n",
              "  transform: rotate(-90deg);\n",
              "  transition: transform 0.2s;\n",
              "}\n",
              "\n",
              ".ee-open::before {\n",
              "  transform: rotate(0deg);\n",
              "  display: inline-block;\n",
              "  content: \"▼\";\n",
              "  margin-right: 6px;\n",
              "  transition: transform 0.2s;\n",
              "}\n",
              "</style><div class='ee'><ul><li><label class='ee-shut'>Image (11 bands)<input type='checkbox' class='ee-toggle'></label><ul><li><span class='ee-k'>type:</span><span class='ee-v'>Image</span></li><li><label class='ee-shut'>bands: List (11 elements)<input type='checkbox' class='ee-toggle'></label><ul><li><label class='ee-shut'>0: \"B1\", float, EPSG:4326<input type='checkbox' class='ee-toggle'></label><ul><li><span class='ee-k'>id:</span><span class='ee-v'>B1</span></li><li><span class='ee-k'>crs:</span><span class='ee-v'>EPSG:4326</span></li><li><label class='ee-shut'>crs_transform: [1, 0, 0, 0, 1, 0]<input type='checkbox' class='ee-toggle'></label><ul><li><span class='ee-k'>0:</span><span class='ee-v'>1</span></li><li><span class='ee-k'>1:</span><span class='ee-v'>0</span></li><li><span class='ee-k'>2:</span><span class='ee-v'>0</span></li><li><span class='ee-k'>3:</span><span class='ee-v'>0</span></li><li><span class='ee-k'>4:</span><span class='ee-v'>1</span></li><li><span class='ee-k'>5:</span><span class='ee-v'>0</span></li></ul></li><li><label class='ee-shut'>data_type: float<input type='checkbox' class='ee-toggle'></label><ul><li><span class='ee-k'>type:</span><span class='ee-v'>PixelType</span></li><li><span class='ee-k'>precision:</span><span class='ee-v'>float</span></li></ul></li></ul></li><li><label class='ee-shut'>1: \"B2\", float, EPSG:4326<input type='checkbox' class='ee-toggle'></label><ul><li><span class='ee-k'>id:</span><span class='ee-v'>B2</span></li><li><span class='ee-k'>crs:</span><span class='ee-v'>EPSG:4326</span></li><li><label class='ee-shut'>crs_transform: [1, 0, 0, 0, 1, 0]<input type='checkbox' class='ee-toggle'></label><ul><li><span class='ee-k'>0:</span><span class='ee-v'>1</span></li><li><span class='ee-k'>1:</span><span class='ee-v'>0</span></li><li><span class='ee-k'>2:</span><span class='ee-v'>0</span></li><li><span class='ee-k'>3:</span><span class='ee-v'>0</span></li><li><span class='ee-k'>4:</span><span class='ee-v'>1</span></li><li><span class='ee-k'>5:</span><span class='ee-v'>0</span></li></ul></li><li><label class='ee-shut'>data_type: float<input type='checkbox' class='ee-toggle'></label><ul><li><span class='ee-k'>type:</span><span class='ee-v'>PixelType</span></li><li><span class='ee-k'>precision:</span><span class='ee-v'>float</span></li></ul></li></ul></li><li><label class='ee-shut'>2: \"B3\", float, EPSG:4326<input type='checkbox' class='ee-toggle'></label><ul><li><span class='ee-k'>id:</span><span class='ee-v'>B3</span></li><li><span class='ee-k'>crs:</span><span class='ee-v'>EPSG:4326</span></li><li><label class='ee-shut'>crs_transform: [1, 0, 0, 0, 1, 0]<input type='checkbox' class='ee-toggle'></label><ul><li><span class='ee-k'>0:</span><span class='ee-v'>1</span></li><li><span class='ee-k'>1:</span><span class='ee-v'>0</span></li><li><span class='ee-k'>2:</span><span class='ee-v'>0</span></li><li><span class='ee-k'>3:</span><span class='ee-v'>0</span></li><li><span class='ee-k'>4:</span><span class='ee-v'>1</span></li><li><span class='ee-k'>5:</span><span class='ee-v'>0</span></li></ul></li><li><label class='ee-shut'>data_type: float<input type='checkbox' class='ee-toggle'></label><ul><li><span class='ee-k'>type:</span><span class='ee-v'>PixelType</span></li><li><span class='ee-k'>precision:</span><span class='ee-v'>float</span></li></ul></li></ul></li><li><label class='ee-shut'>3: \"B4\", float, EPSG:4326<input type='checkbox' class='ee-toggle'></label><ul><li><span class='ee-k'>id:</span><span class='ee-v'>B4</span></li><li><span class='ee-k'>crs:</span><span class='ee-v'>EPSG:4326</span></li><li><label class='ee-shut'>crs_transform: [1, 0, 0, 0, 1, 0]<input type='checkbox' class='ee-toggle'></label><ul><li><span class='ee-k'>0:</span><span class='ee-v'>1</span></li><li><span class='ee-k'>1:</span><span class='ee-v'>0</span></li><li><span class='ee-k'>2:</span><span class='ee-v'>0</span></li><li><span class='ee-k'>3:</span><span class='ee-v'>0</span></li><li><span class='ee-k'>4:</span><span class='ee-v'>1</span></li><li><span class='ee-k'>5:</span><span class='ee-v'>0</span></li></ul></li><li><label class='ee-shut'>data_type: float<input type='checkbox' class='ee-toggle'></label><ul><li><span class='ee-k'>type:</span><span class='ee-v'>PixelType</span></li><li><span class='ee-k'>precision:</span><span class='ee-v'>float</span></li></ul></li></ul></li><li><label class='ee-shut'>4: \"B5\", float, EPSG:4326<input type='checkbox' class='ee-toggle'></label><ul><li><span class='ee-k'>id:</span><span class='ee-v'>B5</span></li><li><span class='ee-k'>crs:</span><span class='ee-v'>EPSG:4326</span></li><li><label class='ee-shut'>crs_transform: [1, 0, 0, 0, 1, 0]<input type='checkbox' class='ee-toggle'></label><ul><li><span class='ee-k'>0:</span><span class='ee-v'>1</span></li><li><span class='ee-k'>1:</span><span class='ee-v'>0</span></li><li><span class='ee-k'>2:</span><span class='ee-v'>0</span></li><li><span class='ee-k'>3:</span><span class='ee-v'>0</span></li><li><span class='ee-k'>4:</span><span class='ee-v'>1</span></li><li><span class='ee-k'>5:</span><span class='ee-v'>0</span></li></ul></li><li><label class='ee-shut'>data_type: float<input type='checkbox' class='ee-toggle'></label><ul><li><span class='ee-k'>type:</span><span class='ee-v'>PixelType</span></li><li><span class='ee-k'>precision:</span><span class='ee-v'>float</span></li></ul></li></ul></li><li><label class='ee-shut'>5: \"B6\", float, EPSG:4326<input type='checkbox' class='ee-toggle'></label><ul><li><span class='ee-k'>id:</span><span class='ee-v'>B6</span></li><li><span class='ee-k'>crs:</span><span class='ee-v'>EPSG:4326</span></li><li><label class='ee-shut'>crs_transform: [1, 0, 0, 0, 1, 0]<input type='checkbox' class='ee-toggle'></label><ul><li><span class='ee-k'>0:</span><span class='ee-v'>1</span></li><li><span class='ee-k'>1:</span><span class='ee-v'>0</span></li><li><span class='ee-k'>2:</span><span class='ee-v'>0</span></li><li><span class='ee-k'>3:</span><span class='ee-v'>0</span></li><li><span class='ee-k'>4:</span><span class='ee-v'>1</span></li><li><span class='ee-k'>5:</span><span class='ee-v'>0</span></li></ul></li><li><label class='ee-shut'>data_type: float<input type='checkbox' class='ee-toggle'></label><ul><li><span class='ee-k'>type:</span><span class='ee-v'>PixelType</span></li><li><span class='ee-k'>precision:</span><span class='ee-v'>float</span></li></ul></li></ul></li><li><label class='ee-shut'>6: \"B7\", float, EPSG:4326<input type='checkbox' class='ee-toggle'></label><ul><li><span class='ee-k'>id:</span><span class='ee-v'>B7</span></li><li><span class='ee-k'>crs:</span><span class='ee-v'>EPSG:4326</span></li><li><label class='ee-shut'>crs_transform: [1, 0, 0, 0, 1, 0]<input type='checkbox' class='ee-toggle'></label><ul><li><span class='ee-k'>0:</span><span class='ee-v'>1</span></li><li><span class='ee-k'>1:</span><span class='ee-v'>0</span></li><li><span class='ee-k'>2:</span><span class='ee-v'>0</span></li><li><span class='ee-k'>3:</span><span class='ee-v'>0</span></li><li><span class='ee-k'>4:</span><span class='ee-v'>1</span></li><li><span class='ee-k'>5:</span><span class='ee-v'>0</span></li></ul></li><li><label class='ee-shut'>data_type: float<input type='checkbox' class='ee-toggle'></label><ul><li><span class='ee-k'>type:</span><span class='ee-v'>PixelType</span></li><li><span class='ee-k'>precision:</span><span class='ee-v'>float</span></li></ul></li></ul></li><li><label class='ee-shut'>7: \"B8\", float, EPSG:4326<input type='checkbox' class='ee-toggle'></label><ul><li><span class='ee-k'>id:</span><span class='ee-v'>B8</span></li><li><span class='ee-k'>crs:</span><span class='ee-v'>EPSG:4326</span></li><li><label class='ee-shut'>crs_transform: [1, 0, 0, 0, 1, 0]<input type='checkbox' class='ee-toggle'></label><ul><li><span class='ee-k'>0:</span><span class='ee-v'>1</span></li><li><span class='ee-k'>1:</span><span class='ee-v'>0</span></li><li><span class='ee-k'>2:</span><span class='ee-v'>0</span></li><li><span class='ee-k'>3:</span><span class='ee-v'>0</span></li><li><span class='ee-k'>4:</span><span class='ee-v'>1</span></li><li><span class='ee-k'>5:</span><span class='ee-v'>0</span></li></ul></li><li><label class='ee-shut'>data_type: float<input type='checkbox' class='ee-toggle'></label><ul><li><span class='ee-k'>type:</span><span class='ee-v'>PixelType</span></li><li><span class='ee-k'>precision:</span><span class='ee-v'>float</span></li></ul></li></ul></li><li><label class='ee-shut'>8: \"B9\", float, EPSG:4326<input type='checkbox' class='ee-toggle'></label><ul><li><span class='ee-k'>id:</span><span class='ee-v'>B9</span></li><li><span class='ee-k'>crs:</span><span class='ee-v'>EPSG:4326</span></li><li><label class='ee-shut'>crs_transform: [1, 0, 0, 0, 1, 0]<input type='checkbox' class='ee-toggle'></label><ul><li><span class='ee-k'>0:</span><span class='ee-v'>1</span></li><li><span class='ee-k'>1:</span><span class='ee-v'>0</span></li><li><span class='ee-k'>2:</span><span class='ee-v'>0</span></li><li><span class='ee-k'>3:</span><span class='ee-v'>0</span></li><li><span class='ee-k'>4:</span><span class='ee-v'>1</span></li><li><span class='ee-k'>5:</span><span class='ee-v'>0</span></li></ul></li><li><label class='ee-shut'>data_type: float<input type='checkbox' class='ee-toggle'></label><ul><li><span class='ee-k'>type:</span><span class='ee-v'>PixelType</span></li><li><span class='ee-k'>precision:</span><span class='ee-v'>float</span></li></ul></li></ul></li><li><label class='ee-shut'>9: \"B10\", float, EPSG:4326<input type='checkbox' class='ee-toggle'></label><ul><li><span class='ee-k'>id:</span><span class='ee-v'>B10</span></li><li><span class='ee-k'>crs:</span><span class='ee-v'>EPSG:4326</span></li><li><label class='ee-shut'>crs_transform: [1, 0, 0, 0, 1, 0]<input type='checkbox' class='ee-toggle'></label><ul><li><span class='ee-k'>0:</span><span class='ee-v'>1</span></li><li><span class='ee-k'>1:</span><span class='ee-v'>0</span></li><li><span class='ee-k'>2:</span><span class='ee-v'>0</span></li><li><span class='ee-k'>3:</span><span class='ee-v'>0</span></li><li><span class='ee-k'>4:</span><span class='ee-v'>1</span></li><li><span class='ee-k'>5:</span><span class='ee-v'>0</span></li></ul></li><li><label class='ee-shut'>data_type: float<input type='checkbox' class='ee-toggle'></label><ul><li><span class='ee-k'>type:</span><span class='ee-v'>PixelType</span></li><li><span class='ee-k'>precision:</span><span class='ee-v'>float</span></li></ul></li></ul></li><li><label class='ee-shut'>10: \"B11\", float, EPSG:4326<input type='checkbox' class='ee-toggle'></label><ul><li><span class='ee-k'>id:</span><span class='ee-v'>B11</span></li><li><span class='ee-k'>crs:</span><span class='ee-v'>EPSG:4326</span></li><li><label class='ee-shut'>crs_transform: [1, 0, 0, 0, 1, 0]<input type='checkbox' class='ee-toggle'></label><ul><li><span class='ee-k'>0:</span><span class='ee-v'>1</span></li><li><span class='ee-k'>1:</span><span class='ee-v'>0</span></li><li><span class='ee-k'>2:</span><span class='ee-v'>0</span></li><li><span class='ee-k'>3:</span><span class='ee-v'>0</span></li><li><span class='ee-k'>4:</span><span class='ee-v'>1</span></li><li><span class='ee-k'>5:</span><span class='ee-v'>0</span></li></ul></li><li><label class='ee-shut'>data_type: float<input type='checkbox' class='ee-toggle'></label><ul><li><span class='ee-k'>type:</span><span class='ee-v'>PixelType</span></li><li><span class='ee-k'>precision:</span><span class='ee-v'>float</span></li></ul></li></ul></li></ul></li></ul></li></ul></div><script>function toggleHeader() {\n",
              "    const parent = this.parentElement;\n",
              "    parent.className = parent.className === \"ee-open\" ? \"ee-shut\" : \"ee-open\";\n",
              "}\n",
              "\n",
              "for (let c of document.getElementsByClassName(\"ee-toggle\")) {\n",
              "    c.onclick = toggleHeader;\n",
              "}</script></div>"
            ]
          },
          "metadata": {},
          "execution_count": 225
        }
      ]
    },
    {
      "cell_type": "code",
      "source": [
        "Map = geemap.Map()\n",
        "composite_3_2 = ee.Algorithms.Landsat.simpleComposite(collection=image_1, asFloat=True)\n",
        "# in landsat 8 B4 B3 B2 are the Red Green Blue\n",
        "Map.addLayer(composite_3_2, {'min':0,'max':0.3,'bands': ['B4', 'B3', 'B2'],'gamma':1.4}, '2023-09-01_composite')\n",
        "Map.addLayer(composite_3_2.clip(region_merger), {'min':0,'max':0.3,'bands': ['B4', 'B3', 'B2'],'gamma':1.4}, '2023-09-01_cliped')\n",
        "\n",
        "Map.centerObject(region_merger, 9)\n",
        "Map.addLayerControl()\n",
        "Map"
      ],
      "metadata": {
        "colab": {
          "base_uri": "https://localhost:8080/",
          "height": 621,
          "referenced_widgets": [
            "28d0b1cfc13541679466841de3e8088b",
            "f937cad6c320446384bb7cce716e7cb8",
            "84cb0f26625146148b9b89b03da099d3",
            "4112de46ee45431fa5322f2f4c120ae9",
            "6bb2554a7eb04c09b39b126c2056a598",
            "7812374ac5e64a979b9c9470d09d4bee",
            "28f836a4f7d94bc38c8d50ab554ba653",
            "5677a5eac1e84c058fcaa825dda8b7bd",
            "f36bf91e71f14b459f91747ec2abbac2",
            "c98b7eb6010e478f9f31e6ff0c67cc15",
            "e061690bda4c459a81195b71782ce333",
            "035468f78463485585f1c0cea43e14a5",
            "d0ec40eb8c9d4e07ad79574a58c62b19",
            "453bcbab0187424eb0369c16d11c80ce",
            "02dbaa20651947b6bec52efd5b2afda2",
            "34b16aa3af8041ae8bb5a940a07c68c1",
            "c018828ad54c4d4eb2285f41ee0d71b4",
            "1232d63a210c4e8499594a0195507449",
            "8f8829c709ea4ed9906ee9f7ba967dd5",
            "e4f23062fb6a4ab1a138c6fd647f4084",
            "c2419b6a2f56415ab8e64e77fc33144c",
            "6bbb5a55e55c4560956f27de967e6413",
            "444bca4755d7414e82cb86f99cacf98a",
            "d972770ad438411e8092568cdd88ce7c",
            "d791375c83e840129f928f4ef0fe6b78",
            "bb5597ba4ab045a2b3cd5700809d527a",
            "70960d9efb6b4ebda694c05f8f869500"
          ]
        },
        "id": "yC8nw21RXF3y",
        "outputId": "fccdb4b7-a28c-49db-9ff2-faac14ed48ed"
      },
      "execution_count": 226,
      "outputs": [
        {
          "output_type": "display_data",
          "data": {
            "text/plain": [
              "<IPython.core.display.HTML object>"
            ],
            "text/html": [
              "\n",
              "            <style>\n",
              "                .geemap-dark {\n",
              "                    --jp-widgets-color: white;\n",
              "                    --jp-widgets-label-color: white;\n",
              "                    --jp-ui-font-color1: white;\n",
              "                    --jp-layout-color2: #454545;\n",
              "                    background-color: #383838;\n",
              "                }\n",
              "\n",
              "                .geemap-dark .jupyter-button {\n",
              "                    --jp-layout-color3: #383838;\n",
              "                }\n",
              "\n",
              "                .geemap-colab {\n",
              "                    background-color: var(--colab-primary-surface-color, white);\n",
              "                }\n",
              "\n",
              "                .geemap-colab .jupyter-button {\n",
              "                    --jp-layout-color3: var(--colab-primary-surface-color, white);\n",
              "                }\n",
              "            </style>\n",
              "            "
            ]
          },
          "metadata": {}
        },
        {
          "output_type": "display_data",
          "data": {
            "text/plain": [
              "Map(center=[41.100912807399546, 26.036034974720206], controls=(WidgetControl(options=['position', 'transparent…"
            ],
            "application/vnd.jupyter.widget-view+json": {
              "version_major": 2,
              "version_minor": 0,
              "model_id": "28d0b1cfc13541679466841de3e8088b"
            }
          },
          "metadata": {
            "application/vnd.jupyter.widget-view+json": {
              "colab": {
                "custom_widget_manager": {
                  "url": "https://ssl.gstatic.com/colaboratory-static/widgets/colab-cdn-widget-manager/2b70e893a8ba7c0f/manager.min.js"
                }
              }
            }
          }
        }
      ]
    },
    {
      "cell_type": "markdown",
      "source": [
        "## Geting the image composites for the summer munths for the decate 2013 to 2023  \n",
        "\n",
        "* how were the dates chosen ?\n"
      ],
      "metadata": {
        "id": "6b_dnb2MiGb-"
      }
    },
    {
      "cell_type": "code",
      "source": [
        "image_2013 =ee.ImageCollection(\"LANDSAT/LC08/C02/T1_RT\")\\\n",
        ".filterDate('2013-06-01','2013-06-30')\\\n",
        ".filterBounds(region)\\\n",
        ".sort('CLOUD_COVER')\\\n",
        "\n",
        "composite_2013 = ee.Algorithms.Landsat.simpleComposite(collection=image_2013, asFloat=True)\n",
        "composite_2013=composite_2013.clip(region_merger)\n",
        "\n",
        "\n",
        "image_2014=ee.ImageCollection(\"LANDSAT/LC08/C02/T1_RT\")\\\n",
        ".filterDate('2014-06-01','2014-06-30')\\\n",
        ".filterBounds(region)\\\n",
        ".sort('CLOUD_COVER')\\\n",
        "\n",
        "composite_2014 = ee.Algorithms.Landsat.simpleComposite(collection=image_2014, asFloat=True)\n",
        "composite_2014=composite_2014.clip(region_merger)\n",
        "\n",
        "\n",
        "image_2015 =ee.ImageCollection(\"LANDSAT/LC08/C02/T1_RT\")\\\n",
        ".filterDate('2015-07-01','2015-07-30')\\\n",
        ".filterBounds(region)\\\n",
        ".sort('CLOUD_COVER')\\\n",
        "\n",
        "composite_2015 = ee.Algorithms.Landsat.simpleComposite(collection=image_2015, asFloat=True)\n",
        "composite_2015=composite_2015.clip(region_merger)\n",
        "\n",
        "image_2016 =ee.ImageCollection(\"LANDSAT/LC08/C02/T1_RT\")\\\n",
        ".filterDate('2016-06-01','2016-06-30')\\\n",
        ".filterBounds(region)\\\n",
        ".sort('CLOUD_COVER')\\\n",
        "\n",
        "\n",
        "composite_2016 = ee.Algorithms.Landsat.simpleComposite(collection=image_2016, asFloat=True)\n",
        "composite_2016=composite_2016.clip(region_merger)\n",
        "\n",
        "image_2017 =ee.ImageCollection(\"LANDSAT/LC08/C02/T1_RT\")\\\n",
        ".filterDate('2017-08-01','2017-08-30')\\\n",
        ".filterBounds(region)\\\n",
        ".sort('CLOUD_COVER')\\\n",
        "\n",
        "composite_2017 = ee.Algorithms.Landsat.simpleComposite(collection=image_2017, asFloat=True)\n",
        "composite_2017=composite_2017.clip(region_merger)\n",
        "\n",
        "image_2018 =ee.ImageCollection(\"LANDSAT/LC08/C02/T1_RT\")\\\n",
        ".filterDate('2018-08-01','2018-08-30')\\\n",
        ".filterBounds(region)\\\n",
        ".sort('CLOUD_COVER')\\\n",
        "\n",
        "\n",
        "composite_2018 = ee.Algorithms.Landsat.simpleComposite(collection=image_2018, asFloat=True)\n",
        "composite_2018=composite_2018.clip(region_merger)"
      ],
      "metadata": {
        "colab": {
          "base_uri": "https://localhost:8080/",
          "height": 17
        },
        "id": "qzSsRIF-XIpA",
        "outputId": "1f99c611-6c12-4fce-a3ba-f686da75b20f"
      },
      "execution_count": 227,
      "outputs": [
        {
          "output_type": "display_data",
          "data": {
            "text/plain": [
              "<IPython.core.display.HTML object>"
            ],
            "text/html": [
              "\n",
              "            <style>\n",
              "                .geemap-dark {\n",
              "                    --jp-widgets-color: white;\n",
              "                    --jp-widgets-label-color: white;\n",
              "                    --jp-ui-font-color1: white;\n",
              "                    --jp-layout-color2: #454545;\n",
              "                    background-color: #383838;\n",
              "                }\n",
              "\n",
              "                .geemap-dark .jupyter-button {\n",
              "                    --jp-layout-color3: #383838;\n",
              "                }\n",
              "\n",
              "                .geemap-colab {\n",
              "                    background-color: var(--colab-primary-surface-color, white);\n",
              "                }\n",
              "\n",
              "                .geemap-colab .jupyter-button {\n",
              "                    --jp-layout-color3: var(--colab-primary-surface-color, white);\n",
              "                }\n",
              "            </style>\n",
              "            "
            ]
          },
          "metadata": {}
        }
      ]
    },
    {
      "cell_type": "code",
      "source": [
        "image_2019=ee.ImageCollection(\"LANDSAT/LC08/C02/T1_RT\")\\\n",
        ".filterDate('2019-08-01','2019-08-30')\\\n",
        ".filterBounds(region)\\\n",
        ".sort('CLOUD_COVER')\\\n",
        "\n",
        "composite_2019 = ee.Algorithms.Landsat.simpleComposite(collection=image_2019, asFloat=True)\n",
        "composite_2019=composite_2019.clip(region_merger)\n",
        "\n",
        "image_2020=ee.ImageCollection(\"LANDSAT/LC08/C02/T1_RT\")\\\n",
        ".filterDate('2020-07-01','2020-07-30')\\\n",
        ".filterBounds(region)\\\n",
        ".sort('CLOUD_COVER')\\\n",
        "\n",
        "composite_2020 = ee.Algorithms.Landsat.simpleComposite(collection=image_2020, asFloat=True)\n",
        "composite_2020=composite_2020.clip(region_merger)"
      ],
      "metadata": {
        "colab": {
          "base_uri": "https://localhost:8080/",
          "height": 17
        },
        "id": "-KJGecuqXKrB",
        "outputId": "e339fa7a-455f-4f21-a66e-a2d42accc9f9"
      },
      "execution_count": 228,
      "outputs": [
        {
          "output_type": "display_data",
          "data": {
            "text/plain": [
              "<IPython.core.display.HTML object>"
            ],
            "text/html": [
              "\n",
              "            <style>\n",
              "                .geemap-dark {\n",
              "                    --jp-widgets-color: white;\n",
              "                    --jp-widgets-label-color: white;\n",
              "                    --jp-ui-font-color1: white;\n",
              "                    --jp-layout-color2: #454545;\n",
              "                    background-color: #383838;\n",
              "                }\n",
              "\n",
              "                .geemap-dark .jupyter-button {\n",
              "                    --jp-layout-color3: #383838;\n",
              "                }\n",
              "\n",
              "                .geemap-colab {\n",
              "                    background-color: var(--colab-primary-surface-color, white);\n",
              "                }\n",
              "\n",
              "                .geemap-colab .jupyter-button {\n",
              "                    --jp-layout-color3: var(--colab-primary-surface-color, white);\n",
              "                }\n",
              "            </style>\n",
              "            "
            ]
          },
          "metadata": {}
        }
      ]
    },
    {
      "cell_type": "code",
      "source": [
        "image_2021=ee.ImageCollection(\"LANDSAT/LC08/C02/T1_RT\")\\\n",
        ".filterDate('2021-07-01','2021-07-30')\\\n",
        ".filterBounds(region)\\\n",
        ".sort('CLOUD_COVER')\\\n",
        "\n",
        "composite_2021 = ee.Algorithms.Landsat.simpleComposite(collection=image_2021, asFloat=True)\n",
        "composite_2021=composite_2021.clip(region_merger)\n",
        "\n",
        "image_2022=ee.ImageCollection(\"LANDSAT/LC08/C02/T1_RT\")\\\n",
        ".filterDate('2022-07-01','2022-07-30')\\\n",
        ".filterBounds(region)\\\n",
        ".sort('CLOUD_COVER')\\\n",
        "\n",
        "\n",
        "composite_2022 = ee.Algorithms.Landsat.simpleComposite(collection=image_2022, asFloat=True)\n",
        "composite_2022=composite_2022.clip(region_merger)\n",
        "\n",
        "image_2023=ee.ImageCollection(\"LANDSAT/LC08/C02/T1_RT\")\\\n",
        ".filterDate('2023-08-01', '2023-08-30')\\\n",
        ".filterBounds(region)\\\n",
        ".sort('CLOUD_COVER')\\\n",
        "\n",
        "\n",
        "composite_2023 = ee.Algorithms.Landsat.simpleComposite(collection=image_2023, asFloat=True)\n",
        "composite_2023=composite_2023.clip(region_merger)"
      ],
      "metadata": {
        "colab": {
          "base_uri": "https://localhost:8080/",
          "height": 17
        },
        "id": "Cy1jp_6RXMVn",
        "outputId": "9cc15016-1d86-4ba1-cc2b-01ecfecbd373"
      },
      "execution_count": 229,
      "outputs": [
        {
          "output_type": "display_data",
          "data": {
            "text/plain": [
              "<IPython.core.display.HTML object>"
            ],
            "text/html": [
              "\n",
              "            <style>\n",
              "                .geemap-dark {\n",
              "                    --jp-widgets-color: white;\n",
              "                    --jp-widgets-label-color: white;\n",
              "                    --jp-ui-font-color1: white;\n",
              "                    --jp-layout-color2: #454545;\n",
              "                    background-color: #383838;\n",
              "                }\n",
              "\n",
              "                .geemap-dark .jupyter-button {\n",
              "                    --jp-layout-color3: #383838;\n",
              "                }\n",
              "\n",
              "                .geemap-colab {\n",
              "                    background-color: var(--colab-primary-surface-color, white);\n",
              "                }\n",
              "\n",
              "                .geemap-colab .jupyter-button {\n",
              "                    --jp-layout-color3: var(--colab-primary-surface-color, white);\n",
              "                }\n",
              "            </style>\n",
              "            "
            ]
          },
          "metadata": {}
        }
      ]
    },
    {
      "cell_type": "markdown",
      "source": [
        "#Feature Extraction\n",
        " Calculating NDVI BSI and adding it to the composites"
      ],
      "metadata": {
        "id": "eOeAcPf3X9W6"
      }
    },
    {
      "cell_type": "code",
      "source": [
        "\n",
        "def calculate_ndvi(image):\n",
        "    # Select the NIR and Red bands\n",
        "    nir = image.select('B5')  #  Band 5 is NIR\n",
        "    red = image.select('B4')  #  Band 4 is Red\n",
        "\n",
        "    # Calculate NDVI\n",
        "    ndvi = image.normalizedDifference(['B5', 'B4']).rename('NDVI')\n",
        "    # Overwrite the image with the new NDVI band\n",
        "    return image.addBands(ndvi, overwrite=True)\n",
        "\n",
        "\n",
        "def calculate_bsi(image):\n",
        "    # BSI (Landsta 8) = (B6 + B4) – (B5 + B2) / (B6 + B4) + (B5 + B2)=> a-b/a+b\n",
        "    A = image.select('B6').add(image.select('B4'))\n",
        "    B= image.select('B5').add(image.select('B2'))\n",
        "    bsi = A.subtract(B).divide(A.add(B)).rename('BSI')\n",
        "    # Overwrite the image with the new BSI band\n",
        "    return image.addBands(bsi, overwrite=True)\n"
      ],
      "metadata": {
        "id": "F9K04vtJXUHp",
        "colab": {
          "base_uri": "https://localhost:8080/",
          "height": 17
        },
        "outputId": "db7606fd-cd9d-4ae3-d600-393d631c4cda"
      },
      "execution_count": 230,
      "outputs": [
        {
          "output_type": "display_data",
          "data": {
            "text/plain": [
              "<IPython.core.display.HTML object>"
            ],
            "text/html": [
              "\n",
              "            <style>\n",
              "                .geemap-dark {\n",
              "                    --jp-widgets-color: white;\n",
              "                    --jp-widgets-label-color: white;\n",
              "                    --jp-ui-font-color1: white;\n",
              "                    --jp-layout-color2: #454545;\n",
              "                    background-color: #383838;\n",
              "                }\n",
              "\n",
              "                .geemap-dark .jupyter-button {\n",
              "                    --jp-layout-color3: #383838;\n",
              "                }\n",
              "\n",
              "                .geemap-colab {\n",
              "                    background-color: var(--colab-primary-surface-color, white);\n",
              "                }\n",
              "\n",
              "                .geemap-colab .jupyter-button {\n",
              "                    --jp-layout-color3: var(--colab-primary-surface-color, white);\n",
              "                }\n",
              "            </style>\n",
              "            "
            ]
          },
          "metadata": {}
        }
      ]
    },
    {
      "cell_type": "code",
      "source": [
        "# Calculating NDVI and BSI for every composite\n",
        "composite = calculate_ndvi(composite)\n",
        "composite = calculate_bsi(composite)\n",
        "\n",
        "composite_2 = calculate_ndvi(composite_2)\n",
        "composite_2 = calculate_bsi(composite_2)\n",
        "\n",
        "composite_3 = calculate_ndvi(composite_3)\n",
        "composite_3 = calculate_bsi(composite_3)\n",
        "\n"
      ],
      "metadata": {
        "id": "GSuap1gfXVra",
        "colab": {
          "base_uri": "https://localhost:8080/",
          "height": 17
        },
        "outputId": "74ecf721-eeae-4ecb-f68d-b37b0180e60f"
      },
      "execution_count": 231,
      "outputs": [
        {
          "output_type": "display_data",
          "data": {
            "text/plain": [
              "<IPython.core.display.HTML object>"
            ],
            "text/html": [
              "\n",
              "            <style>\n",
              "                .geemap-dark {\n",
              "                    --jp-widgets-color: white;\n",
              "                    --jp-widgets-label-color: white;\n",
              "                    --jp-ui-font-color1: white;\n",
              "                    --jp-layout-color2: #454545;\n",
              "                    background-color: #383838;\n",
              "                }\n",
              "\n",
              "                .geemap-dark .jupyter-button {\n",
              "                    --jp-layout-color3: #383838;\n",
              "                }\n",
              "\n",
              "                .geemap-colab {\n",
              "                    background-color: var(--colab-primary-surface-color, white);\n",
              "                }\n",
              "\n",
              "                .geemap-colab .jupyter-button {\n",
              "                    --jp-layout-color3: var(--colab-primary-surface-color, white);\n",
              "                }\n",
              "            </style>\n",
              "            "
            ]
          },
          "metadata": {}
        }
      ]
    },
    {
      "cell_type": "code",
      "source": [
        "composite_2013 = calculate_ndvi(composite_2013)\n",
        "composite_2013 = calculate_bsi(composite_2013)\n",
        "\n",
        "composite_2014 = calculate_ndvi(composite_2014)\n",
        "composite_2014 = calculate_bsi(composite_2014)\n",
        "\n",
        "composite_2015 = calculate_ndvi(composite_2015)\n",
        "composite_2015 = calculate_bsi(composite_2015)\n",
        "\n",
        "\n",
        "composite_2016 = calculate_ndvi(composite_2016)\n",
        "composite_2016 = calculate_bsi(composite_2016)\n",
        "\n",
        "composite_2017 = calculate_ndvi(composite_2017)\n",
        "composite_2017 = calculate_bsi(composite_2017)\n",
        "\n",
        "composite_2018 = calculate_ndvi(composite_2018)\n",
        "composite_2018 = calculate_bsi(composite_2018)\n",
        "\n",
        "\n",
        "\n",
        "composite_2019 = calculate_ndvi(composite_2019)\n",
        "composite_2019 = calculate_bsi(composite_2019)\n",
        "\n",
        "composite_2020 = calculate_ndvi(composite_2020)\n",
        "composite_2020 = calculate_bsi(composite_2020)\n",
        "\n",
        "\n",
        "composite_2021 = calculate_ndvi(composite_2021)\n",
        "composite_2021 = calculate_bsi(composite_2021)\n",
        "\n",
        "composite_2022 = calculate_ndvi(composite_2022)\n",
        "composite_2022 = calculate_bsi(composite_2022)\n",
        "\n",
        "composite_2023 = calculate_ndvi(composite_2023)\n",
        "composite_2023 = calculate_bsi(composite_2023)\n",
        "composite_2023"
      ],
      "metadata": {
        "id": "1baCdALDXYUL",
        "colab": {
          "base_uri": "https://localhost:8080/",
          "height": 110
        },
        "outputId": "a3ceda77-8c55-46a6-e1dc-d47eac3be53a"
      },
      "execution_count": 232,
      "outputs": [
        {
          "output_type": "display_data",
          "data": {
            "text/plain": [
              "<IPython.core.display.HTML object>"
            ],
            "text/html": [
              "\n",
              "            <style>\n",
              "                .geemap-dark {\n",
              "                    --jp-widgets-color: white;\n",
              "                    --jp-widgets-label-color: white;\n",
              "                    --jp-ui-font-color1: white;\n",
              "                    --jp-layout-color2: #454545;\n",
              "                    background-color: #383838;\n",
              "                }\n",
              "\n",
              "                .geemap-dark .jupyter-button {\n",
              "                    --jp-layout-color3: #383838;\n",
              "                }\n",
              "\n",
              "                .geemap-colab {\n",
              "                    background-color: var(--colab-primary-surface-color, white);\n",
              "                }\n",
              "\n",
              "                .geemap-colab .jupyter-button {\n",
              "                    --jp-layout-color3: var(--colab-primary-surface-color, white);\n",
              "                }\n",
              "            </style>\n",
              "            "
            ]
          },
          "metadata": {}
        },
        {
          "output_type": "execute_result",
          "data": {
            "text/plain": [
              "<ee.image.Image at 0x7f52acf6e410>"
            ],
            "text/html": [
              "<div><style>:root {\n",
              "  --font-color-primary: var(--jp-content-font-color0, rgba(0, 0, 0, 1));\n",
              "  --font-color-secondary: var(--jp-content-font-color2, rgba(0, 0, 0, 0.6));\n",
              "  --font-color-accent: rgba(123, 31, 162, 1);\n",
              "  --border-color: var(--jp-border-color2, #e0e0e0);\n",
              "  --background-color: var(--jp-layout-color0, white);\n",
              "  --background-color-row-even: var(--jp-layout-color1, white);\n",
              "  --background-color-row-odd: var(--jp-layout-color2, #eeeeee);\n",
              "}\n",
              "\n",
              "html[theme=\"dark\"],\n",
              "body[data-theme=\"dark\"],\n",
              "body.vscode-dark {\n",
              "  --font-color-primary: rgba(255, 255, 255, 1);\n",
              "  --font-color-secondary: rgba(255, 255, 255, 0.6);\n",
              "  --font-color-accent: rgb(173, 132, 190);\n",
              "  --border-color: #2e2e2e;\n",
              "  --background-color: #111111;\n",
              "  --background-color-row-even: #111111;\n",
              "  --background-color-row-odd: #313131;\n",
              "}\n",
              "\n",
              ".ee {\n",
              "  padding: 1em;\n",
              "  line-height: 1.5em;\n",
              "  min-width: 300px;\n",
              "  max-width: 1200px;\n",
              "  overflow-y: scroll;\n",
              "  max-height: 600px;\n",
              "  border: 1px solid var(--border-color);\n",
              "  font-family: monospace;\n",
              "}\n",
              "\n",
              ".ee li {\n",
              "  list-style-type: none;\n",
              "}\n",
              "\n",
              ".ee ul {\n",
              "  padding-left: 1.5em !important;\n",
              "  margin: 0;\n",
              "}\n",
              "\n",
              ".ee > ul {\n",
              "  padding-left: 0 !important;\n",
              "}\n",
              "\n",
              ".ee-open,\n",
              ".ee-shut {\n",
              "  color: var(--font-color-secondary);\n",
              "  cursor: pointer;\n",
              "  margin: 0;\n",
              "}\n",
              "\n",
              ".ee-open:hover,\n",
              ".ee-shut:hover {\n",
              "  color: var(--font-color-primary);\n",
              "}\n",
              "\n",
              ".ee-k {\n",
              "  color: var(--font-color-accent);\n",
              "  margin-right: 6px;\n",
              "}\n",
              "\n",
              ".ee-v {\n",
              "  color: var(--font-color-primary);\n",
              "}\n",
              "\n",
              ".ee-toggle {\n",
              "  display: none;\n",
              "}\n",
              "\n",
              ".ee-shut + ul {\n",
              "  display: none;\n",
              "}\n",
              "\n",
              ".ee-open + ul {\n",
              "  display: block;\n",
              "}\n",
              "\n",
              ".ee-shut::before {\n",
              "  display: inline-block;\n",
              "  content: \"▼\";\n",
              "  margin-right: 6px;\n",
              "  transform: rotate(-90deg);\n",
              "  transition: transform 0.2s;\n",
              "}\n",
              "\n",
              ".ee-open::before {\n",
              "  transform: rotate(0deg);\n",
              "  display: inline-block;\n",
              "  content: \"▼\";\n",
              "  margin-right: 6px;\n",
              "  transition: transform 0.2s;\n",
              "}\n",
              "</style><div class='ee'><ul><li><label class='ee-shut'>Image (13 bands)<input type='checkbox' class='ee-toggle'></label><ul><li><span class='ee-k'>type:</span><span class='ee-v'>Image</span></li><li><label class='ee-shut'>bands: List (13 elements)<input type='checkbox' class='ee-toggle'></label><ul><li><label class='ee-shut'>0: \"B1\", float, EPSG:4326<input type='checkbox' class='ee-toggle'></label><ul><li><span class='ee-k'>id:</span><span class='ee-v'>B1</span></li><li><span class='ee-k'>crs:</span><span class='ee-v'>EPSG:4326</span></li><li><label class='ee-shut'>crs_transform: [1, 0, 0, 0, 1, 0]<input type='checkbox' class='ee-toggle'></label><ul><li><span class='ee-k'>0:</span><span class='ee-v'>1</span></li><li><span class='ee-k'>1:</span><span class='ee-v'>0</span></li><li><span class='ee-k'>2:</span><span class='ee-v'>0</span></li><li><span class='ee-k'>3:</span><span class='ee-v'>0</span></li><li><span class='ee-k'>4:</span><span class='ee-v'>1</span></li><li><span class='ee-k'>5:</span><span class='ee-v'>0</span></li></ul></li><li><label class='ee-shut'>data_type: float<input type='checkbox' class='ee-toggle'></label><ul><li><span class='ee-k'>type:</span><span class='ee-v'>PixelType</span></li><li><span class='ee-k'>precision:</span><span class='ee-v'>float</span></li></ul></li></ul></li><li><label class='ee-shut'>1: \"B2\", float, EPSG:4326<input type='checkbox' class='ee-toggle'></label><ul><li><span class='ee-k'>id:</span><span class='ee-v'>B2</span></li><li><span class='ee-k'>crs:</span><span class='ee-v'>EPSG:4326</span></li><li><label class='ee-shut'>crs_transform: [1, 0, 0, 0, 1, 0]<input type='checkbox' class='ee-toggle'></label><ul><li><span class='ee-k'>0:</span><span class='ee-v'>1</span></li><li><span class='ee-k'>1:</span><span class='ee-v'>0</span></li><li><span class='ee-k'>2:</span><span class='ee-v'>0</span></li><li><span class='ee-k'>3:</span><span class='ee-v'>0</span></li><li><span class='ee-k'>4:</span><span class='ee-v'>1</span></li><li><span class='ee-k'>5:</span><span class='ee-v'>0</span></li></ul></li><li><label class='ee-shut'>data_type: float<input type='checkbox' class='ee-toggle'></label><ul><li><span class='ee-k'>type:</span><span class='ee-v'>PixelType</span></li><li><span class='ee-k'>precision:</span><span class='ee-v'>float</span></li></ul></li></ul></li><li><label class='ee-shut'>2: \"B3\", float, EPSG:4326<input type='checkbox' class='ee-toggle'></label><ul><li><span class='ee-k'>id:</span><span class='ee-v'>B3</span></li><li><span class='ee-k'>crs:</span><span class='ee-v'>EPSG:4326</span></li><li><label class='ee-shut'>crs_transform: [1, 0, 0, 0, 1, 0]<input type='checkbox' class='ee-toggle'></label><ul><li><span class='ee-k'>0:</span><span class='ee-v'>1</span></li><li><span class='ee-k'>1:</span><span class='ee-v'>0</span></li><li><span class='ee-k'>2:</span><span class='ee-v'>0</span></li><li><span class='ee-k'>3:</span><span class='ee-v'>0</span></li><li><span class='ee-k'>4:</span><span class='ee-v'>1</span></li><li><span class='ee-k'>5:</span><span class='ee-v'>0</span></li></ul></li><li><label class='ee-shut'>data_type: float<input type='checkbox' class='ee-toggle'></label><ul><li><span class='ee-k'>type:</span><span class='ee-v'>PixelType</span></li><li><span class='ee-k'>precision:</span><span class='ee-v'>float</span></li></ul></li></ul></li><li><label class='ee-shut'>3: \"B4\", float, EPSG:4326<input type='checkbox' class='ee-toggle'></label><ul><li><span class='ee-k'>id:</span><span class='ee-v'>B4</span></li><li><span class='ee-k'>crs:</span><span class='ee-v'>EPSG:4326</span></li><li><label class='ee-shut'>crs_transform: [1, 0, 0, 0, 1, 0]<input type='checkbox' class='ee-toggle'></label><ul><li><span class='ee-k'>0:</span><span class='ee-v'>1</span></li><li><span class='ee-k'>1:</span><span class='ee-v'>0</span></li><li><span class='ee-k'>2:</span><span class='ee-v'>0</span></li><li><span class='ee-k'>3:</span><span class='ee-v'>0</span></li><li><span class='ee-k'>4:</span><span class='ee-v'>1</span></li><li><span class='ee-k'>5:</span><span class='ee-v'>0</span></li></ul></li><li><label class='ee-shut'>data_type: float<input type='checkbox' class='ee-toggle'></label><ul><li><span class='ee-k'>type:</span><span class='ee-v'>PixelType</span></li><li><span class='ee-k'>precision:</span><span class='ee-v'>float</span></li></ul></li></ul></li><li><label class='ee-shut'>4: \"B5\", float, EPSG:4326<input type='checkbox' class='ee-toggle'></label><ul><li><span class='ee-k'>id:</span><span class='ee-v'>B5</span></li><li><span class='ee-k'>crs:</span><span class='ee-v'>EPSG:4326</span></li><li><label class='ee-shut'>crs_transform: [1, 0, 0, 0, 1, 0]<input type='checkbox' class='ee-toggle'></label><ul><li><span class='ee-k'>0:</span><span class='ee-v'>1</span></li><li><span class='ee-k'>1:</span><span class='ee-v'>0</span></li><li><span class='ee-k'>2:</span><span class='ee-v'>0</span></li><li><span class='ee-k'>3:</span><span class='ee-v'>0</span></li><li><span class='ee-k'>4:</span><span class='ee-v'>1</span></li><li><span class='ee-k'>5:</span><span class='ee-v'>0</span></li></ul></li><li><label class='ee-shut'>data_type: float<input type='checkbox' class='ee-toggle'></label><ul><li><span class='ee-k'>type:</span><span class='ee-v'>PixelType</span></li><li><span class='ee-k'>precision:</span><span class='ee-v'>float</span></li></ul></li></ul></li><li><label class='ee-shut'>5: \"B6\", float, EPSG:4326<input type='checkbox' class='ee-toggle'></label><ul><li><span class='ee-k'>id:</span><span class='ee-v'>B6</span></li><li><span class='ee-k'>crs:</span><span class='ee-v'>EPSG:4326</span></li><li><label class='ee-shut'>crs_transform: [1, 0, 0, 0, 1, 0]<input type='checkbox' class='ee-toggle'></label><ul><li><span class='ee-k'>0:</span><span class='ee-v'>1</span></li><li><span class='ee-k'>1:</span><span class='ee-v'>0</span></li><li><span class='ee-k'>2:</span><span class='ee-v'>0</span></li><li><span class='ee-k'>3:</span><span class='ee-v'>0</span></li><li><span class='ee-k'>4:</span><span class='ee-v'>1</span></li><li><span class='ee-k'>5:</span><span class='ee-v'>0</span></li></ul></li><li><label class='ee-shut'>data_type: float<input type='checkbox' class='ee-toggle'></label><ul><li><span class='ee-k'>type:</span><span class='ee-v'>PixelType</span></li><li><span class='ee-k'>precision:</span><span class='ee-v'>float</span></li></ul></li></ul></li><li><label class='ee-shut'>6: \"B7\", float, EPSG:4326<input type='checkbox' class='ee-toggle'></label><ul><li><span class='ee-k'>id:</span><span class='ee-v'>B7</span></li><li><span class='ee-k'>crs:</span><span class='ee-v'>EPSG:4326</span></li><li><label class='ee-shut'>crs_transform: [1, 0, 0, 0, 1, 0]<input type='checkbox' class='ee-toggle'></label><ul><li><span class='ee-k'>0:</span><span class='ee-v'>1</span></li><li><span class='ee-k'>1:</span><span class='ee-v'>0</span></li><li><span class='ee-k'>2:</span><span class='ee-v'>0</span></li><li><span class='ee-k'>3:</span><span class='ee-v'>0</span></li><li><span class='ee-k'>4:</span><span class='ee-v'>1</span></li><li><span class='ee-k'>5:</span><span class='ee-v'>0</span></li></ul></li><li><label class='ee-shut'>data_type: float<input type='checkbox' class='ee-toggle'></label><ul><li><span class='ee-k'>type:</span><span class='ee-v'>PixelType</span></li><li><span class='ee-k'>precision:</span><span class='ee-v'>float</span></li></ul></li></ul></li><li><label class='ee-shut'>7: \"B8\", float, EPSG:4326<input type='checkbox' class='ee-toggle'></label><ul><li><span class='ee-k'>id:</span><span class='ee-v'>B8</span></li><li><span class='ee-k'>crs:</span><span class='ee-v'>EPSG:4326</span></li><li><label class='ee-shut'>crs_transform: [1, 0, 0, 0, 1, 0]<input type='checkbox' class='ee-toggle'></label><ul><li><span class='ee-k'>0:</span><span class='ee-v'>1</span></li><li><span class='ee-k'>1:</span><span class='ee-v'>0</span></li><li><span class='ee-k'>2:</span><span class='ee-v'>0</span></li><li><span class='ee-k'>3:</span><span class='ee-v'>0</span></li><li><span class='ee-k'>4:</span><span class='ee-v'>1</span></li><li><span class='ee-k'>5:</span><span class='ee-v'>0</span></li></ul></li><li><label class='ee-shut'>data_type: float<input type='checkbox' class='ee-toggle'></label><ul><li><span class='ee-k'>type:</span><span class='ee-v'>PixelType</span></li><li><span class='ee-k'>precision:</span><span class='ee-v'>float</span></li></ul></li></ul></li><li><label class='ee-shut'>8: \"B9\", float, EPSG:4326<input type='checkbox' class='ee-toggle'></label><ul><li><span class='ee-k'>id:</span><span class='ee-v'>B9</span></li><li><span class='ee-k'>crs:</span><span class='ee-v'>EPSG:4326</span></li><li><label class='ee-shut'>crs_transform: [1, 0, 0, 0, 1, 0]<input type='checkbox' class='ee-toggle'></label><ul><li><span class='ee-k'>0:</span><span class='ee-v'>1</span></li><li><span class='ee-k'>1:</span><span class='ee-v'>0</span></li><li><span class='ee-k'>2:</span><span class='ee-v'>0</span></li><li><span class='ee-k'>3:</span><span class='ee-v'>0</span></li><li><span class='ee-k'>4:</span><span class='ee-v'>1</span></li><li><span class='ee-k'>5:</span><span class='ee-v'>0</span></li></ul></li><li><label class='ee-shut'>data_type: float<input type='checkbox' class='ee-toggle'></label><ul><li><span class='ee-k'>type:</span><span class='ee-v'>PixelType</span></li><li><span class='ee-k'>precision:</span><span class='ee-v'>float</span></li></ul></li></ul></li><li><label class='ee-shut'>9: \"B10\", float, EPSG:4326<input type='checkbox' class='ee-toggle'></label><ul><li><span class='ee-k'>id:</span><span class='ee-v'>B10</span></li><li><span class='ee-k'>crs:</span><span class='ee-v'>EPSG:4326</span></li><li><label class='ee-shut'>crs_transform: [1, 0, 0, 0, 1, 0]<input type='checkbox' class='ee-toggle'></label><ul><li><span class='ee-k'>0:</span><span class='ee-v'>1</span></li><li><span class='ee-k'>1:</span><span class='ee-v'>0</span></li><li><span class='ee-k'>2:</span><span class='ee-v'>0</span></li><li><span class='ee-k'>3:</span><span class='ee-v'>0</span></li><li><span class='ee-k'>4:</span><span class='ee-v'>1</span></li><li><span class='ee-k'>5:</span><span class='ee-v'>0</span></li></ul></li><li><label class='ee-shut'>data_type: float<input type='checkbox' class='ee-toggle'></label><ul><li><span class='ee-k'>type:</span><span class='ee-v'>PixelType</span></li><li><span class='ee-k'>precision:</span><span class='ee-v'>float</span></li></ul></li></ul></li><li><label class='ee-shut'>10: \"B11\", float, EPSG:4326<input type='checkbox' class='ee-toggle'></label><ul><li><span class='ee-k'>id:</span><span class='ee-v'>B11</span></li><li><span class='ee-k'>crs:</span><span class='ee-v'>EPSG:4326</span></li><li><label class='ee-shut'>crs_transform: [1, 0, 0, 0, 1, 0]<input type='checkbox' class='ee-toggle'></label><ul><li><span class='ee-k'>0:</span><span class='ee-v'>1</span></li><li><span class='ee-k'>1:</span><span class='ee-v'>0</span></li><li><span class='ee-k'>2:</span><span class='ee-v'>0</span></li><li><span class='ee-k'>3:</span><span class='ee-v'>0</span></li><li><span class='ee-k'>4:</span><span class='ee-v'>1</span></li><li><span class='ee-k'>5:</span><span class='ee-v'>0</span></li></ul></li><li><label class='ee-shut'>data_type: float<input type='checkbox' class='ee-toggle'></label><ul><li><span class='ee-k'>type:</span><span class='ee-v'>PixelType</span></li><li><span class='ee-k'>precision:</span><span class='ee-v'>float</span></li></ul></li></ul></li><li><label class='ee-shut'>11: \"NDVI\", float, EPSG:4326<input type='checkbox' class='ee-toggle'></label><ul><li><span class='ee-k'>id:</span><span class='ee-v'>NDVI</span></li><li><span class='ee-k'>crs:</span><span class='ee-v'>EPSG:4326</span></li><li><label class='ee-shut'>crs_transform: [1, 0, 0, 0, 1, 0]<input type='checkbox' class='ee-toggle'></label><ul><li><span class='ee-k'>0:</span><span class='ee-v'>1</span></li><li><span class='ee-k'>1:</span><span class='ee-v'>0</span></li><li><span class='ee-k'>2:</span><span class='ee-v'>0</span></li><li><span class='ee-k'>3:</span><span class='ee-v'>0</span></li><li><span class='ee-k'>4:</span><span class='ee-v'>1</span></li><li><span class='ee-k'>5:</span><span class='ee-v'>0</span></li></ul></li><li><label class='ee-shut'>data_type: float<input type='checkbox' class='ee-toggle'></label><ul><li><span class='ee-k'>type:</span><span class='ee-v'>PixelType</span></li><li><span class='ee-k'>max:</span><span class='ee-v'>1</span></li><li><span class='ee-k'>min:</span><span class='ee-v'>-1</span></li><li><span class='ee-k'>precision:</span><span class='ee-v'>float</span></li></ul></li></ul></li><li><label class='ee-shut'>12: \"BSI\", float, EPSG:4326<input type='checkbox' class='ee-toggle'></label><ul><li><span class='ee-k'>id:</span><span class='ee-v'>BSI</span></li><li><span class='ee-k'>crs:</span><span class='ee-v'>EPSG:4326</span></li><li><label class='ee-shut'>crs_transform: [1, 0, 0, 0, 1, 0]<input type='checkbox' class='ee-toggle'></label><ul><li><span class='ee-k'>0:</span><span class='ee-v'>1</span></li><li><span class='ee-k'>1:</span><span class='ee-v'>0</span></li><li><span class='ee-k'>2:</span><span class='ee-v'>0</span></li><li><span class='ee-k'>3:</span><span class='ee-v'>0</span></li><li><span class='ee-k'>4:</span><span class='ee-v'>1</span></li><li><span class='ee-k'>5:</span><span class='ee-v'>0</span></li></ul></li><li><label class='ee-shut'>data_type: float<input type='checkbox' class='ee-toggle'></label><ul><li><span class='ee-k'>type:</span><span class='ee-v'>PixelType</span></li><li><span class='ee-k'>precision:</span><span class='ee-v'>float</span></li></ul></li></ul></li></ul></li></ul></li></ul></div><script>function toggleHeader() {\n",
              "    const parent = this.parentElement;\n",
              "    parent.className = parent.className === \"ee-open\" ? \"ee-shut\" : \"ee-open\";\n",
              "}\n",
              "\n",
              "for (let c of document.getElementsByClassName(\"ee-toggle\")) {\n",
              "    c.onclick = toggleHeader;\n",
              "}</script></div>"
            ]
          },
          "metadata": {},
          "execution_count": 232
        }
      ]
    },
    {
      "cell_type": "code",
      "source": [
        "training = ee.FeatureCollection('projects/ee-maladakistella/assets/Samples_final')#training samples where extracted using Google Earth Engine Code Editor\n",
        "class_0_features = training.filter(ee.Filter.eq('class', 0))\n",
        "\n",
        "class_1_features = training.filter(ee.Filter.eq('class', 1))\n",
        "class_2_features = training.filter(ee.Filter.eq('class', 2))\n",
        "\n",
        "class_3_features = training.filter(ee.Filter.eq('class', 3))\n"
      ],
      "metadata": {
        "id": "YD3MwIT_XbAS",
        "colab": {
          "base_uri": "https://localhost:8080/",
          "height": 17
        },
        "outputId": "13687506-ebc8-4a83-9538-db331381b108"
      },
      "execution_count": 233,
      "outputs": [
        {
          "output_type": "display_data",
          "data": {
            "text/plain": [
              "<IPython.core.display.HTML object>"
            ],
            "text/html": [
              "\n",
              "            <style>\n",
              "                .geemap-dark {\n",
              "                    --jp-widgets-color: white;\n",
              "                    --jp-widgets-label-color: white;\n",
              "                    --jp-ui-font-color1: white;\n",
              "                    --jp-layout-color2: #454545;\n",
              "                    background-color: #383838;\n",
              "                }\n",
              "\n",
              "                .geemap-dark .jupyter-button {\n",
              "                    --jp-layout-color3: #383838;\n",
              "                }\n",
              "\n",
              "                .geemap-colab {\n",
              "                    background-color: var(--colab-primary-surface-color, white);\n",
              "                }\n",
              "\n",
              "                .geemap-colab .jupyter-button {\n",
              "                    --jp-layout-color3: var(--colab-primary-surface-color, white);\n",
              "                }\n",
              "            </style>\n",
              "            "
            ]
          },
          "metadata": {}
        }
      ]
    },
    {
      "cell_type": "code",
      "source": [
        "bands_of_interest = ['B4', 'B3', 'B2','NDVI','BSI']\n",
        "clipped_image_1=composite_2.clip(class_0_features)\n",
        "clipped_image_2=composite_2.clip(class_1_features)\n",
        "clipped_image_3=composite_2.clip(class_2_features)\n",
        "clipped_image_4=composite_2.clip(class_3_features)\n",
        "\n",
        "# Function to extract values from Earth Engine dictionaries and convert to NumPy arrays\n",
        "def extract_values(ee_dict):\n",
        "    # Extract values from the dictionary\n",
        "    values = ee_dict.getInfo().values()\n",
        "    # Convert to NumPy array and flatten\n",
        "    return np.concatenate([np.array(value) for value in values])\n",
        "\n",
        "# Extract values from Earth Engine dictionaries\n",
        "band_data_1 = clipped_image_1.select(bands_of_interest).reduceRegion(\n",
        "    reducer=ee.Reducer.toList(),\n",
        "    geometry=class_0_features,\n",
        "    scale=30\n",
        ")\n",
        "band_data_2 = clipped_image_2.select(bands_of_interest).reduceRegion(\n",
        "    reducer=ee.Reducer.toList(),\n",
        "    geometry=class_1_features,\n",
        "    scale=30\n",
        ")\n",
        "band_data_3 = clipped_image_3.select(bands_of_interest).reduceRegion(\n",
        "    reducer=ee.Reducer.toList(),\n",
        "    geometry=class_2_features,\n",
        "    scale=30\n",
        ")\n",
        "band_data_4 = clipped_image_4.select(bands_of_interest).reduceRegion(\n",
        "    reducer=ee.Reducer.toList(),\n",
        "    geometry=class_3_features,\n",
        "    scale=30\n",
        ")\n",
        "def similarity_compute(list_first, list_second):\n",
        "   first=list_first['B4']+list_first['B3']+list_first['B2']+list_first['BSI']+list_first['NDVI']\n",
        "   second=list_second['B4']+list_second['B3']+list_second['B2']+list_second['BSI']+list_second['NDVI']\n",
        "   # Compute the intersection from the first and second list\n",
        "   intersected_items = set(first).intersection(second)\n",
        "   # Compute the similarity percentage among the two list\n",
        "   lengthOfItersectedItems = len(intersected_items)\n",
        "   similarity_percentage = (lengthOfItersectedItems / ((len(first) + len(second)) / 2)) * 100\n",
        "   # Return the result\n",
        "   return similarity_percentage\n",
        "\n",
        "print(f'similarity of water and bare land {similarity_compute(band_data_1.getInfo(),band_data_2.getInfo()):.3f}%')\n",
        "print(f'similarity of water and dence forest  {similarity_compute(band_data_1.getInfo(),band_data_3.getInfo()):.3f}%')\n",
        "print(f'similarity of bare land  and dence forest {similarity_compute(band_data_2.getInfo(),band_data_3.getInfo()):.3f}%')\n",
        "print(f'similarity of light forest land  and dence forest {similarity_compute(band_data_4.getInfo(),band_data_3.getInfo()):.3f}%')\n",
        "print(f'similarity of light forest land  and bare land {similarity_compute(band_data_4.getInfo(),band_data_2.getInfo()):.3f}%')\n",
        "print(f'similarity of light forest land  and water {similarity_compute(band_data_4.getInfo(),band_data_1.getInfo()):.3f}%')\n",
        "\n",
        "values1 = extract_values(band_data_1)\n",
        "values2 = extract_values(band_data_2)"
      ],
      "metadata": {
        "id": "sU6o6048XfcQ",
        "colab": {
          "base_uri": "https://localhost:8080/",
          "height": 126
        },
        "outputId": "b653a728-1fd7-48c8-fcd1-b4fba4504297"
      },
      "execution_count": 234,
      "outputs": [
        {
          "output_type": "display_data",
          "data": {
            "text/plain": [
              "<IPython.core.display.HTML object>"
            ],
            "text/html": [
              "\n",
              "            <style>\n",
              "                .geemap-dark {\n",
              "                    --jp-widgets-color: white;\n",
              "                    --jp-widgets-label-color: white;\n",
              "                    --jp-ui-font-color1: white;\n",
              "                    --jp-layout-color2: #454545;\n",
              "                    background-color: #383838;\n",
              "                }\n",
              "\n",
              "                .geemap-dark .jupyter-button {\n",
              "                    --jp-layout-color3: #383838;\n",
              "                }\n",
              "\n",
              "                .geemap-colab {\n",
              "                    background-color: var(--colab-primary-surface-color, white);\n",
              "                }\n",
              "\n",
              "                .geemap-colab .jupyter-button {\n",
              "                    --jp-layout-color3: var(--colab-primary-surface-color, white);\n",
              "                }\n",
              "            </style>\n",
              "            "
            ]
          },
          "metadata": {}
        },
        {
          "output_type": "stream",
          "name": "stdout",
          "text": [
            "similarity of water and bare land 0.005%\n",
            "similarity of water and dence forest  0.037%\n",
            "similarity of bare land  and dence forest 0.015%\n",
            "similarity of light forest land  and dence forest 0.750%\n",
            "similarity of light forest land  and bare land 0.031%\n",
            "similarity of light forest land  and water 0.032%\n"
          ]
        }
      ]
    },
    {
      "cell_type": "code",
      "source": [
        "def calculate_means(feature):\n",
        "  bands_of_interest = ['B4', 'B3', 'B2','NDVI','BSI']\n",
        "\n",
        "  # Get data for specific bands\n",
        "  clipped_image=composite_2.clip(feature)\n",
        "  band_data = clipped_image.select(bands_of_interest).reduceRegion(\n",
        "      reducer=ee.Reducer.toList(),\n",
        "      geometry=feature,\n",
        "      scale=30\n",
        "  )\n",
        "\n",
        "  # Convert the result to a Python dictionary\n",
        "  band_data_ndvi = band_data.getInfo()['NDVI']\n",
        "  band_data_BSI = band_data.getInfo()['BSI']\n",
        "  print('mean ndvi',np.mean(band_data_ndvi))\n",
        "  print('mean bsi',np.mean(band_data_BSI))"
      ],
      "metadata": {
        "id": "EurXCWNyXl-a",
        "colab": {
          "base_uri": "https://localhost:8080/",
          "height": 17
        },
        "outputId": "80ae4dc1-2028-4345-cc38-57ebb7f24692"
      },
      "execution_count": 235,
      "outputs": [
        {
          "output_type": "display_data",
          "data": {
            "text/plain": [
              "<IPython.core.display.HTML object>"
            ],
            "text/html": [
              "\n",
              "            <style>\n",
              "                .geemap-dark {\n",
              "                    --jp-widgets-color: white;\n",
              "                    --jp-widgets-label-color: white;\n",
              "                    --jp-ui-font-color1: white;\n",
              "                    --jp-layout-color2: #454545;\n",
              "                    background-color: #383838;\n",
              "                }\n",
              "\n",
              "                .geemap-dark .jupyter-button {\n",
              "                    --jp-layout-color3: #383838;\n",
              "                }\n",
              "\n",
              "                .geemap-colab {\n",
              "                    background-color: var(--colab-primary-surface-color, white);\n",
              "                }\n",
              "\n",
              "                .geemap-colab .jupyter-button {\n",
              "                    --jp-layout-color3: var(--colab-primary-surface-color, white);\n",
              "                }\n",
              "            </style>\n",
              "            "
            ]
          },
          "metadata": {}
        }
      ]
    },
    {
      "cell_type": "code",
      "source": [
        "label='class'\n",
        "bands=['B4','B3','B2','B5','NDVI','BSI']\n",
        "input_2=composite_2.select(bands)\n",
        "\n",
        "trainImage=input_2.sampleRegions(**{\n",
        "    'collection':training,\n",
        "    'properties':[label],\n",
        "    'scale':30\n",
        "})\n",
        "trainingData=trainImage.randomColumn()\n",
        "trainSet=trainingData.filter(ee.Filter.lessThan('random',0.8))\n",
        "testSet=trainingData.filter(ee.Filter.greaterThanOrEquals('random',0.8))\n"
      ],
      "metadata": {
        "id": "pY22U1A7XqjT",
        "colab": {
          "base_uri": "https://localhost:8080/",
          "height": 17
        },
        "outputId": "a0dedce4-4490-4545-d421-3d85ca615ab2"
      },
      "execution_count": 236,
      "outputs": [
        {
          "output_type": "display_data",
          "data": {
            "text/plain": [
              "<IPython.core.display.HTML object>"
            ],
            "text/html": [
              "\n",
              "            <style>\n",
              "                .geemap-dark {\n",
              "                    --jp-widgets-color: white;\n",
              "                    --jp-widgets-label-color: white;\n",
              "                    --jp-ui-font-color1: white;\n",
              "                    --jp-layout-color2: #454545;\n",
              "                    background-color: #383838;\n",
              "                }\n",
              "\n",
              "                .geemap-dark .jupyter-button {\n",
              "                    --jp-layout-color3: #383838;\n",
              "                }\n",
              "\n",
              "                .geemap-colab {\n",
              "                    background-color: var(--colab-primary-surface-color, white);\n",
              "                }\n",
              "\n",
              "                .geemap-colab .jupyter-button {\n",
              "                    --jp-layout-color3: var(--colab-primary-surface-color, white);\n",
              "                }\n",
              "            </style>\n",
              "            "
            ]
          },
          "metadata": {}
        }
      ]
    },
    {
      "cell_type": "code",
      "source": [
        "vis_parameters = {'min':0,'max':0.3,'bands': ['B4', 'B3', 'B2'],'gamma':1.4}\n",
        "\n",
        "#classify  RANDOM FOREST ----------------\n",
        "input=composite.select(bands)\n",
        "input_3=composite_3.select(bands)\n",
        "classifier = ee.Classifier.smileRandomForest(4).train(trainSet,label,bands)\n",
        "#clasified_2=input_2.classify(classifier)\n",
        "clasified=input.classify(classifier)\n",
        "clasified_3=input_3.classify(classifier)\n",
        "\n",
        "\n",
        "#classify  MAHALANOBIS ----------------------\n",
        "mah_classifier=ee.Classifier.minimumDistance('mahalanobis').train(trainSet,label,bands)\n",
        "clasified_mah=input.classify(mah_classifier)\n",
        "clasified_mah_3=input_3.classify(mah_classifier)\n",
        "\n",
        "#classify  MINIMUM DISTANCE ----------------\n",
        "md_classifier=ee.Classifier.minimumDistance().train(trainSet,label,bands)\n",
        "clasified_md=input.classify(md_classifier)\n",
        "clasified_md_3=input_3.classify(md_classifier)\n",
        "\n",
        "# Define a land cover palette\n",
        "landcover_palette = [\n",
        "    'ffffff',  # Class 0: water\n",
        "    'ff7f00',  # Class 1: bare_land\n",
        "    '70BC6D',  # Class 2: light_forest\n",
        "    '2c4b2b',  # Class 3: dense_forest\n",
        "\n",
        "]\n",
        "\n",
        "vis_parameters_class = {'palette': landcover_palette,'min':0,'max':3 }\n",
        "\n"
      ],
      "metadata": {
        "id": "FD2CyncwXvW3",
        "colab": {
          "base_uri": "https://localhost:8080/",
          "height": 17
        },
        "outputId": "d72f0906-b308-440e-f6d4-0c0f9dbf9c78"
      },
      "execution_count": 237,
      "outputs": [
        {
          "output_type": "display_data",
          "data": {
            "text/plain": [
              "<IPython.core.display.HTML object>"
            ],
            "text/html": [
              "\n",
              "            <style>\n",
              "                .geemap-dark {\n",
              "                    --jp-widgets-color: white;\n",
              "                    --jp-widgets-label-color: white;\n",
              "                    --jp-ui-font-color1: white;\n",
              "                    --jp-layout-color2: #454545;\n",
              "                    background-color: #383838;\n",
              "                }\n",
              "\n",
              "                .geemap-dark .jupyter-button {\n",
              "                    --jp-layout-color3: #383838;\n",
              "                }\n",
              "\n",
              "                .geemap-colab {\n",
              "                    background-color: var(--colab-primary-surface-color, white);\n",
              "                }\n",
              "\n",
              "                .geemap-colab .jupyter-button {\n",
              "                    --jp-layout-color3: var(--colab-primary-surface-color, white);\n",
              "                }\n",
              "            </style>\n",
              "            "
            ]
          },
          "metadata": {}
        }
      ]
    },
    {
      "cell_type": "markdown",
      "source": [
        "# Acuracy assesment"
      ],
      "metadata": {
        "id": "c3DQ_lNkX_Jo"
      }
    },
    {
      "cell_type": "code",
      "source": [
        "import matplotlib.pyplot as plt\n",
        "import seaborn as sns\n",
        "from sklearn.metrics import ConfusionMatrixDisplay"
      ],
      "metadata": {
        "colab": {
          "base_uri": "https://localhost:8080/",
          "height": 17
        },
        "id": "XZJZS4USxZRS",
        "outputId": "883cb51b-ab49-4a35-a9b3-04a3b5fd5365"
      },
      "execution_count": 238,
      "outputs": [
        {
          "output_type": "display_data",
          "data": {
            "text/plain": [
              "<IPython.core.display.HTML object>"
            ],
            "text/html": [
              "\n",
              "            <style>\n",
              "                .geemap-dark {\n",
              "                    --jp-widgets-color: white;\n",
              "                    --jp-widgets-label-color: white;\n",
              "                    --jp-ui-font-color1: white;\n",
              "                    --jp-layout-color2: #454545;\n",
              "                    background-color: #383838;\n",
              "                }\n",
              "\n",
              "                .geemap-dark .jupyter-button {\n",
              "                    --jp-layout-color3: #383838;\n",
              "                }\n",
              "\n",
              "                .geemap-colab {\n",
              "                    background-color: var(--colab-primary-surface-color, white);\n",
              "                }\n",
              "\n",
              "                .geemap-colab .jupyter-button {\n",
              "                    --jp-layout-color3: var(--colab-primary-surface-color, white);\n",
              "                }\n",
              "            </style>\n",
              "            "
            ]
          },
          "metadata": {}
        }
      ]
    },
    {
      "cell_type": "code",
      "execution_count": 239,
      "metadata": {
        "id": "-w2mDMCxbe6M",
        "colab": {
          "base_uri": "https://localhost:8080/",
          "height": 17
        },
        "outputId": "6b5668a2-5fa4-4db8-d85e-9f331f927386"
      },
      "outputs": [
        {
          "output_type": "display_data",
          "data": {
            "text/plain": [
              "<IPython.core.display.HTML object>"
            ],
            "text/html": [
              "\n",
              "            <style>\n",
              "                .geemap-dark {\n",
              "                    --jp-widgets-color: white;\n",
              "                    --jp-widgets-label-color: white;\n",
              "                    --jp-ui-font-color1: white;\n",
              "                    --jp-layout-color2: #454545;\n",
              "                    background-color: #383838;\n",
              "                }\n",
              "\n",
              "                .geemap-dark .jupyter-button {\n",
              "                    --jp-layout-color3: #383838;\n",
              "                }\n",
              "\n",
              "                .geemap-colab {\n",
              "                    background-color: var(--colab-primary-surface-color, white);\n",
              "                }\n",
              "\n",
              "                .geemap-colab .jupyter-button {\n",
              "                    --jp-layout-color3: var(--colab-primary-surface-color, white);\n",
              "                }\n",
              "            </style>\n",
              "            "
            ]
          },
          "metadata": {}
        }
      ],
      "source": [
        "clasified_2023=composite_2023.select(bands).classify(classifier) # the acuracy assesment is done on the last classified image\n",
        "\n"
      ]
    },
    {
      "cell_type": "markdown",
      "source": [
        "## RANDOM FOREST ACCURACY ASSESMENT"
      ],
      "metadata": {
        "id": "YhvGNCQgw8T3"
      }
    },
    {
      "cell_type": "code",
      "source": [
        "train_accuracy_rf = classifier.confusionMatrix()\n",
        "print(train_accuracy_rf.getInfo())\n",
        "\n",
        "print('overall acuracy',train_accuracy_rf.accuracy().getInfo())#Overall Accuracy\n",
        "print('acuracy of classifications',train_accuracy_rf.kappa().getInfo())#acuracy of classifications\n",
        "print(train_accuracy_rf.producersAccuracy().getInfo())\n",
        "\n",
        "# Convert the confusion matrix to a NumPy array\n",
        "confusion_matrix_rf = train_accuracy_rf.getInfo()\n",
        "class_pairs = ['Class1 vs Class2', 'Class1 vs Class3','Class1 vs Class4']\n",
        "class_pairs_1 = ['Class1 vs Class2','Class2 vs Class3', 'Class2 vs Class4']\n",
        "class_pairs_2 = ['Class1 vs Class4','Class2 vs Class4','Class3 vs Class4']\n",
        "\n",
        "\n"
      ],
      "metadata": {
        "colab": {
          "base_uri": "https://localhost:8080/",
          "height": 90
        },
        "id": "Z6A-ZtD8w7VM",
        "outputId": "d24eaf5f-dc80-4126-932d-4c314b70989d"
      },
      "execution_count": 240,
      "outputs": [
        {
          "output_type": "display_data",
          "data": {
            "text/plain": [
              "<IPython.core.display.HTML object>"
            ],
            "text/html": [
              "\n",
              "            <style>\n",
              "                .geemap-dark {\n",
              "                    --jp-widgets-color: white;\n",
              "                    --jp-widgets-label-color: white;\n",
              "                    --jp-ui-font-color1: white;\n",
              "                    --jp-layout-color2: #454545;\n",
              "                    background-color: #383838;\n",
              "                }\n",
              "\n",
              "                .geemap-dark .jupyter-button {\n",
              "                    --jp-layout-color3: #383838;\n",
              "                }\n",
              "\n",
              "                .geemap-colab {\n",
              "                    background-color: var(--colab-primary-surface-color, white);\n",
              "                }\n",
              "\n",
              "                .geemap-colab .jupyter-button {\n",
              "                    --jp-layout-color3: var(--colab-primary-surface-color, white);\n",
              "                }\n",
              "            </style>\n",
              "            "
            ]
          },
          "metadata": {}
        },
        {
          "output_type": "stream",
          "name": "stdout",
          "text": [
            "[[980, 0, 1, 2], [1, 5894, 4, 19], [0, 15, 4771, 301], [1, 45, 486, 60950]]\n",
            "overall acuracy 0.9880903770246359\n",
            "acuracy of classifications 0.9589944977624462\n",
            "[[0.9969481180061037], [0.9959445758702264], [0.9378808728130529], [0.9913470609284019]]\n"
          ]
        }
      ]
    },
    {
      "cell_type": "code",
      "execution_count": 241,
      "metadata": {
        "id": "ggouYLD-Okbl",
        "colab": {
          "base_uri": "https://localhost:8080/",
          "height": 90
        },
        "outputId": "4cfeb44a-4a3f-4fb0-d359-a83f74df8120"
      },
      "outputs": [
        {
          "output_type": "display_data",
          "data": {
            "text/plain": [
              "<IPython.core.display.HTML object>"
            ],
            "text/html": [
              "\n",
              "            <style>\n",
              "                .geemap-dark {\n",
              "                    --jp-widgets-color: white;\n",
              "                    --jp-widgets-label-color: white;\n",
              "                    --jp-ui-font-color1: white;\n",
              "                    --jp-layout-color2: #454545;\n",
              "                    background-color: #383838;\n",
              "                }\n",
              "\n",
              "                .geemap-dark .jupyter-button {\n",
              "                    --jp-layout-color3: #383838;\n",
              "                }\n",
              "\n",
              "                .geemap-colab {\n",
              "                    background-color: var(--colab-primary-surface-color, white);\n",
              "                }\n",
              "\n",
              "                .geemap-colab .jupyter-button {\n",
              "                    --jp-layout-color3: var(--colab-primary-surface-color, white);\n",
              "                }\n",
              "            </style>\n",
              "            "
            ]
          },
          "metadata": {}
        },
        {
          "output_type": "stream",
          "name": "stdout",
          "text": [
            "0.9880903770246359\n",
            "0.9589944977624462\n",
            "[[0.9969481180061037], [0.9959445758702264], [0.9378808728130529], [0.9913470609284019]]\n",
            "[[0.9979633401221996, 0.9899227410144441, 0.9066894716837705, 0.9947447447447447]]\n"
          ]
        }
      ],
      "source": [
        "confusion_matrix = classifier.confusionMatrix()\n",
        "\n",
        "# Calculate accuracy metrics\n",
        "accuracy = confusion_matrix.accuracy().getInfo()\n",
        "kappa = confusion_matrix.kappa().getInfo()\n",
        "producers_accuracy = confusion_matrix.producersAccuracy().getInfo()\n",
        "consumers_accuracy = confusion_matrix.consumersAccuracy().getInfo()\n",
        "\n",
        "print(accuracy)\n",
        "print(kappa)\n",
        "print(producers_accuracy)\n",
        "print(consumers_accuracy)"
      ]
    },
    {
      "cell_type": "code",
      "execution_count": 242,
      "metadata": {
        "id": "pc4Yw5hTeOQA",
        "colab": {
          "base_uri": "https://localhost:8080/",
          "height": 772
        },
        "outputId": "9aaf13f6-0495-4808-8f35-5b452043b765"
      },
      "outputs": [
        {
          "output_type": "display_data",
          "data": {
            "text/plain": [
              "<IPython.core.display.HTML object>"
            ],
            "text/html": [
              "\n",
              "            <style>\n",
              "                .geemap-dark {\n",
              "                    --jp-widgets-color: white;\n",
              "                    --jp-widgets-label-color: white;\n",
              "                    --jp-ui-font-color1: white;\n",
              "                    --jp-layout-color2: #454545;\n",
              "                    background-color: #383838;\n",
              "                }\n",
              "\n",
              "                .geemap-dark .jupyter-button {\n",
              "                    --jp-layout-color3: #383838;\n",
              "                }\n",
              "\n",
              "                .geemap-colab {\n",
              "                    background-color: var(--colab-primary-surface-color, white);\n",
              "                }\n",
              "\n",
              "                .geemap-colab .jupyter-button {\n",
              "                    --jp-layout-color3: var(--colab-primary-surface-color, white);\n",
              "                }\n",
              "            </style>\n",
              "            "
            ]
          },
          "metadata": {}
        },
        {
          "output_type": "display_data",
          "data": {
            "text/plain": [
              "<Figure size 1000x800 with 1 Axes>"
            ],
            "image/png": "[encoded data removed]"
          },
          "metadata": {}
        },
        {
          "output_type": "stream",
          "name": "stdout",
          "text": [
            "Class 1 - Sensitivity: 0.9969481180061037, Specificity: 0.999972408845724 -  F1:0.9974554707379135\n",
            "Class 2 - Sensitivity: 0.9959445758702264, Specificity: 0.9991117953576504 -  F1:0.9929245283018868\n",
            "Class 3 - Sensitivity: 0.9378808728130529, Specificity: 0.9928198528874136 -  F1:0.9220214513479563\n",
            "Class 4 - Sensitivity: 0.9913470609284019, Specificity: 0.9731398064731398 -  F1:0.9930429965622302\n"
          ]
        }
      ],
      "source": [
        "\n",
        "train_accuracy=train_accuracy_rf\n",
        "conf_matrix = np.array(train_accuracy.getInfo())\n",
        "\n",
        "# Displaying the confusion matrix\n",
        "plt.figure(figsize=(10, 8))\n",
        "sns.heatmap(conf_matrix, annot=True, fmt='d', cmap='Blues', cbar=False)\n",
        "plt.title('Confusion Matrix for Random forest 4 branches \"2023\"')\n",
        "plt.show()\n",
        "\n",
        "\n",
        "if conf_matrix.shape == (4, 4):\n",
        "    sensitivities = []\n",
        "    specificities = []\n",
        "    f1=[]\n",
        "    for i in range(4):\n",
        "        # Extracting values from the confusion matrix for the i-th class\n",
        "        TN = np.sum(np.delete(np.delete(conf_matrix, i, axis=0), i, axis=1))\n",
        "        FP = np.sum(conf_matrix[:, i]) - conf_matrix[i, i]\n",
        "        FN = np.sum(conf_matrix[i, :]) - conf_matrix[i, i]\n",
        "        TP = conf_matrix[i, i]\n",
        "\n",
        "        # Calculating Sensitivity (Recall) for the i-th class\n",
        "        sensitivity = TP / (TP + FN)\n",
        "        sensitivities.append(sensitivity)\n",
        "\n",
        "        # Calculating Specificity for the i-th class\n",
        "        specificity = TN / (TN + FP)\n",
        "        specificities.append(specificity)\n",
        "\n",
        "        f1=2*TP/(2*TP+FN+FP)\n",
        "        print(f\"Class {i + 1} - Sensitivity: {sensitivity}, Specificity: {specificity} -  F1:{f1}\")\n",
        "\n",
        "else:\n",
        "    print(\"Confusion matrix does not have the expected shape (4x4). Check the matrix.\")\n"
      ]
    },
    {
      "cell_type": "markdown",
      "source": [
        "## MAHALANOBIS ACCURACY ASSESSMENT"
      ],
      "metadata": {
        "id": "fiCvMP4pxh_x"
      }
    },
    {
      "cell_type": "code",
      "source": [
        "train_accuracy_mah = mah_classifier.confusionMatrix()\n",
        "print(train_accuracy_mah.getInfo())\n",
        "\n",
        "print(train_accuracy_mah.accuracy().getInfo())\n",
        "print(train_accuracy_mah.kappa().getInfo())#acuracy of classifications\n",
        "print(train_accuracy_mah.producersAccuracy().getInfo())\n",
        "\n",
        "confusion_matrix_mah = train_accuracy_mah.getInfo()"
      ],
      "metadata": {
        "colab": {
          "base_uri": "https://localhost:8080/",
          "height": 90
        },
        "id": "QokxfMNDxhv4",
        "outputId": "30481f67-db9a-4b58-929e-2799d024284c"
      },
      "execution_count": 243,
      "outputs": [
        {
          "output_type": "display_data",
          "data": {
            "text/plain": [
              "<IPython.core.display.HTML object>"
            ],
            "text/html": [
              "\n",
              "            <style>\n",
              "                .geemap-dark {\n",
              "                    --jp-widgets-color: white;\n",
              "                    --jp-widgets-label-color: white;\n",
              "                    --jp-ui-font-color1: white;\n",
              "                    --jp-layout-color2: #454545;\n",
              "                    background-color: #383838;\n",
              "                }\n",
              "\n",
              "                .geemap-dark .jupyter-button {\n",
              "                    --jp-layout-color3: #383838;\n",
              "                }\n",
              "\n",
              "                .geemap-colab {\n",
              "                    background-color: var(--colab-primary-surface-color, white);\n",
              "                }\n",
              "\n",
              "                .geemap-colab .jupyter-button {\n",
              "                    --jp-layout-color3: var(--colab-primary-surface-color, white);\n",
              "                }\n",
              "            </style>\n",
              "            "
            ]
          },
          "metadata": {}
        },
        {
          "output_type": "stream",
          "name": "stdout",
          "text": [
            "[[962, 1, 20, 0], [11, 5818, 89, 0], [0, 139, 4393, 555], [1, 406, 15873, 45202]]\n",
            "0.767319994555601\n",
            "0.4857518933671516\n",
            "[[0.9786368260427264], [0.9831023994592768], [0.8635738156084136], [0.7352070524706418]]\n"
          ]
        }
      ]
    },
    {
      "cell_type": "code",
      "execution_count": 244,
      "metadata": {
        "id": "05lqg9EoYFxp",
        "colab": {
          "base_uri": "https://localhost:8080/",
          "height": 90
        },
        "outputId": "5e2b248f-a515-4839-c88b-b3326c11fc9c"
      },
      "outputs": [
        {
          "output_type": "display_data",
          "data": {
            "text/plain": [
              "<IPython.core.display.HTML object>"
            ],
            "text/html": [
              "\n",
              "            <style>\n",
              "                .geemap-dark {\n",
              "                    --jp-widgets-color: white;\n",
              "                    --jp-widgets-label-color: white;\n",
              "                    --jp-ui-font-color1: white;\n",
              "                    --jp-layout-color2: #454545;\n",
              "                    background-color: #383838;\n",
              "                }\n",
              "\n",
              "                .geemap-dark .jupyter-button {\n",
              "                    --jp-layout-color3: #383838;\n",
              "                }\n",
              "\n",
              "                .geemap-colab {\n",
              "                    background-color: var(--colab-primary-surface-color, white);\n",
              "                }\n",
              "\n",
              "                .geemap-colab .jupyter-button {\n",
              "                    --jp-layout-color3: var(--colab-primary-surface-color, white);\n",
              "                }\n",
              "            </style>\n",
              "            "
            ]
          },
          "metadata": {}
        },
        {
          "output_type": "stream",
          "name": "stdout",
          "text": [
            "0.767319994555601\n",
            "0.4857518933671516\n",
            "[[0.9786368260427264], [0.9831023994592768], [0.8635738156084136], [0.7352070524706418]]\n",
            "[[0.9876796714579056, 0.9142049025769956, 0.2156073619631902, 0.9878707083069257]]\n"
          ]
        }
      ],
      "source": [
        "confusion_matrix = mah_classifier.confusionMatrix()\n",
        "\n",
        "# Calculating accuracy metrics\n",
        "accuracy = confusion_matrix.accuracy().getInfo()\n",
        "kappa = confusion_matrix.kappa().getInfo()\n",
        "producers_accuracy = confusion_matrix.producersAccuracy().getInfo()\n",
        "\n",
        "consumers_accuracy = confusion_matrix.consumersAccuracy().getInfo()\n",
        "\n",
        "print(accuracy)\n",
        "print(kappa)\n",
        "print(producers_accuracy)\n",
        "print(consumers_accuracy)"
      ]
    },
    {
      "cell_type": "code",
      "execution_count": 245,
      "metadata": {
        "id": "epRe4y7flFio",
        "colab": {
          "base_uri": "https://localhost:8080/",
          "height": 772
        },
        "outputId": "63feac24-cc74-4ebe-a25c-932903b38b15"
      },
      "outputs": [
        {
          "output_type": "display_data",
          "data": {
            "text/plain": [
              "<IPython.core.display.HTML object>"
            ],
            "text/html": [
              "\n",
              "            <style>\n",
              "                .geemap-dark {\n",
              "                    --jp-widgets-color: white;\n",
              "                    --jp-widgets-label-color: white;\n",
              "                    --jp-ui-font-color1: white;\n",
              "                    --jp-layout-color2: #454545;\n",
              "                    background-color: #383838;\n",
              "                }\n",
              "\n",
              "                .geemap-dark .jupyter-button {\n",
              "                    --jp-layout-color3: #383838;\n",
              "                }\n",
              "\n",
              "                .geemap-colab {\n",
              "                    background-color: var(--colab-primary-surface-color, white);\n",
              "                }\n",
              "\n",
              "                .geemap-colab .jupyter-button {\n",
              "                    --jp-layout-color3: var(--colab-primary-surface-color, white);\n",
              "                }\n",
              "            </style>\n",
              "            "
            ]
          },
          "metadata": {}
        },
        {
          "output_type": "display_data",
          "data": {
            "text/plain": [
              "<Figure size 1000x800 with 1 Axes>"
            ],
            "image/png": "[encoded data removed]"
          },
          "metadata": {}
        },
        {
          "output_type": "stream",
          "name": "stdout",
          "text": [
            "Class 1 - Sensitivity: 0.9786368260427264, Specificity: 0.9998344530743444 -  F1:0.9831374552887072\n",
            "Class 2 - Sensitivity: 0.9831023994592768, Specificity: 0.9919173377546187 -  F1:0.9474027031428106\n",
            "Class 3 - Sensitivity: 0.8635738156084136, Specificity: 0.7662869426611877 -  F1:0.3450632314822088\n",
            "Class 4 - Sensitivity: 0.7352070524706418, Specificity: 0.9537037037037037 -  F1:0.843014201922808\n"
          ]
        }
      ],
      "source": [
        "\n",
        "train_accuracy=train_accuracy_mah\n",
        "# Replace this with your actual confusion matrix\n",
        "conf_matrix = np.array(train_accuracy.getInfo())\n",
        "\n",
        "# Display the confusion matrix using seaborn\n",
        "plt.figure(figsize=(10, 8))\n",
        "sns.heatmap(conf_matrix, annot=True, fmt='d', cmap='Blues', cbar=False)\n",
        "plt.title('Confusion Matrix for Mahalanobis \"2023\" ')\n",
        "plt.show()\n",
        "\n",
        "\n",
        "# Assuming conf_matrix is your confusion matrix\n",
        "if conf_matrix.shape == (4, 4):\n",
        "    sensitivities = []\n",
        "    specificities = []\n",
        "    f1=[]\n",
        "    for i in range(4):\n",
        "        # Extracting values from the confusion matrix for the i-th class\n",
        "        TN = np.sum(np.delete(np.delete(conf_matrix, i, axis=0), i, axis=1))\n",
        "        FP = np.sum(conf_matrix[:, i]) - conf_matrix[i, i]\n",
        "        FN = np.sum(conf_matrix[i, :]) - conf_matrix[i, i]\n",
        "        TP = conf_matrix[i, i]\n",
        "\n",
        "        # Calculating Sensitivity (Recall) for the i-th class\n",
        "        sensitivity = TP / (TP + FN)\n",
        "        sensitivities.append(sensitivity)\n",
        "\n",
        "        # Calculating Specificity for the i-th class\n",
        "        specificity = TN / (TN + FP)\n",
        "        specificities.append(specificity)\n",
        "\n",
        "        f1=2*TP/(2*TP+FN+FP)\n",
        "        print(f\"Class {i + 1} - Sensitivity: {sensitivity}, Specificity: {specificity} -  F1:{f1}\")\n",
        "\n",
        "else:\n",
        "    print(\"Confusion matrix does not have the expected shape (4x4). Check the matrix.\")"
      ]
    },
    {
      "cell_type": "markdown",
      "source": [
        "## MINIMUM DISTANCES ACCURACY ASSESSMENT"
      ],
      "metadata": {
        "id": "q8wyzb7PyHCm"
      }
    },
    {
      "cell_type": "code",
      "source": [
        "train_accuracy_md = md_classifier.confusionMatrix()\n",
        "print(train_accuracy_md.getInfo())\n",
        "\n",
        "print(train_accuracy_md.accuracy().getInfo())\n",
        "print(train_accuracy_md.kappa().getInfo())#acuracy of classifications\n",
        "print(train_accuracy_md.producersAccuracy().getInfo())\n",
        "confusion_matrix_md = train_accuracy_md.getInfo()"
      ],
      "metadata": {
        "colab": {
          "base_uri": "https://localhost:8080/",
          "height": 90
        },
        "id": "YsN60t7kyGl2",
        "outputId": "89b52d33-33f2-4740-f6dd-6330564f3248"
      },
      "execution_count": 246,
      "outputs": [
        {
          "output_type": "display_data",
          "data": {
            "text/plain": [
              "<IPython.core.display.HTML object>"
            ],
            "text/html": [
              "\n",
              "            <style>\n",
              "                .geemap-dark {\n",
              "                    --jp-widgets-color: white;\n",
              "                    --jp-widgets-label-color: white;\n",
              "                    --jp-ui-font-color1: white;\n",
              "                    --jp-layout-color2: #454545;\n",
              "                    background-color: #383838;\n",
              "                }\n",
              "\n",
              "                .geemap-dark .jupyter-button {\n",
              "                    --jp-layout-color3: #383838;\n",
              "                }\n",
              "\n",
              "                .geemap-colab {\n",
              "                    background-color: var(--colab-primary-surface-color, white);\n",
              "                }\n",
              "\n",
              "                .geemap-colab .jupyter-button {\n",
              "                    --jp-layout-color3: var(--colab-primary-surface-color, white);\n",
              "                }\n",
              "            </style>\n",
              "            "
            ]
          },
          "metadata": {}
        },
        {
          "output_type": "stream",
          "name": "stdout",
          "text": [
            "[[948, 9, 26, 0], [0, 5751, 167, 0], [0, 146, 2655, 2286], [0, 202, 18753, 42527]]\n",
            "0.706152170954131\n",
            "0.36444542937476715\n",
            "[[0.9643947100712106], [0.9717810070969922], [0.5219186160802044], [0.6916983832666471]]\n"
          ]
        }
      ]
    },
    {
      "cell_type": "code",
      "execution_count": 247,
      "metadata": {
        "id": "UzY2ZkhJYZR0",
        "colab": {
          "base_uri": "https://localhost:8080/",
          "height": 90
        },
        "outputId": "80ac6174-3710-4779-c1bc-e05f79855456"
      },
      "outputs": [
        {
          "output_type": "display_data",
          "data": {
            "text/plain": [
              "<IPython.core.display.HTML object>"
            ],
            "text/html": [
              "\n",
              "            <style>\n",
              "                .geemap-dark {\n",
              "                    --jp-widgets-color: white;\n",
              "                    --jp-widgets-label-color: white;\n",
              "                    --jp-ui-font-color1: white;\n",
              "                    --jp-layout-color2: #454545;\n",
              "                    background-color: #383838;\n",
              "                }\n",
              "\n",
              "                .geemap-dark .jupyter-button {\n",
              "                    --jp-layout-color3: #383838;\n",
              "                }\n",
              "\n",
              "                .geemap-colab {\n",
              "                    background-color: var(--colab-primary-surface-color, white);\n",
              "                }\n",
              "\n",
              "                .geemap-colab .jupyter-button {\n",
              "                    --jp-layout-color3: var(--colab-primary-surface-color, white);\n",
              "                }\n",
              "            </style>\n",
              "            "
            ]
          },
          "metadata": {}
        },
        {
          "output_type": "stream",
          "name": "stdout",
          "text": [
            "0.706152170954131\n",
            "0.36444542937476715\n",
            "[[0.9643947100712106], [0.9717810070969922], [0.5219186160802044], [0.6916983832666471]]\n",
            "[[1, 0.9415520628683693, 0.12291097634368779, 0.9489880168701047]]\n"
          ]
        }
      ],
      "source": [
        "confusion_matrix = md_classifier.confusionMatrix()\n",
        "\n",
        "# Calculate accuracy metrics\n",
        "accuracy = confusion_matrix.accuracy().getInfo()\n",
        "kappa = confusion_matrix.kappa().getInfo()\n",
        "producers_accuracy = confusion_matrix.producersAccuracy().getInfo()\n",
        "consumers_accuracy = confusion_matrix.consumersAccuracy().getInfo()\n",
        "\n",
        "print(accuracy)\n",
        "print(kappa)\n",
        "print(producers_accuracy)\n",
        "print(consumers_accuracy)"
      ]
    },
    {
      "cell_type": "code",
      "execution_count": 248,
      "metadata": {
        "id": "2b_KNlCwuJkn",
        "colab": {
          "base_uri": "https://localhost:8080/",
          "height": 772
        },
        "outputId": "687e85b0-81d0-4e2c-eaab-0780111b7e3c"
      },
      "outputs": [
        {
          "output_type": "display_data",
          "data": {
            "text/plain": [
              "<IPython.core.display.HTML object>"
            ],
            "text/html": [
              "\n",
              "            <style>\n",
              "                .geemap-dark {\n",
              "                    --jp-widgets-color: white;\n",
              "                    --jp-widgets-label-color: white;\n",
              "                    --jp-ui-font-color1: white;\n",
              "                    --jp-layout-color2: #454545;\n",
              "                    background-color: #383838;\n",
              "                }\n",
              "\n",
              "                .geemap-dark .jupyter-button {\n",
              "                    --jp-layout-color3: #383838;\n",
              "                }\n",
              "\n",
              "                .geemap-colab {\n",
              "                    background-color: var(--colab-primary-surface-color, white);\n",
              "                }\n",
              "\n",
              "                .geemap-colab .jupyter-button {\n",
              "                    --jp-layout-color3: var(--colab-primary-surface-color, white);\n",
              "                }\n",
              "            </style>\n",
              "            "
            ]
          },
          "metadata": {}
        },
        {
          "output_type": "display_data",
          "data": {
            "text/plain": [
              "<Figure size 1000x800 with 1 Axes>"
            ],
            "image/png": "[encoded data removed]"
          },
          "metadata": {}
        },
        {
          "output_type": "stream",
          "name": "stdout",
          "text": [
            "Class 1 - Sensitivity: 0.9643947100712106, Specificity: 1.0 -  F1:0.981874676333506\n",
            "Class 2 - Sensitivity: 0.9717810070969922, Specificity: 0.9947151823780199 -  F1:0.9564277398968901\n",
            "Class 3 - Sensitivity: 0.5219186160802044, Specificity: 0.7229428366699325 -  F1:0.1989658273381295\n",
            "Class 4 - Sensitivity: 0.6916983832666471, Specificity: 0.8093093093093093 -  F1:0.8001693400442166\n"
          ]
        }
      ],
      "source": [
        "\n",
        "import numpy as np\n",
        "import matplotlib.pyplot as plt\n",
        "import seaborn as sns\n",
        "from sklearn.metrics import ConfusionMatrixDisplay\n",
        "train_accuracy=train_accuracy_md\n",
        "conf_matrix = np.array(train_accuracy.getInfo())\n",
        "\n",
        "# Display the confusion matrix using seaborn\n",
        "plt.figure(figsize=(10, 8))\n",
        "sns.heatmap(conf_matrix, annot=True, fmt='d', cmap='Blues', cbar=False)\n",
        "plt.title('Confusion Matrix for Minimum distance \"2023\"')\n",
        "plt.show()\n",
        "\n",
        "if conf_matrix.shape == (4, 4):\n",
        "    sensitivities = []\n",
        "    specificities = []\n",
        "    f1=[]\n",
        "    for i in range(4):\n",
        "        # Extracting values from the confusion matrix for the i-th class\n",
        "        TN = np.sum(np.delete(np.delete(conf_matrix, i, axis=0), i, axis=1))\n",
        "        FP = np.sum(conf_matrix[:, i]) - conf_matrix[i, i]\n",
        "        FN = np.sum(conf_matrix[i, :]) - conf_matrix[i, i]\n",
        "        TP = conf_matrix[i, i]\n",
        "\n",
        "        # Calculating Sensitivity (Recall) for the i-th class\n",
        "        sensitivity = TP / (TP + FN)\n",
        "        sensitivities.append(sensitivity)\n",
        "\n",
        "        # Calculating Specificity for the i-th class\n",
        "        specificity = TN / (TN + FP)\n",
        "        specificities.append(specificity)\n",
        "\n",
        "        f1=2*TP/(2*TP+FN+FP)\n",
        "        print(f\"Class {i + 1} - Sensitivity: {sensitivity}, Specificity: {specificity} -  F1:{f1}\")\n",
        "\n",
        "else:\n",
        "    print(\"Confusion matrix does not have the expected shape (4x4). Check the matrix.\")"
      ]
    },
    {
      "cell_type": "markdown",
      "source": [
        "#CLASSIFYING THE IMAGES WITH RANDOM FOREST &CALCULATING THE CHANGES"
      ],
      "metadata": {
        "id": "LvUKQI68zh7y"
      }
    },
    {
      "cell_type": "code",
      "source": [
        "clasified_2013=composite_2013.select(bands).classify(classifier)\n",
        "clasified_2014=composite_2014.select(bands).classify(classifier)\n",
        "clasified_2015=composite_2015.select(bands).classify(classifier)\n",
        "clasified_2016=composite_2016.select(bands).classify(classifier)\n",
        "clasified_2017=composite_2017.select(bands).classify(classifier)\n",
        "clasified_2018=composite_2018.select(bands).classify(classifier)\n",
        "clasified_2019=composite_2019.select(bands).classify(classifier)\n",
        "clasified_2020=composite_2020.select(bands).classify(classifier)\n",
        "clasified_2021=composite_2021.select(bands).classify(classifier)\n",
        "clasified_2022=composite_2022.select(bands).classify(classifier)\n",
        "clasified_2023=composite_2023.select(bands).classify(classifier)"
      ],
      "metadata": {
        "colab": {
          "base_uri": "https://localhost:8080/",
          "height": 17
        },
        "id": "yZMOZ67uzn9o",
        "outputId": "06dbc06d-dd1b-4ff4-d026-9a5111d2edee"
      },
      "execution_count": 249,
      "outputs": [
        {
          "output_type": "display_data",
          "data": {
            "text/plain": [
              "<IPython.core.display.HTML object>"
            ],
            "text/html": [
              "\n",
              "            <style>\n",
              "                .geemap-dark {\n",
              "                    --jp-widgets-color: white;\n",
              "                    --jp-widgets-label-color: white;\n",
              "                    --jp-ui-font-color1: white;\n",
              "                    --jp-layout-color2: #454545;\n",
              "                    background-color: #383838;\n",
              "                }\n",
              "\n",
              "                .geemap-dark .jupyter-button {\n",
              "                    --jp-layout-color3: #383838;\n",
              "                }\n",
              "\n",
              "                .geemap-colab {\n",
              "                    background-color: var(--colab-primary-surface-color, white);\n",
              "                }\n",
              "\n",
              "                .geemap-colab .jupyter-button {\n",
              "                    --jp-layout-color3: var(--colab-primary-surface-color, white);\n",
              "                }\n",
              "            </style>\n",
              "            "
            ]
          },
          "metadata": {}
        }
      ]
    },
    {
      "cell_type": "code",
      "source": [
        "Map2 = geemap.Map()\n",
        "Map2.centerObject(region, 9)\n",
        "\n",
        "Map2.addLayerControl()\n",
        "Map2.addLayer(clasified_2013, vis_parameters_class, 'OG CLIPED COMPOSITE 2013 ')\n",
        "Map2.addLayer(clasified_2014, vis_parameters_class, 'OG CLIPED COMPOSITE 2014 ')\n",
        "Map2.addLayer(clasified_2015, vis_parameters_class, 'OG CLIPED COMPOSITE 2015 ')\n",
        "Map2.addLayer(clasified_2016, vis_parameters_class, 'OG CLIPED COMPOSITE 2016 ')\n",
        "Map2.addLayer(clasified_2017, vis_parameters_class, 'OG CLIPED COMPOSITE 2017 ')\n",
        "Map2.addLayer(clasified_2018, vis_parameters_class, 'OG CLIPED COMPOSITE 2018 ')\n",
        "Map2.addLayer(clasified_2019, vis_parameters_class, 'OG CLIPED COMPOSITE 2019 ')\n",
        "Map2.addLayer(clasified_2020, vis_parameters_class, 'OG CLIPED COMPOSITE 2020 ')\n",
        "Map2.addLayer(clasified_2021, vis_parameters_class, 'OG CLIPED COMPOSITE 2021 ')\n",
        "Map2.addLayer(clasified_2022, vis_parameters_class, 'OG CLIPED COMPOSITE 2022 ')\n",
        "Map2.addLayer(clasified_2023, vis_parameters_class, 'OG CLIPED COMPOSITE 2023 ')\n",
        "Map2"
      ],
      "metadata": {
        "colab": {
          "base_uri": "https://localhost:8080/",
          "height": 621,
          "referenced_widgets": [
            "8fbeefc503624bf8a01c1686ab4fd304",
            "6897951f6f2f4e3a841c6fe24a8c88a4",
            "ec1d3ce69cc44796b41483e6ce9ab655",
            "19cbaef26958442ba02be5d6735cc893",
            "ba779af8d3e048e68fe317a94c14aca8",
            "8148ac04364544d2a0995dcd439f2f10",
            "f7611be8ff7e49398b982a234a91882e",
            "5035a4c2774f40e599a2efcbbf6675b2",
            "275b7cc3d67f41b4ab4ab93256a76400",
            "983c577c695e4c47b09363cb8095e292",
            "a09958f623ea4f389ae5cf191d5fa2a2",
            "c7d0d8e239e0486eb0357b9a4e558757",
            "1dfef3a812a243248e5a5fc84e7c9bb1",
            "efe302fce2984196a9cb73a4eb96b026",
            "cada10dfa65f480390ce1cabc886426a",
            "92c455c96b05497bbd537aee3475b0b5",
            "b163aed77b9e4f18a5cc82b42c77e2ba",
            "f87267b322184530833258b34afb9b52",
            "d136febd921f4c03ae93a664b28630df",
            "a73b0705fa154ff2b5fc5480349d79ab",
            "3425cb4f7f284417a56180509fae1049",
            "8aab23528f824afeabe89b96a9d2e3aa",
            "b687a4a993f443ada62046c68d0d1ced",
            "42a0ac7b18f5416f858b19f2c9d34139",
            "d89d36699c0d4310b7a2a801bd644353",
            "619e608bafde450cb713c092d8837e87",
            "fcd09a915cdd4c79bedee72c83362a18",
            "27da6059ba0a414a86aa35d5480fa5f5",
            "890e7adc986c4a00b57a56584b8c1993",
            "d396f85ab34545c28b5b346ba4819f8f",
            "dd8861714e4b463a9e507f499a6c61bf",
            "5115246abb684a1cb18afc767aaea473",
            "3bd5ee46d42a4f6fb7948f6f2bc43775",
            "859b537183874e31b16bbf078fa6e505",
            "df1086e542e648069b3133aa12e41a53",
            "d85b78fea5b640b88ea3afca42731324"
          ]
        },
        "id": "ZGgqjmUv0pTL",
        "outputId": "5826f4fd-0ffd-4604-fa37-52bd86925a9e"
      },
      "execution_count": 250,
      "outputs": [
        {
          "output_type": "display_data",
          "data": {
            "text/plain": [
              "<IPython.core.display.HTML object>"
            ],
            "text/html": [
              "\n",
              "            <style>\n",
              "                .geemap-dark {\n",
              "                    --jp-widgets-color: white;\n",
              "                    --jp-widgets-label-color: white;\n",
              "                    --jp-ui-font-color1: white;\n",
              "                    --jp-layout-color2: #454545;\n",
              "                    background-color: #383838;\n",
              "                }\n",
              "\n",
              "                .geemap-dark .jupyter-button {\n",
              "                    --jp-layout-color3: #383838;\n",
              "                }\n",
              "\n",
              "                .geemap-colab {\n",
              "                    background-color: var(--colab-primary-surface-color, white);\n",
              "                }\n",
              "\n",
              "                .geemap-colab .jupyter-button {\n",
              "                    --jp-layout-color3: var(--colab-primary-surface-color, white);\n",
              "                }\n",
              "            </style>\n",
              "            "
            ]
          },
          "metadata": {}
        },
        {
          "output_type": "display_data",
          "data": {
            "text/plain": [
              "Map(center=[41.214298237495086, 26.166221754653815], controls=(WidgetControl(options=['position', 'transparent…"
            ],
            "application/vnd.jupyter.widget-view+json": {
              "version_major": 2,
              "version_minor": 0,
              "model_id": "8fbeefc503624bf8a01c1686ab4fd304"
            }
          },
          "metadata": {
            "application/vnd.jupyter.widget-view+json": {
              "colab": {
                "custom_widget_manager": {
                  "url": "https://ssl.gstatic.com/colaboratory-static/widgets/colab-cdn-widget-manager/2b70e893a8ba7c0f/manager.min.js"
                }
              }
            }
          }
        }
      ]
    },
    {
      "cell_type": "markdown",
      "source": [
        "## CALCULATING THE PIXELS FOR EVERY CLASS"
      ],
      "metadata": {
        "id": "9169G6rl-dQK"
      }
    },
    {
      "cell_type": "code",
      "execution_count": 251,
      "metadata": {
        "id": "7GI36s34-L9i",
        "colab": {
          "base_uri": "https://localhost:8080/",
          "height": 17
        },
        "outputId": "334a3794-ce09-41d7-a435-4ef01e222f7b"
      },
      "outputs": [
        {
          "output_type": "display_data",
          "data": {
            "text/plain": [
              "<IPython.core.display.HTML object>"
            ],
            "text/html": [
              "\n",
              "            <style>\n",
              "                .geemap-dark {\n",
              "                    --jp-widgets-color: white;\n",
              "                    --jp-widgets-label-color: white;\n",
              "                    --jp-ui-font-color1: white;\n",
              "                    --jp-layout-color2: #454545;\n",
              "                    background-color: #383838;\n",
              "                }\n",
              "\n",
              "                .geemap-dark .jupyter-button {\n",
              "                    --jp-layout-color3: #383838;\n",
              "                }\n",
              "\n",
              "                .geemap-colab {\n",
              "                    background-color: var(--colab-primary-surface-color, white);\n",
              "                }\n",
              "\n",
              "                .geemap-colab .jupyter-button {\n",
              "                    --jp-layout-color3: var(--colab-primary-surface-color, white);\n",
              "                }\n",
              "            </style>\n",
              "            "
            ]
          },
          "metadata": {}
        }
      ],
      "source": [
        "\n",
        "def calculate_pixels(classified_image,region):\n",
        "  image=classified_image.clip(region)\n",
        "  stats = image.reduceRegion(reducer=ee.Reducer.frequencyHistogram(), geometry=region, scale=30)\n",
        "  return(stats.getInfo())\n",
        "\n",
        "def count_pixels(image, region):\n",
        "\n",
        "    pixel_count = image.reduceRegion(\n",
        "        reducer=ee.Reducer.count(),\n",
        "        geometry=region.geometry(),\n",
        "        scale=30,\n",
        "        maxPixels=1e13\n",
        "    )\n",
        "\n",
        "    count_value = ee.Number(pixel_count.get('B1'))\n",
        "\n",
        "    return count_value\n",
        "\n"
      ]
    },
    {
      "cell_type": "code",
      "source": [
        "#~~~~~~~~~~~~~~~2013~~~~~~~~~~~~~~~~\n",
        "pix_2013=calculate_pixels(clasified_2013,region)\n",
        "#~~~~~~~~~~~~~~~2014~~~~~~~~~~~~~~~~\n",
        "pix_2014=calculate_pixels(clasified_2014,region)\n",
        "#~~~~~~~~~~~~~~~2015~~~~~~~~~~~~~~~~\n",
        "pix_2015=calculate_pixels(clasified_2015,region)\n",
        "#~~~~~~~~~~~~~~~2016~~~~~~~~~~~~~~~~\n",
        "pix_2016=calculate_pixels(clasified_2016,region)\n",
        "#~~~~~~~~~~~~~~~2017~~~~~~~~~~~~~~~~\n",
        "pix_2017=calculate_pixels(clasified_2017,region)\n",
        "#~~~~~~~~~~~~~~~2018~~~~~~~~~~~~~~~~\n",
        "pix_2018=calculate_pixels(clasified_2018,region)\n",
        "#~~~~~~~~~~~~~~~2019~~~~~~~~~~~~~~~~\n",
        "pix_2019=calculate_pixels(clasified_2019,region)\n",
        "#~~~~~~~~~~~~~~~2020~~~~~~~~~~~~~~~~\n",
        "pix_2020=calculate_pixels(clasified_2020,region)\n",
        "#~~~~~~~~~~~~~~~2021~~~~~~~~~~~~~~~~\n",
        "pix_2021=calculate_pixels(clasified_2021,region)\n",
        "#~~~~~~~~~~~~~~~2022~~~~~~~~~~~~~~~~\n",
        "pix_2022=calculate_pixels(clasified_2022,region)\n",
        "#~~~~~~~~~~~~~~~2023~~~~~~~~~~~~~~~~\n",
        "pix_2023=calculate_pixels(clasified_2023,region)\n",
        "pixel_count_result = count_pixels(composite_2013, region)\n",
        "pixelscount=pixel_count_result.getInfo()\n",
        "\n",
        "print(\"Pixel count:\", pixel_count_result.getInfo())\n",
        "pixel_sum_aeria= pixelscount*900/1000000"
      ],
      "metadata": {
        "id": "CuXT-_DI3L0X",
        "colab": {
          "base_uri": "https://localhost:8080/",
          "height": 35
        },
        "outputId": "c310936a-9642-46fd-ee11-68e6e5ae70d1"
      },
      "execution_count": 252,
      "outputs": [
        {
          "output_type": "display_data",
          "data": {
            "text/plain": [
              "<IPython.core.display.HTML object>"
            ],
            "text/html": [
              "\n",
              "            <style>\n",
              "                .geemap-dark {\n",
              "                    --jp-widgets-color: white;\n",
              "                    --jp-widgets-label-color: white;\n",
              "                    --jp-ui-font-color1: white;\n",
              "                    --jp-layout-color2: #454545;\n",
              "                    background-color: #383838;\n",
              "                }\n",
              "\n",
              "                .geemap-dark .jupyter-button {\n",
              "                    --jp-layout-color3: #383838;\n",
              "                }\n",
              "\n",
              "                .geemap-colab {\n",
              "                    background-color: var(--colab-primary-surface-color, white);\n",
              "                }\n",
              "\n",
              "                .geemap-colab .jupyter-button {\n",
              "                    --jp-layout-color3: var(--colab-primary-surface-color, white);\n",
              "                }\n",
              "            </style>\n",
              "            "
            ]
          },
          "metadata": {}
        },
        {
          "output_type": "stream",
          "name": "stdout",
          "text": [
            "Pixel count: 2937996\n"
          ]
        }
      ]
    },
    {
      "cell_type": "code",
      "source": [
        "# GET THE CLASSES TOGETHER FOR EVERY YEAR\n",
        "class_0 = [pix_2013['classification']['0'],pix_2014['classification']['0'],pix_2015['classification']['0'],pix_2016['classification']['0'],pix_2017['classification']['0'],pix_2018['classification']['0'],pix_2019['classification']['0'],pix_2020['classification']['0'],pix_2021['classification']['0'],pix_2022['classification']['0'],pix_2023['classification']['0']]\n",
        "class_1 = [pix_2013['classification']['1'],pix_2014['classification']['1'],pix_2015['classification']['1'],pix_2016['classification']['1'],pix_2017['classification']['1'],pix_2018['classification']['1'],pix_2019['classification']['1'],pix_2020['classification']['1'],pix_2021['classification']['1'],pix_2022['classification']['1'],pix_2023['classification']['1']]\n",
        "class_2 = [pix_2013['classification']['2'], pix_2014['classification']['2'], pix_2015['classification']['2'], pix_2016['classification']['2'], pix_2017['classification']['2'], pix_2018['classification']['2'], pix_2019['classification']['2'], pix_2020['classification']['2'], pix_2021['classification']['2'], pix_2022['classification']['2'], pix_2023['classification']['2']]\n",
        "class_3 = [pix_2013['classification']['3'], pix_2014['classification']['3'], pix_2015['classification']['3'], pix_2016['classification']['3'], pix_2017['classification']['3'], pix_2018['classification']['3'], pix_2019['classification']['3'], pix_2020['classification']['3'], pix_2021['classification']['3'], pix_2022['classification']['3'], pix_2023['classification']['3']]\n"
      ],
      "metadata": {
        "colab": {
          "base_uri": "https://localhost:8080/",
          "height": 17
        },
        "id": "nArsG_FG1dLB",
        "outputId": "79013346-2a82-4b7a-dc31-f9fc5cc3d848"
      },
      "execution_count": 253,
      "outputs": [
        {
          "output_type": "display_data",
          "data": {
            "text/plain": [
              "<IPython.core.display.HTML object>"
            ],
            "text/html": [
              "\n",
              "            <style>\n",
              "                .geemap-dark {\n",
              "                    --jp-widgets-color: white;\n",
              "                    --jp-widgets-label-color: white;\n",
              "                    --jp-ui-font-color1: white;\n",
              "                    --jp-layout-color2: #454545;\n",
              "                    background-color: #383838;\n",
              "                }\n",
              "\n",
              "                .geemap-dark .jupyter-button {\n",
              "                    --jp-layout-color3: #383838;\n",
              "                }\n",
              "\n",
              "                .geemap-colab {\n",
              "                    background-color: var(--colab-primary-surface-color, white);\n",
              "                }\n",
              "\n",
              "                .geemap-colab .jupyter-button {\n",
              "                    --jp-layout-color3: var(--colab-primary-surface-color, white);\n",
              "                }\n",
              "            </style>\n",
              "            "
            ]
          },
          "metadata": {}
        }
      ]
    },
    {
      "cell_type": "code",
      "source": [
        "import matplotlib.pyplot as plt\n",
        "\n",
        "years = list(range(2013, 2024))\n",
        "plt.figure(figsize=(10, 8))\n",
        "\n",
        "acuracy = train_accuracy_rf.accuracy().getInfo()\n",
        "\n",
        "error =1-acuracy\n",
        "\n",
        "# Plotting with error bars for each class\n",
        "plt.errorbar(years, class_0, yerr=[error*x for x in class_0], fmt='o-', capsize=5, label='WATER')\n",
        "plt.errorbar(years, class_1, yerr=[error*x for x in class_1], fmt='^-', capsize=5, label='Bare Land')\n",
        "plt.errorbar(years, class_2, yerr=[error*x for x in class_2], fmt='>-', capsize=5, label='Light Forest')\n",
        "plt.errorbar(years, class_3, yerr=[error*x for x in class_3], fmt='v-', capsize=5, label='Dense Forest')\n",
        "\n",
        "# Adding labels and title\n",
        "plt.xlabel('Year')\n",
        "plt.ylabel('Classification Value')\n",
        "plt.title('Classification over the years with Error Bars')\n",
        "plt.legend()\n",
        "plt.grid(True)\n",
        "plt.show()\n"
      ],
      "metadata": {
        "colab": {
          "base_uri": "https://localhost:8080/",
          "height": 718
        },
        "id": "HsGJDQqe0_21",
        "outputId": "334e8f44-37c4-40ee-fa98-04054980dfb0"
      },
      "execution_count": 254,
      "outputs": [
        {
          "output_type": "display_data",
          "data": {
            "text/plain": [
              "<IPython.core.display.HTML object>"
            ],
            "text/html": [
              "\n",
              "            <style>\n",
              "                .geemap-dark {\n",
              "                    --jp-widgets-color: white;\n",
              "                    --jp-widgets-label-color: white;\n",
              "                    --jp-ui-font-color1: white;\n",
              "                    --jp-layout-color2: #454545;\n",
              "                    background-color: #383838;\n",
              "                }\n",
              "\n",
              "                .geemap-dark .jupyter-button {\n",
              "                    --jp-layout-color3: #383838;\n",
              "                }\n",
              "\n",
              "                .geemap-colab {\n",
              "                    background-color: var(--colab-primary-surface-color, white);\n",
              "                }\n",
              "\n",
              "                .geemap-colab .jupyter-button {\n",
              "                    --jp-layout-color3: var(--colab-primary-surface-color, white);\n",
              "                }\n",
              "            </style>\n",
              "            "
            ]
          },
          "metadata": {}
        },
        {
          "output_type": "display_data",
          "data": {
            "text/plain": [
              "<Figure size 1000x800 with 1 Axes>"
            ],
            "image/png": "[encoded data removed]"
          },
          "metadata": {}
        }
      ]
    },
    {
      "cell_type": "code",
      "source": [
        "years = list(range(2013, 2024))\n",
        "\n",
        "plt.errorbar(years, [int(x) for x in class_0], yerr=[error*x for x in class_0], fmt='o-', capsize=5, label='WATER')\n",
        "plt.title('Classification of Water over the years')\n",
        "plt.xlabel('Year')\n",
        "plt.ylabel('Classification Value')\n",
        "plt.grid(True)\n",
        "plt.show()"
      ],
      "metadata": {
        "colab": {
          "base_uri": "https://localhost:8080/",
          "height": 472
        },
        "id": "GgESvoMH1oiW",
        "outputId": "4160f007-3894-479c-80ac-84580a23642c"
      },
      "execution_count": 255,
      "outputs": [
        {
          "output_type": "display_data",
          "data": {
            "text/plain": [
              "<IPython.core.display.HTML object>"
            ],
            "text/html": [
              "\n",
              "            <style>\n",
              "                .geemap-dark {\n",
              "                    --jp-widgets-color: white;\n",
              "                    --jp-widgets-label-color: white;\n",
              "                    --jp-ui-font-color1: white;\n",
              "                    --jp-layout-color2: #454545;\n",
              "                    background-color: #383838;\n",
              "                }\n",
              "\n",
              "                .geemap-dark .jupyter-button {\n",
              "                    --jp-layout-color3: #383838;\n",
              "                }\n",
              "\n",
              "                .geemap-colab {\n",
              "                    background-color: var(--colab-primary-surface-color, white);\n",
              "                }\n",
              "\n",
              "                .geemap-colab .jupyter-button {\n",
              "                    --jp-layout-color3: var(--colab-primary-surface-color, white);\n",
              "                }\n",
              "            </style>\n",
              "            "
            ]
          },
          "metadata": {}
        },
        {
          "output_type": "display_data",
          "data": {
            "text/plain": [
              "<Figure size 640x480 with 1 Axes>"
            ],
            "image/png": "[encoded data removed]"
          },
          "metadata": {}
        }
      ]
    },
    {
      "cell_type": "code",
      "source": [
        "years = list(range(2013, 2024))\n",
        "\n",
        "plt.errorbar(years, [int(x) for x in class_1], yerr=[error*x for x in class_1], fmt='^-', capsize=5, label='Bare Land')\n",
        "plt.title('Classification of Bare Soil over the years')\n",
        "plt.xlabel('Year')\n",
        "plt.ylabel('Classification Value')\n",
        "plt.grid(True)\n",
        "plt.show()"
      ],
      "metadata": {
        "colab": {
          "base_uri": "https://localhost:8080/",
          "height": 472
        },
        "id": "PZ5jRfix1qoP",
        "outputId": "eefb6ca2-c962-47d7-fd26-b17e01136099"
      },
      "execution_count": 256,
      "outputs": [
        {
          "output_type": "display_data",
          "data": {
            "text/plain": [
              "<IPython.core.display.HTML object>"
            ],
            "text/html": [
              "\n",
              "            <style>\n",
              "                .geemap-dark {\n",
              "                    --jp-widgets-color: white;\n",
              "                    --jp-widgets-label-color: white;\n",
              "                    --jp-ui-font-color1: white;\n",
              "                    --jp-layout-color2: #454545;\n",
              "                    background-color: #383838;\n",
              "                }\n",
              "\n",
              "                .geemap-dark .jupyter-button {\n",
              "                    --jp-layout-color3: #383838;\n",
              "                }\n",
              "\n",
              "                .geemap-colab {\n",
              "                    background-color: var(--colab-primary-surface-color, white);\n",
              "                }\n",
              "\n",
              "                .geemap-colab .jupyter-button {\n",
              "                    --jp-layout-color3: var(--colab-primary-surface-color, white);\n",
              "                }\n",
              "            </style>\n",
              "            "
            ]
          },
          "metadata": {}
        },
        {
          "output_type": "display_data",
          "data": {
            "text/plain": [
              "<Figure size 640x480 with 1 Axes>"
            ],
            "image/png": "[encoded data removed]"
          },
          "metadata": {}
        }
      ]
    },
    {
      "cell_type": "code",
      "source": [
        "years = list(range(2013, 2024))\n",
        "\n",
        "plt.errorbar(years, [int(x) for x in class_2], yerr=[error*x for x in class_2], fmt='>-', capsize=5, label='Dense Forest')\n",
        "plt.title('Classification of Dence Forest over the years')\n",
        "plt.xlabel('Year')\n",
        "plt.ylabel('Classification Value')\n",
        "plt.grid(True)\n",
        "plt.show()"
      ],
      "metadata": {
        "colab": {
          "base_uri": "https://localhost:8080/",
          "height": 472
        },
        "id": "NJiXgp7t1sjm",
        "outputId": "e0b83f67-59bb-4db0-f31d-e1a131111e91"
      },
      "execution_count": 257,
      "outputs": [
        {
          "output_type": "display_data",
          "data": {
            "text/plain": [
              "<IPython.core.display.HTML object>"
            ],
            "text/html": [
              "\n",
              "            <style>\n",
              "                .geemap-dark {\n",
              "                    --jp-widgets-color: white;\n",
              "                    --jp-widgets-label-color: white;\n",
              "                    --jp-ui-font-color1: white;\n",
              "                    --jp-layout-color2: #454545;\n",
              "                    background-color: #383838;\n",
              "                }\n",
              "\n",
              "                .geemap-dark .jupyter-button {\n",
              "                    --jp-layout-color3: #383838;\n",
              "                }\n",
              "\n",
              "                .geemap-colab {\n",
              "                    background-color: var(--colab-primary-surface-color, white);\n",
              "                }\n",
              "\n",
              "                .geemap-colab .jupyter-button {\n",
              "                    --jp-layout-color3: var(--colab-primary-surface-color, white);\n",
              "                }\n",
              "            </style>\n",
              "            "
            ]
          },
          "metadata": {}
        },
        {
          "output_type": "display_data",
          "data": {
            "text/plain": [
              "<Figure size 640x480 with 1 Axes>"
            ],
            "image/png": "[encoded data removed]"
          },
          "metadata": {}
        }
      ]
    },
    {
      "cell_type": "code",
      "source": [
        "years = list(range(2013, 2024))\n",
        "\n",
        "plt.errorbar(years, [int(x) for x in class_3], yerr=[error*x for x in class_3], fmt='v-', capsize=5, label='Light Forest')\n",
        "plt.title('Classification of Dence Forest over the years')\n",
        "plt.xlabel('Year')\n",
        "plt.ylabel('Classification Value')\n",
        "plt.grid(True)\n",
        "plt.show()"
      ],
      "metadata": {
        "colab": {
          "base_uri": "https://localhost:8080/",
          "height": 472
        },
        "id": "EIisBlll1urG",
        "outputId": "94889db6-0772-48a6-bdbc-c4f38e017857"
      },
      "execution_count": 258,
      "outputs": [
        {
          "output_type": "display_data",
          "data": {
            "text/plain": [
              "<IPython.core.display.HTML object>"
            ],
            "text/html": [
              "\n",
              "            <style>\n",
              "                .geemap-dark {\n",
              "                    --jp-widgets-color: white;\n",
              "                    --jp-widgets-label-color: white;\n",
              "                    --jp-ui-font-color1: white;\n",
              "                    --jp-layout-color2: #454545;\n",
              "                    background-color: #383838;\n",
              "                }\n",
              "\n",
              "                .geemap-dark .jupyter-button {\n",
              "                    --jp-layout-color3: #383838;\n",
              "                }\n",
              "\n",
              "                .geemap-colab {\n",
              "                    background-color: var(--colab-primary-surface-color, white);\n",
              "                }\n",
              "\n",
              "                .geemap-colab .jupyter-button {\n",
              "                    --jp-layout-color3: var(--colab-primary-surface-color, white);\n",
              "                }\n",
              "            </style>\n",
              "            "
            ]
          },
          "metadata": {}
        },
        {
          "output_type": "display_data",
          "data": {
            "text/plain": [
              "<Figure size 640x480 with 1 Axes>"
            ],
            "image/png": "[encoded data removed]"
          },
          "metadata": {}
        }
      ]
    },
    {
      "cell_type": "code",
      "source": [
        "\n",
        "# set width of bar\n",
        "barWidth = 0.2\n",
        "fig = plt.subplots(figsize =(25, 10))\n",
        "sum_2013=int(int(class_0[0])+int(class_1[0])+int(class_2[0])+int(class_3[0]))\n",
        "sum_2014=int(class_0[1]+class_1[1]+class_2[1]+class_3[1])\n",
        "sum_2015=int(class_0[2]+class_1[2]+class_2[2]+class_3[2])\n",
        "sum_2016=int(class_0[3]+class_1[3]+class_2[3]+class_3[3])\n",
        "sum_2017=int(class_0[4]+class_1[4]+class_2[4]+class_3[4])\n",
        "sum_2018=int(class_0[5]+class_1[5]+class_2[5]+class_3[5])\n",
        "sum_2019=int(class_0[6]+class_1[6]+class_2[6]+class_3[6])\n",
        "sum_2020=int(class_0[7]+class_1[7]+class_2[7]+class_3[7])\n",
        "sum_2021=int(class_0[8]+class_1[8]+class_2[8]+class_3[8])\n",
        "sum_2022=int(class_0[9]+class_1[9]+class_2[9]+class_3[9])\n",
        "sum_2023=int(class_0[10]+class_1[10]+class_2[10]+class_3[10])\n",
        "# set height of bar\n",
        "Water = [class_0[0]/sum_2013, class_0[1]/sum_2014, class_0[2]/sum_2015, class_0[3]/sum_2016, class_0[4]/sum_2017,class_0[5]/sum_2018, class_0[6]/sum_2019, class_0[7]/sum_2020, class_0[8]/sum_2021,class_0[9]/sum_2022,class_0[10]/sum_2023]\n",
        "BS = [class_1[0]/sum_2013, class_1[1]/sum_2014, class_1[2]/sum_2015, class_1[3]/sum_2016, class_1[4]/sum_2017,class_1[5]/sum_2018, class_1[6]/sum_2019, class_1[7]/sum_2020, class_1[8]/sum_2021,class_1[9]/sum_2022,class_1[10]/sum_2023]\n",
        "LF = [class_2[0]/sum_2013, class_2[1]/sum_2014, class_2[2]/sum_2015, class_2[3]/sum_2016, class_2[4]/sum_2017,class_2[5]/sum_2018, class_2[6]/sum_2019, class_2[7]/sum_2020, class_2[8]/sum_2021,class_2[9]/sum_2022,class_2[10]/sum_2023]\n",
        "DF = [class_3[0]/sum_2013, class_3[1]/sum_2014, class_3[2]/sum_2015, class_3[3]/sum_2016, class_3[4]/sum_2017,class_3[5]/sum_2018, class_3[6]/sum_2019, class_3[7]/sum_2020, class_3[8]/sum_2021,class_3[9]/sum_2022,class_3[10]/sum_2023]\n",
        "\n",
        "# Set position of bar on X axis\n",
        "br1 = np.arange(len(Water))\n",
        "br2 = [x + barWidth for x in br1]\n",
        "br3 = [x + barWidth for x in br2]\n",
        "br4 = [x + barWidth for x in br3]\n",
        "\n",
        "# Make the plot\n",
        "plt.bar(br1, [x*100 for x in Water], color ='b', width = barWidth,\n",
        "\t\tedgecolor ='black', label ='Water')\n",
        "plt.bar(br2, [x*100 for x in BS], color ='orange', width = barWidth,\n",
        "\t\tedgecolor ='grey', label ='Bare Soil')\n",
        "plt.bar(br3, [x*100 for x in DF], color ='g', width = barWidth,\n",
        "\t\tedgecolor ='grey', label ='Dence Forest')\n",
        "plt.bar(br4, [x*100 for x in  LF], color ='lightgreen', width = barWidth,\n",
        "\t\tedgecolor ='grey', label ='Light Forest')\n",
        "# Adding Xticks\n",
        "plt.xlabel('Years', fontweight ='bold', fontsize = 15)\n",
        "plt.ylabel('Class Percentage ', fontweight ='bold', fontsize = 15)\n",
        "plt.xticks([r + barWidth for r in range(len(Water))],\n",
        "\t\t['2013','2014','2015', '2016', '2017', '2018', '2019','2020','2021','2022','2023'])\n",
        "\n",
        "plt.legend()\n",
        "plt.show()"
      ],
      "metadata": {
        "colab": {
          "base_uri": "https://localhost:8080/",
          "height": 656
        },
        "id": "kyd0mzx81ylj",
        "outputId": "7ca59ff1-f906-4560-f0b7-5f805142a054"
      },
      "execution_count": 259,
      "outputs": [
        {
          "output_type": "display_data",
          "data": {
            "text/plain": [
              "<IPython.core.display.HTML object>"
            ],
            "text/html": [
              "\n",
              "            <style>\n",
              "                .geemap-dark {\n",
              "                    --jp-widgets-color: white;\n",
              "                    --jp-widgets-label-color: white;\n",
              "                    --jp-ui-font-color1: white;\n",
              "                    --jp-layout-color2: #454545;\n",
              "                    background-color: #383838;\n",
              "                }\n",
              "\n",
              "                .geemap-dark .jupyter-button {\n",
              "                    --jp-layout-color3: #383838;\n",
              "                }\n",
              "\n",
              "                .geemap-colab {\n",
              "                    background-color: var(--colab-primary-surface-color, white);\n",
              "                }\n",
              "\n",
              "                .geemap-colab .jupyter-button {\n",
              "                    --jp-layout-color3: var(--colab-primary-surface-color, white);\n",
              "                }\n",
              "            </style>\n",
              "            "
            ]
          },
          "metadata": {}
        },
        {
          "output_type": "display_data",
          "data": {
            "text/plain": [
              "<Figure size 2500x1000 with 1 Axes>"
            ],
            "image/png": "[encoded data removed]"
          },
          "metadata": {}
        }
      ]
    },
    {
      "cell_type": "markdown",
      "source": [
        "# CALCULATING THE CHANGES IN THE TIMELINES OF INTEREST"
      ],
      "metadata": {
        "id": "q4956VpQ-pgp"
      }
    },
    {
      "cell_type": "code",
      "source": [
        "Map = geemap.Map()\n",
        "Map.centerObject(region, 9)\n",
        "\n",
        "# Apply the mask to set class 0 pixels to NaN\n",
        "diff_2022_23 = (clasified_2023.subtract(clasified_2023.eq(0))).subtract(clasified_2022.subtract(clasified_2022.eq(0)))\n",
        "diff_2013_14 = (clasified_2014.subtract(clasified_2014.eq(0))).subtract(clasified_2013.subtract(clasified_2013.eq(0)))\n",
        "diff_2014_16 = (clasified_2016.subtract(clasified_2016.eq(0))).subtract(clasified_2014.subtract(clasified_2014.eq(0)))\n",
        "diff_2016_20 = (clasified_2020.subtract(clasified_2020.eq(0))).subtract(clasified_2016.subtract(clasified_2016.eq(0)))\n",
        "diff_2020_21 = (clasified_2021.subtract(clasified_2021.eq(0))).subtract(clasified_2020.subtract(clasified_2020.eq(0)))\n",
        "# Calculate pixel-wise difference\n",
        "\n",
        "landcover_palette_2 = [\n",
        "    'ff7f00',  # Class 1: bare_land\n",
        "    '70BC6D',  # Class 2: light_forest\n",
        "    '2c4b2b',  # Class 3: dense_forest\n",
        "\n",
        "]\n",
        "\n",
        "vis_parameters_class_2 = {'palette': landcover_palette_2,'min':1,'max':3 }\n",
        "\n",
        "\n",
        "palette = [\n",
        "    '8b0000',  # Class -2: bare_land\n",
        "    'FFA500',  # Class -1: light_forest\n",
        "    'FFFFFF',  # Class 0: dense_forest\n",
        "    '0076f0',  # Class 1: water\n",
        "    '001f3f',  # Class 2: bare_land\n",
        "\n",
        "]\n",
        "# Display the difference\n",
        "\n",
        "\n",
        "Map.addLayer(diff_2022_23, {'min': -2, 'max': 2, 'palette': palette}, 'Difference 2022-23')\n",
        "Map.addLayer(diff_2013_14, {'min': -2, 'max': 2, 'palette': palette}, 'Difference 2013-14')\n",
        "Map.addLayer(diff_2014_16, {'min': -2, 'max': 2, 'palette': palette}, 'Difference 2014-16')\n",
        "Map.addLayer(diff_2016_20, {'min': -2, 'max': 2, 'palette': palette}, 'Difference 2016-20')\n",
        "Map.addLayer(diff_2020_21, {'min': -2, 'max': 2, 'palette': palette}, 'Difference 2020 21')\n",
        "\n",
        "Map.addLayerControl()\n",
        "\n",
        "Map"
      ],
      "metadata": {
        "colab": {
          "base_uri": "https://localhost:8080/",
          "height": 621,
          "referenced_widgets": [
            "d5609a52d9ea4b44957e609ac2674843",
            "c1f19251f7464c49951b735ba5a50bc7",
            "dff682bff63443c3b62028f44d8e147e",
            "9170982d8f304e2f9d18881b8cff1667",
            "9ad8448602354cb38c1cc0b3b689112a",
            "8a98a2444c4c4d958a2d2cbcf91fbf78",
            "38ed4404dac2459d9018e8bb33abd5d3",
            "10b83eadfb22427a8aeb6682ec7ad30b",
            "ca10d0bebe1a40bfae8f8938af9fbfb7",
            "78e70585fa354b24b6f5e8b325e9bb3f",
            "bcc14de1308143ddacce7e00365e15fc",
            "238943d2e83a4b089ff487b7719e1ed6",
            "87a5c4c58e8a48cf852588e58c9f4936",
            "3ee9c8a3d2ef461abae4eaf9a430cb01",
            "6809995c36e547c7a18ad99dce937f83",
            "4275efaa95e54ba690c0c85653b7e68c",
            "371865dadfed4eabbc37f7d5685f6d6c",
            "f6a0afe6bcfb4e83b6265c243f20565c",
            "8eb5c737261b422fa835fcf9ca9ca9ba",
            "9137c3d50ae94552badb94c85769b3d2",
            "07a6df63a319407c99cf917014f1c682",
            "3919eede7b4a4577a0c4fc86333dec1d",
            "9e32022ff6d94240b94b8ed17a6e0cd7",
            "0b0039d514a14a7dab6f5e4555aa7834",
            "c1b20b87fa6f4310a33a530b834f413c",
            "857fe2724177461ab77309820d946294",
            "b3de7c1b1c8b4e2080380f3a8d312c4c",
            "60039df945d845c6be1207dfe1630cac",
            "ebe8b4094b8d4a0b9a70aa6569f0e0ad",
            "34caa2d2c4cd446b8156255385d9d3e7"
          ]
        },
        "id": "-E0HyIok2A-N",
        "outputId": "0d997c1d-c06e-4536-e52e-c1cea1fc6f14"
      },
      "execution_count": 260,
      "outputs": [
        {
          "output_type": "display_data",
          "data": {
            "text/plain": [
              "<IPython.core.display.HTML object>"
            ],
            "text/html": [
              "\n",
              "            <style>\n",
              "                .geemap-dark {\n",
              "                    --jp-widgets-color: white;\n",
              "                    --jp-widgets-label-color: white;\n",
              "                    --jp-ui-font-color1: white;\n",
              "                    --jp-layout-color2: #454545;\n",
              "                    background-color: #383838;\n",
              "                }\n",
              "\n",
              "                .geemap-dark .jupyter-button {\n",
              "                    --jp-layout-color3: #383838;\n",
              "                }\n",
              "\n",
              "                .geemap-colab {\n",
              "                    background-color: var(--colab-primary-surface-color, white);\n",
              "                }\n",
              "\n",
              "                .geemap-colab .jupyter-button {\n",
              "                    --jp-layout-color3: var(--colab-primary-surface-color, white);\n",
              "                }\n",
              "            </style>\n",
              "            "
            ]
          },
          "metadata": {}
        },
        {
          "output_type": "display_data",
          "data": {
            "text/plain": [
              "Map(center=[41.214298237495086, 26.166221754653815], controls=(WidgetControl(options=['position', 'transparent…"
            ],
            "application/vnd.jupyter.widget-view+json": {
              "version_major": 2,
              "version_minor": 0,
              "model_id": "d5609a52d9ea4b44957e609ac2674843"
            }
          },
          "metadata": {
            "application/vnd.jupyter.widget-view+json": {
              "colab": {
                "custom_widget_manager": {
                  "url": "https://ssl.gstatic.com/colaboratory-static/widgets/colab-cdn-widget-manager/2b70e893a8ba7c0f/manager.min.js"
                }
              }
            }
          }
        }
      ]
    },
    {
      "cell_type": "code",
      "execution_count": 267,
      "metadata": {
        "id": "0CY8H7cugaaE",
        "colab": {
          "base_uri": "https://localhost:8080/",
          "height": 455
        },
        "outputId": "54747055-edc7-4710-c199-69bf68603bdd"
      },
      "outputs": [
        {
          "output_type": "display_data",
          "data": {
            "text/plain": [
              "<IPython.core.display.HTML object>"
            ],
            "text/html": [
              "\n",
              "            <style>\n",
              "                .geemap-dark {\n",
              "                    --jp-widgets-color: white;\n",
              "                    --jp-widgets-label-color: white;\n",
              "                    --jp-ui-font-color1: white;\n",
              "                    --jp-layout-color2: #454545;\n",
              "                    background-color: #383838;\n",
              "                }\n",
              "\n",
              "                .geemap-dark .jupyter-button {\n",
              "                    --jp-layout-color3: #383838;\n",
              "                }\n",
              "\n",
              "                .geemap-colab {\n",
              "                    background-color: var(--colab-primary-surface-color, white);\n",
              "                }\n",
              "\n",
              "                .geemap-colab .jupyter-button {\n",
              "                    --jp-layout-color3: var(--colab-primary-surface-color, white);\n",
              "                }\n",
              "            </style>\n",
              "            "
            ]
          },
          "metadata": {}
        },
        {
          "output_type": "stream",
          "name": "stdout",
          "text": [
            "####################### 2023-22 ############################\n",
            "395.4321 km^2    FOR -2\n",
            "346.9392 km^2    FOR -1\n",
            "1441.215 km^2    FOR 0\n",
            "65.4219 km^2     FOR 1\n",
            "18.8379 km^2     FOR 2\n",
            "####################### 2014-13 ############################\n",
            "22.1211 km^2      FOR -2\n",
            "172.701 km^2      FOR -1\n",
            "154.13922 km^2    FOR 0\n",
            "421.9803 km^2     FOR 1\n",
            "165.852 km^2      FOR 2\n",
            "####################### 2016-14 ############################\n",
            "41.9112 km^2      FOR -2\n",
            "697.9059 km^2     FOR -1\n",
            "1450.8171 km^2    FOR 0\n",
            "138.6576 km^2     FOR 1\n",
            "25.3647 km^2      FOR 2\n",
            "####################### 2021-20 ############################\n",
            "648.441 km^2     FOR -2\n",
            "3491.703 km^2    FOR -1\n",
            "1798.6518 km^2   FOR 0\n",
            "117.315 km^2     FOR 1\n",
            "32.1759 km^2     FOR 2\n"
          ]
        }
      ],
      "source": [
        "pix_2022_23=calculate_pixels(diff_2022_23,region)\n",
        "pix_2013_14=calculate_pixels(diff_2013_14,region)\n",
        "pix_2014_16=calculate_pixels(diff_2014_16,region)\n",
        "pix_2020_21=calculate_pixels(diff_2020_21,region)\n",
        "print('####################### 2023-22 ############################')\n",
        "print(int(pix_2022_23['classification']['-2'])*900/1000000 ,'km^2    FOR -2')\n",
        "print(int(pix_2022_23['classification']['-1'])*900/1000000 ,'km^2    FOR -1')\n",
        "print(int(pix_2022_23['classification']['0'])*900/1000000 , 'km^2    FOR 0')\n",
        "print(int(pix_2022_23['classification']['1'])*900/1000000 , 'km^2     FOR 1')\n",
        "print(int(pix_2022_23['classification']['2'])*900/1000000 , 'km^2     FOR 2')\n",
        "print('####################### 2014-13 ############################')\n",
        "print(int(pix_2013_14['classification']['-2'])*900/1000000 , 'km^2      FOR -2')\n",
        "print(int(pix_2013_14['classification']['-1'])*900/1000000 , 'km^2      FOR -1')\n",
        "print(int(pix_2013_14['classification']['0'])*900/10000000 , 'km^2    FOR 0')\n",
        "print(int(pix_2013_14['classification']['1'])*900/1000000 ,  'km^2     FOR 1')\n",
        "print(int(pix_2013_14['classification']['2'])*900/1000000 ,  'km^2      FOR 2')\n",
        "print('####################### 2016-14 ############################')\n",
        "print(int(pix_2014_16['classification']['-2'])*900/1000000 ,'km^2      FOR -2')\n",
        "print(int(pix_2014_16['classification']['-1'])*900/1000000 ,'km^2     FOR -1')\n",
        "print(int(pix_2014_16['classification']['0'])*900/1000000 , 'km^2    FOR 0')\n",
        "print(int(pix_2014_16['classification']['1'])*900/1000000 , 'km^2     FOR 1')\n",
        "print(int(pix_2014_16['classification']['2'])*900/1000000 , 'km^2      FOR 2')\n",
        "print('####################### 2021-20 ############################')\n",
        "print(int(pix_2020_21['classification']['-2'])*900/100000 , 'km^2     FOR -2')\n",
        "print(int(pix_2020_21['classification']['-1'])*900/100000 , 'km^2    FOR -1')\n",
        "print(int(pix_2020_21['classification']['0'])*900/1000000 , 'km^2   FOR 0')\n",
        "print(int(pix_2020_21['classification']['1'])*900/1000000 , 'km^2     FOR 1')\n",
        "print(int(pix_2020_21['classification']['2'])*900/1000000 , 'km^2     FOR 2')"
      ]
    }
  ]
}